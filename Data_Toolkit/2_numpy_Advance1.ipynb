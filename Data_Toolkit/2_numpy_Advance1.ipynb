{
 "cells": [
  {
   "cell_type": "code",
   "execution_count": 4,
   "id": "8ef415ad-63f8-406e-be30-7da286a7f45b",
   "metadata": {},
   "outputs": [],
   "source": [
    "import numpy as np"
   ]
  },
  {
   "cell_type": "code",
   "execution_count": 5,
   "id": "edd301ee-abbe-4d20-8de8-fe54ce5776ce",
   "metadata": {},
   "outputs": [],
   "source": [
    "a = np.zeros(5)  #Return a new array of given shape and type, filled with zeros.\n"
   ]
  },
  {
   "cell_type": "code",
   "execution_count": 6,
   "id": "0656ade7-bad0-4863-933c-0c2226babe1d",
   "metadata": {},
   "outputs": [
    {
     "data": {
      "text/plain": [
       "array([0., 0., 0., 0., 0.])"
      ]
     },
     "execution_count": 6,
     "metadata": {},
     "output_type": "execute_result"
    }
   ],
   "source": [
    "a"
   ]
  },
  {
   "cell_type": "code",
   "execution_count": 7,
   "id": "407f3528-0af2-4e09-b47b-fd495c63e7ef",
   "metadata": {},
   "outputs": [
    {
     "data": {
      "text/plain": [
       "1"
      ]
     },
     "execution_count": 7,
     "metadata": {},
     "output_type": "execute_result"
    }
   ],
   "source": [
    "a.ndim"
   ]
  },
  {
   "cell_type": "code",
   "execution_count": 8,
   "id": "e1fb523b-9655-46f7-930b-0a4d102b720b",
   "metadata": {},
   "outputs": [],
   "source": [
    "b  = np.zeros((3,4))"
   ]
  },
  {
   "cell_type": "code",
   "execution_count": 9,
   "id": "667778d5-ee80-41e2-bd0a-9a04e0a5a322",
   "metadata": {},
   "outputs": [
    {
     "data": {
      "text/plain": [
       "array([[0., 0., 0., 0.],\n",
       "       [0., 0., 0., 0.],\n",
       "       [0., 0., 0., 0.]])"
      ]
     },
     "execution_count": 9,
     "metadata": {},
     "output_type": "execute_result"
    }
   ],
   "source": [
    "b"
   ]
  },
  {
   "cell_type": "code",
   "execution_count": 10,
   "id": "9835e2d7-fcaa-4544-b68c-f0a975af2e1b",
   "metadata": {},
   "outputs": [
    {
     "data": {
      "text/plain": [
       "2"
      ]
     },
     "execution_count": 10,
     "metadata": {},
     "output_type": "execute_result"
    }
   ],
   "source": [
    "b.ndim"
   ]
  },
  {
   "cell_type": "code",
   "execution_count": 11,
   "id": "9c7d1a61-3dde-4cb6-82c3-32259ad8b113",
   "metadata": {},
   "outputs": [],
   "source": [
    "#for all the values to be 1\n",
    "\n",
    "c = np.ones((3,4))  #Return a new array of given shape and type, filled with ones.\n"
   ]
  },
  {
   "cell_type": "code",
   "execution_count": 12,
   "id": "c2386069-5b8a-4840-b1c7-7ece1c93085b",
   "metadata": {},
   "outputs": [
    {
     "data": {
      "text/plain": [
       "2"
      ]
     },
     "execution_count": 12,
     "metadata": {},
     "output_type": "execute_result"
    }
   ],
   "source": [
    "c.ndim"
   ]
  },
  {
   "cell_type": "code",
   "execution_count": 13,
   "id": "7d7a72b5-7045-477a-a025-fd4ec7ced2ea",
   "metadata": {},
   "outputs": [
    {
     "ename": "AttributeError",
     "evalue": "module 'numpy' has no attribute 'twos'",
     "output_type": "error",
     "traceback": [
      "\u001b[1;31m---------------------------------------------------------------------------\u001b[0m",
      "\u001b[1;31mAttributeError\u001b[0m                            Traceback (most recent call last)",
      "Cell \u001b[1;32mIn[13], line 3\u001b[0m\n\u001b[0;32m      1\u001b[0m \u001b[38;5;66;03m#if we want to have every element to be 2>> there is no any function for it\u001b[39;00m\n\u001b[1;32m----> 3\u001b[0m np\u001b[38;5;241m.\u001b[39mtwos(\u001b[38;5;241m5\u001b[39m)\n",
      "File \u001b[1;32mC:\\ProgramData\\anaconda3\\Lib\\site-packages\\numpy\\__init__.py:333\u001b[0m, in \u001b[0;36m__getattr__\u001b[1;34m(attr)\u001b[0m\n\u001b[0;32m    330\u001b[0m     \u001b[38;5;124m\"\u001b[39m\u001b[38;5;124mRemoved in NumPy 1.25.0\u001b[39m\u001b[38;5;124m\"\u001b[39m\n\u001b[0;32m    331\u001b[0m     \u001b[38;5;28;01mraise\u001b[39;00m \u001b[38;5;167;01mRuntimeError\u001b[39;00m(\u001b[38;5;124m\"\u001b[39m\u001b[38;5;124mTester was removed in NumPy 1.25.\u001b[39m\u001b[38;5;124m\"\u001b[39m)\n\u001b[1;32m--> 333\u001b[0m \u001b[38;5;28;01mraise\u001b[39;00m \u001b[38;5;167;01mAttributeError\u001b[39;00m(\u001b[38;5;124m\"\u001b[39m\u001b[38;5;124mmodule \u001b[39m\u001b[38;5;132;01m{!r}\u001b[39;00m\u001b[38;5;124m has no attribute \u001b[39m\u001b[38;5;124m\"\u001b[39m\n\u001b[0;32m    334\u001b[0m                      \u001b[38;5;124m\"\u001b[39m\u001b[38;5;132;01m{!r}\u001b[39;00m\u001b[38;5;124m\"\u001b[39m\u001b[38;5;241m.\u001b[39mformat(\u001b[38;5;18m__name__\u001b[39m, attr))\n",
      "\u001b[1;31mAttributeError\u001b[0m: module 'numpy' has no attribute 'twos'"
     ]
    }
   ],
   "source": [
    "#if we want to have every element to be 2>> there is no any function for it\n",
    "\n",
    "np.twos(5)  #doesnot exist in numpy"
   ]
  },
  {
   "cell_type": "code",
   "execution_count": 14,
   "id": "0cdecbf6-4edb-4fe7-afd6-dc5b535a64f4",
   "metadata": {},
   "outputs": [],
   "source": [
    "#so, in that case we have to actually difine numpy array and give all element to 2"
   ]
  },
  {
   "cell_type": "code",
   "execution_count": 15,
   "id": "6f411ee6-e76f-4900-97bb-1ad935b00010",
   "metadata": {},
   "outputs": [
    {
     "data": {
      "text/plain": [
       "array([2, 2, 2])"
      ]
     },
     "execution_count": 15,
     "metadata": {},
     "output_type": "execute_result"
    }
   ],
   "source": [
    "np.array([2,2,2])"
   ]
  },
  {
   "cell_type": "code",
   "execution_count": 16,
   "id": "95cb7d14-e8c3-4b06-a50f-4902b4fee148",
   "metadata": {},
   "outputs": [
    {
     "data": {
      "text/plain": [
       "array([[2, 2, 2],\n",
       "       [2, 2, 2]])"
      ]
     },
     "execution_count": 16,
     "metadata": {},
     "output_type": "execute_result"
    }
   ],
   "source": [
    "np.array([[2,2,2], [2,2,2]])"
   ]
  },
  {
   "cell_type": "code",
   "execution_count": null,
   "id": "952eb684-8394-4efb-9f9e-83ade528376e",
   "metadata": {},
   "outputs": [],
   "source": []
  },
  {
   "cell_type": "code",
   "execution_count": null,
   "id": "1bc8390e-5cc5-4876-ad39-d89ec6482dd8",
   "metadata": {},
   "outputs": [],
   "source": []
  },
  {
   "cell_type": "code",
   "execution_count": null,
   "id": "7d3ff15b-e37c-4eda-849f-1d672358309e",
   "metadata": {},
   "outputs": [],
   "source": []
  },
  {
   "cell_type": "code",
   "execution_count": 17,
   "id": "91ba1fea-bcfd-47d4-96c3-ccea285302ad",
   "metadata": {},
   "outputs": [],
   "source": [
    "arr= np.zeros((3,4))"
   ]
  },
  {
   "cell_type": "code",
   "execution_count": 18,
   "id": "2e7e33f6-bd0c-409a-b34e-c578ab18f116",
   "metadata": {},
   "outputs": [
    {
     "data": {
      "text/plain": [
       "array([[0., 0., 0., 0.],\n",
       "       [0., 0., 0., 0.],\n",
       "       [0., 0., 0., 0.]])"
      ]
     },
     "execution_count": 18,
     "metadata": {},
     "output_type": "execute_result"
    }
   ],
   "source": [
    "arr"
   ]
  },
  {
   "cell_type": "code",
   "execution_count": 19,
   "id": "a94e226b-4506-43e1-a6a1-c7ab73a926b9",
   "metadata": {},
   "outputs": [
    {
     "data": {
      "text/plain": [
       "2"
      ]
     },
     "execution_count": 19,
     "metadata": {},
     "output_type": "execute_result"
    }
   ],
   "source": [
    "arr.ndim"
   ]
  },
  {
   "cell_type": "code",
   "execution_count": 20,
   "id": "f9cd443d-49e9-4ca6-ac46-2ae2670ffca6",
   "metadata": {},
   "outputs": [],
   "source": [
    "#but we want to of 3 dimension"
   ]
  },
  {
   "cell_type": "code",
   "execution_count": null,
   "id": "e4c91af9-1ad2-49e5-9a05-951b2a02df20",
   "metadata": {},
   "outputs": [],
   "source": []
  },
  {
   "cell_type": "code",
   "execution_count": 21,
   "id": "e4506f61-a85f-4930-8ae8-4f02b6906a32",
   "metadata": {},
   "outputs": [],
   "source": [
    "# 3 dimensional array>>"
   ]
  },
  {
   "cell_type": "code",
   "execution_count": 22,
   "id": "e565f167-c92d-44c5-824b-e880b211787c",
   "metadata": {},
   "outputs": [],
   "source": [
    "\n",
    "#when ever we put (3,4) >> it means 3 rows and 4 column"
   ]
  },
  {
   "cell_type": "code",
   "execution_count": 23,
   "id": "e933175b-4ac0-45df-9dc8-397d7a2b48ce",
   "metadata": {},
   "outputs": [
    {
     "data": {
      "text/plain": [
       "array([[0., 0., 0., 0.],\n",
       "       [0., 0., 0., 0.],\n",
       "       [0., 0., 0., 0.]])"
      ]
     },
     "execution_count": 23,
     "metadata": {},
     "output_type": "execute_result"
    }
   ],
   "source": [
    "np.zeros((3,4))  #it is 2d array"
   ]
  },
  {
   "cell_type": "code",
   "execution_count": 24,
   "id": "88398a7b-ca9f-4132-ad9e-30e9b77ad6f9",
   "metadata": {},
   "outputs": [
    {
     "data": {
      "text/plain": [
       "array([0.])"
      ]
     },
     "execution_count": 24,
     "metadata": {},
     "output_type": "execute_result"
    }
   ],
   "source": [
    "#but\n",
    "np.zeros(1)  #this is 1 dimensional"
   ]
  },
  {
   "cell_type": "code",
   "execution_count": 25,
   "id": "de207e34-753b-47d7-add1-5cbc627d935f",
   "metadata": {},
   "outputs": [],
   "source": [
    "arr= np.zeros((3,4))"
   ]
  },
  {
   "cell_type": "code",
   "execution_count": 26,
   "id": "57a4d472-1cd2-4d64-8f08-35db0afd77c8",
   "metadata": {},
   "outputs": [
    {
     "data": {
      "text/plain": [
       "2"
      ]
     },
     "execution_count": 26,
     "metadata": {},
     "output_type": "execute_result"
    }
   ],
   "source": [
    "arr.ndim"
   ]
  },
  {
   "cell_type": "code",
   "execution_count": 27,
   "id": "0c5b83bc-7b23-4d4a-b67d-ecaed2e52514",
   "metadata": {},
   "outputs": [],
   "source": [
    "#now we want this array should be 3 dimensional>>\n"
   ]
  },
  {
   "cell_type": "code",
   "execution_count": 28,
   "id": "f7e357a9-e315-4b89-8f0c-c8c94450cf84",
   "metadata": {},
   "outputs": [],
   "source": [
    "arr = np.zeros((1, 3, 4))  #this 3, 4>> means 3 rows and 4 column and one extra outer dimension 1"
   ]
  },
  {
   "cell_type": "code",
   "execution_count": 29,
   "id": "46fe1f3f-622d-4fc6-80d5-3a3f530d897f",
   "metadata": {},
   "outputs": [
    {
     "data": {
      "text/plain": [
       "array([[[0., 0., 0., 0.],\n",
       "        [0., 0., 0., 0.],\n",
       "        [0., 0., 0., 0.]]])"
      ]
     },
     "execution_count": 29,
     "metadata": {},
     "output_type": "execute_result"
    }
   ],
   "source": [
    "arr"
   ]
  },
  {
   "cell_type": "code",
   "execution_count": 30,
   "id": "aac5d3b1-622c-43f9-b0f2-8f29b0c88725",
   "metadata": {},
   "outputs": [],
   "source": [
    "#now we can see 3 square bracket it means now it 3 dimension array"
   ]
  },
  {
   "cell_type": "code",
   "execution_count": 31,
   "id": "ac96e6a0-2f64-4fd8-a734-ccc31918c241",
   "metadata": {},
   "outputs": [],
   "source": [
    "#we can not able to visulize it"
   ]
  },
  {
   "cell_type": "code",
   "execution_count": 32,
   "id": "2f710627-f3ad-4f13-a49f-c8b13afefec4",
   "metadata": {},
   "outputs": [
    {
     "data": {
      "text/plain": [
       "3"
      ]
     },
     "execution_count": 32,
     "metadata": {},
     "output_type": "execute_result"
    }
   ],
   "source": [
    "arr.ndim"
   ]
  },
  {
   "cell_type": "code",
   "execution_count": 33,
   "id": "ccf62393-ef82-4649-b7ad-992db2cc5769",
   "metadata": {},
   "outputs": [],
   "source": [
    "#now it cleary 3 d "
   ]
  },
  {
   "cell_type": "code",
   "execution_count": null,
   "id": "f1baca05-1145-4352-b349-e470d4a1b96c",
   "metadata": {},
   "outputs": [],
   "source": []
  },
  {
   "cell_type": "code",
   "execution_count": null,
   "id": "10274b25-4911-4b43-a480-237711a6e25e",
   "metadata": {},
   "outputs": [],
   "source": []
  },
  {
   "cell_type": "code",
   "execution_count": 34,
   "id": "5e1e00d6-e747-46e6-9335-c461b19e3c81",
   "metadata": {},
   "outputs": [],
   "source": [
    "#if want to of more dimension>>\n",
    "arr =  np.zeros((1, 1, 3, 4))  #we will increase one extra outer dimension 1"
   ]
  },
  {
   "cell_type": "code",
   "execution_count": 35,
   "id": "ff8b1771-5315-474f-9d84-d7a811b01dac",
   "metadata": {},
   "outputs": [
    {
     "data": {
      "text/plain": [
       "array([[[[0., 0., 0., 0.],\n",
       "         [0., 0., 0., 0.],\n",
       "         [0., 0., 0., 0.]]]])"
      ]
     },
     "execution_count": 35,
     "metadata": {},
     "output_type": "execute_result"
    }
   ],
   "source": [
    "arr"
   ]
  },
  {
   "cell_type": "code",
   "execution_count": 36,
   "id": "c43fcc10-3614-43b2-a648-de05d084b7e5",
   "metadata": {},
   "outputs": [],
   "source": [
    "#now we can see 4 square bracket so it is of 4 dimensions"
   ]
  },
  {
   "cell_type": "code",
   "execution_count": 37,
   "id": "63b504fa-e14f-4419-a443-c66590b1d051",
   "metadata": {},
   "outputs": [
    {
     "data": {
      "text/plain": [
       "4"
      ]
     },
     "execution_count": 37,
     "metadata": {},
     "output_type": "execute_result"
    }
   ],
   "source": [
    "arr.ndim"
   ]
  },
  {
   "cell_type": "code",
   "execution_count": 38,
   "id": "607c242c-df64-40fc-b075-077c421f8451",
   "metadata": {},
   "outputs": [],
   "source": [
    "#now increasing 1 more dimension>>\n",
    "arr =  np.zeros((1, 1, 1, 3, 4)) "
   ]
  },
  {
   "cell_type": "code",
   "execution_count": 39,
   "id": "6eb6a389-192e-49d0-a6aa-3b945873190d",
   "metadata": {},
   "outputs": [
    {
     "data": {
      "text/plain": [
       "array([[[[[0., 0., 0., 0.],\n",
       "          [0., 0., 0., 0.],\n",
       "          [0., 0., 0., 0.]]]]])"
      ]
     },
     "execution_count": 39,
     "metadata": {},
     "output_type": "execute_result"
    }
   ],
   "source": [
    "arr"
   ]
  },
  {
   "cell_type": "code",
   "execution_count": 40,
   "id": "dad9bffc-3256-4f69-8275-d15c97b182df",
   "metadata": {},
   "outputs": [],
   "source": [
    "#now we can see it has 5 dimension as it have 5 square bracket "
   ]
  },
  {
   "cell_type": "code",
   "execution_count": 41,
   "id": "bf9a59b9-2620-4b98-b82e-37fdbf0983cf",
   "metadata": {},
   "outputs": [
    {
     "data": {
      "text/plain": [
       "5"
      ]
     },
     "execution_count": 41,
     "metadata": {},
     "output_type": "execute_result"
    }
   ],
   "source": [
    "arr.ndim"
   ]
  },
  {
   "cell_type": "code",
   "execution_count": null,
   "id": "6491e7f0-977c-4fdc-954d-73a22d575058",
   "metadata": {},
   "outputs": [],
   "source": []
  },
  {
   "cell_type": "code",
   "execution_count": null,
   "id": "3a6c960c-1f3d-417b-9152-da1f288bfb06",
   "metadata": {},
   "outputs": [],
   "source": []
  },
  {
   "cell_type": "code",
   "execution_count": null,
   "id": "f8d03e14-841d-4f34-99e0-ede465e75db1",
   "metadata": {},
   "outputs": [],
   "source": []
  },
  {
   "cell_type": "code",
   "execution_count": 42,
   "id": "102580b6-654c-4588-a350-2d5e216940de",
   "metadata": {},
   "outputs": [],
   "source": [
    "#SOME OTHER METHOD TO GENERATE AN ARRAY>>"
   ]
  },
  {
   "cell_type": "code",
   "execution_count": 43,
   "id": "9c2bc95e-364b-435a-8eee-ad5d36bfc390",
   "metadata": {},
   "outputs": [],
   "source": [
    "arr = np.ones((3,4))"
   ]
  },
  {
   "cell_type": "code",
   "execution_count": 44,
   "id": "3af5c9b3-7984-4baf-8ebc-f9a45668309e",
   "metadata": {},
   "outputs": [
    {
     "data": {
      "text/plain": [
       "2"
      ]
     },
     "execution_count": 44,
     "metadata": {},
     "output_type": "execute_result"
    }
   ],
   "source": [
    "arr.ndim"
   ]
  },
  {
   "cell_type": "code",
   "execution_count": 45,
   "id": "05ab2a2e-1314-494e-bb08-d71fde8d3eb5",
   "metadata": {},
   "outputs": [
    {
     "data": {
      "text/plain": [
       "(3, 4)"
      ]
     },
     "execution_count": 45,
     "metadata": {},
     "output_type": "execute_result"
    }
   ],
   "source": [
    "arr.shape"
   ]
  },
  {
   "cell_type": "code",
   "execution_count": 46,
   "id": "2c7832c2-f402-4fb5-a3f5-761830d8842c",
   "metadata": {},
   "outputs": [
    {
     "data": {
      "text/plain": [
       "array([[1., 1., 1., 1.],\n",
       "       [1., 1., 1., 1.],\n",
       "       [1., 1., 1., 1.]])"
      ]
     },
     "execution_count": 46,
     "metadata": {},
     "output_type": "execute_result"
    }
   ],
   "source": [
    "arr"
   ]
  },
  {
   "cell_type": "code",
   "execution_count": 47,
   "id": "86e0d3c7-8bb3-4de4-9f72-8eb9fd451fd0",
   "metadata": {},
   "outputs": [
    {
     "data": {
      "text/plain": [
       "array([[6., 6., 6., 6.],\n",
       "       [6., 6., 6., 6.],\n",
       "       [6., 6., 6., 6.]])"
      ]
     },
     "execution_count": 47,
     "metadata": {},
     "output_type": "execute_result"
    }
   ],
   "source": [
    "#if we want to add every element of this array with 5>>\n",
    "\n",
    "arr + 5  #indexwise it will add"
   ]
  },
  {
   "cell_type": "code",
   "execution_count": 48,
   "id": "34ff391b-8c73-4b6f-aff7-801d1b46f251",
   "metadata": {},
   "outputs": [
    {
     "data": {
      "text/plain": [
       "array([[5., 5., 5., 5.],\n",
       "       [5., 5., 5., 5.],\n",
       "       [5., 5., 5., 5.]])"
      ]
     },
     "execution_count": 48,
     "metadata": {},
     "output_type": "execute_result"
    }
   ],
   "source": [
    "arr * 5"
   ]
  },
  {
   "cell_type": "code",
   "execution_count": 49,
   "id": "c1220762-ab74-4a8c-b985-e8fdb9554664",
   "metadata": {},
   "outputs": [
    {
     "data": {
      "text/plain": [
       "array([[0., 0., 0., 0.],\n",
       "       [0., 0., 0., 0.],\n",
       "       [0., 0., 0., 0.]])"
      ]
     },
     "execution_count": 49,
     "metadata": {},
     "output_type": "execute_result"
    }
   ],
   "source": [
    "arr -1"
   ]
  },
  {
   "cell_type": "code",
   "execution_count": null,
   "id": "d4f8ff3b-f1a5-4f41-b54d-7e29f4a4d425",
   "metadata": {},
   "outputs": [],
   "source": []
  },
  {
   "cell_type": "code",
   "execution_count": null,
   "id": "3b8574b2-45d2-44cc-9991-f5d8f10c500a",
   "metadata": {},
   "outputs": [],
   "source": []
  },
  {
   "cell_type": "code",
   "execution_count": null,
   "id": "7406e573-c4b6-4570-bd6d-5979d52aa9b9",
   "metadata": {},
   "outputs": [],
   "source": []
  },
  {
   "cell_type": "code",
   "execution_count": 50,
   "id": "f91dbc2d-ddb8-4ee4-9e3c-943e5d1eb4c5",
   "metadata": {},
   "outputs": [
    {
     "data": {
      "text/plain": [
       "array([[1., 0., 0.],\n",
       "       [0., 1., 0.],\n",
       "       [0., 0., 1.]])"
      ]
     },
     "execution_count": 50,
     "metadata": {},
     "output_type": "execute_result"
    }
   ],
   "source": [
    "np.eye(3)   #Return a 2-D array with ones on the diagonal and zeros elsewhere."
   ]
  },
  {
   "cell_type": "code",
   "execution_count": 51,
   "id": "c10f75d8-c97e-4b74-b852-16a2273ed1be",
   "metadata": {},
   "outputs": [],
   "source": [
    "#it is very useful in calculating inverse of a matrix"
   ]
  },
  {
   "cell_type": "code",
   "execution_count": null,
   "id": "16dbb4c7-6b15-43f9-b05d-e887147b27e6",
   "metadata": {},
   "outputs": [],
   "source": []
  },
  {
   "cell_type": "code",
   "execution_count": 52,
   "id": "8cab88f2-8482-49e5-81a2-9012c862e8a0",
   "metadata": {},
   "outputs": [
    {
     "data": {
      "text/plain": [
       "array([[1, 0, 0],\n",
       "       [0, 1, 0],\n",
       "       [0, 0, 1]])"
      ]
     },
     "execution_count": 52,
     "metadata": {},
     "output_type": "execute_result"
    }
   ],
   "source": [
    "np.eye(3, dtype = int)  #if want elements in int"
   ]
  },
  {
   "cell_type": "code",
   "execution_count": null,
   "id": "ae98bd8a-8147-4fee-bc86-430545b62150",
   "metadata": {},
   "outputs": [],
   "source": []
  },
  {
   "cell_type": "code",
   "execution_count": 53,
   "id": "0f53854e-3888-42d3-97bb-37d4406b6276",
   "metadata": {},
   "outputs": [
    {
     "data": {
      "text/plain": [
       "array([[0., 0., 0., 0.],\n",
       "       [0., 0., 0., 0.],\n",
       "       [0., 0., 0., 0.]])"
      ]
     },
     "execution_count": 53,
     "metadata": {},
     "output_type": "execute_result"
    }
   ],
   "source": [
    "np.empty((3,4))  #Return a new array of given shape and type, without initializing entries."
   ]
  },
  {
   "cell_type": "code",
   "execution_count": 54,
   "id": "12ef03b2-2769-437f-8559-2f499f433c9e",
   "metadata": {},
   "outputs": [
    {
     "data": {
      "text/plain": [
       "array([[3.56043053e-307, 1.60219306e-306, 7.56571288e-307,\n",
       "        7.56587584e-307, 1.37961302e-306, 1.05699242e-307],\n",
       "       [8.01097889e-307, 1.78020169e-306, 7.56601165e-307,\n",
       "        1.02359984e-306, 1.42417221e-306, 9.34605037e-307],\n",
       "       [6.23059726e-307, 1.24612353e-306, 8.90092016e-307,\n",
       "        1.86919378e-306, 1.42410974e-306, 9.34608431e-307]])"
      ]
     },
     "execution_count": 54,
     "metadata": {},
     "output_type": "execute_result"
    }
   ],
   "source": [
    "np.empty((3,6)) "
   ]
  },
  {
   "cell_type": "code",
   "execution_count": 55,
   "id": "9208d36b-e92a-4989-b06f-3f2f5748ab94",
   "metadata": {},
   "outputs": [
    {
     "data": {
      "text/plain": [
       "array([[3.56043053e-307, 1.60219306e-306, 7.56571288e-307,\n",
       "        7.56587584e-307, 1.37961302e-306, 1.05699242e-307],\n",
       "       [8.01097889e-307, 1.78020169e-306, 7.56601165e-307,\n",
       "        1.02359984e-306, 1.42417221e-306, 9.34605037e-307],\n",
       "       [6.23059726e-307, 1.24612353e-306, 8.90092016e-307,\n",
       "        1.86919378e-306, 1.42410974e-306, 9.34608431e-307]])"
      ]
     },
     "execution_count": 55,
     "metadata": {},
     "output_type": "execute_result"
    }
   ],
   "source": [
    "np.empty((3,6)) "
   ]
  },
  {
   "cell_type": "code",
   "execution_count": 56,
   "id": "13861029-63b1-4df5-9f6e-2fcbcf645066",
   "metadata": {},
   "outputs": [],
   "source": [
    "#so it will give some random elements"
   ]
  },
  {
   "cell_type": "code",
   "execution_count": null,
   "id": "2b736356-c6bc-4638-bd83-662b5a0621c1",
   "metadata": {},
   "outputs": [],
   "source": []
  },
  {
   "cell_type": "code",
   "execution_count": null,
   "id": "64d54ad9-0227-46aa-b1bb-506e263aad51",
   "metadata": {},
   "outputs": [],
   "source": []
  },
  {
   "cell_type": "code",
   "execution_count": 57,
   "id": "c86a2d09-5c23-47f0-b8e1-838125f08903",
   "metadata": {},
   "outputs": [
    {
     "data": {
      "text/plain": [
       "1"
      ]
     },
     "execution_count": 57,
     "metadata": {},
     "output_type": "execute_result"
    }
   ],
   "source": [
    "#optional>>\n",
    "\n",
    "#before some time if we have to genrate random we have to import random module\n",
    "import random\n",
    "random.choice((1,2,3,4,5))  #it will give any random from (1,2,3,4,5)"
   ]
  },
  {
   "cell_type": "code",
   "execution_count": 58,
   "id": "888a9508-3b3b-45ca-a79f-820e3c79b90d",
   "metadata": {},
   "outputs": [
    {
     "data": {
      "text/plain": [
       "4"
      ]
     },
     "execution_count": 58,
     "metadata": {},
     "output_type": "execute_result"
    }
   ],
   "source": [
    "random.choice((1,2,3,4,5)) "
   ]
  },
  {
   "cell_type": "code",
   "execution_count": 59,
   "id": "77844d53-d102-4fa2-8539-1656590f993c",
   "metadata": {},
   "outputs": [
    {
     "data": {
      "text/plain": [
       "5"
      ]
     },
     "execution_count": 59,
     "metadata": {},
     "output_type": "execute_result"
    }
   ],
   "source": [
    "random.choice((1,2,3,4,5)) "
   ]
  },
  {
   "cell_type": "code",
   "execution_count": null,
   "id": "38409998-617e-4af4-b711-d45132c0023d",
   "metadata": {},
   "outputs": [],
   "source": [
    "\n"
   ]
  },
  {
   "cell_type": "code",
   "execution_count": 60,
   "id": "3611b238-e077-4b72-a6db-a31705d4bd58",
   "metadata": {},
   "outputs": [
    {
     "data": {
      "text/plain": [
       "4"
      ]
     },
     "execution_count": 60,
     "metadata": {},
     "output_type": "execute_result"
    }
   ],
   "source": [
    "random.choice([1,2, 3,4, 5])"
   ]
  },
  {
   "cell_type": "code",
   "execution_count": null,
   "id": "5ce5c137-ee84-476f-b0dc-c5b5c705bb15",
   "metadata": {},
   "outputs": [],
   "source": []
  },
  {
   "cell_type": "code",
   "execution_count": null,
   "id": "4e38bb0d-2125-4836-87e5-9b42b67900f9",
   "metadata": {},
   "outputs": [],
   "source": []
  },
  {
   "cell_type": "code",
   "execution_count": 61,
   "id": "5d1e1dcb-6e12-4328-abde-b3daa589b0c6",
   "metadata": {},
   "outputs": [
    {
     "data": {
      "text/plain": [
       "'a'"
      ]
     },
     "execution_count": 61,
     "metadata": {},
     "output_type": "execute_result"
    }
   ],
   "source": [
    "#random character from a string>>\n",
    "random.choice('Ajay')"
   ]
  },
  {
   "cell_type": "code",
   "execution_count": null,
   "id": "b2779be0-5c8c-46a9-9f0b-ace5e804ba90",
   "metadata": {},
   "outputs": [],
   "source": []
  },
  {
   "cell_type": "code",
   "execution_count": null,
   "id": "a7bca297-1677-4462-ae0e-083248be0b29",
   "metadata": {},
   "outputs": [],
   "source": []
  },
  {
   "cell_type": "code",
   "execution_count": 62,
   "id": "519e2fde-56fb-4175-8ea2-0ceff026f31c",
   "metadata": {},
   "outputs": [
    {
     "data": {
      "text/plain": [
       "3"
      ]
     },
     "execution_count": 62,
     "metadata": {},
     "output_type": "execute_result"
    }
   ],
   "source": [
    "#random no. from a range>>\n",
    "random.randrange(1, 10)  #1 to 10"
   ]
  },
  {
   "cell_type": "code",
   "execution_count": null,
   "id": "5162df86-d364-482d-9901-068ab02d09c3",
   "metadata": {},
   "outputs": [],
   "source": []
  },
  {
   "cell_type": "code",
   "execution_count": 63,
   "id": "547c862c-35f0-48d6-875b-06647f41ec31",
   "metadata": {},
   "outputs": [],
   "source": [
    "#if we want simply random no."
   ]
  },
  {
   "cell_type": "code",
   "execution_count": 64,
   "id": "1c056b3e-826a-4fcc-bdb3-9c57c3c5af39",
   "metadata": {},
   "outputs": [
    {
     "data": {
      "text/plain": [
       "0.4753586432273226"
      ]
     },
     "execution_count": 64,
     "metadata": {},
     "output_type": "execute_result"
    }
   ],
   "source": [
    "random.random() #a random no. is genrated between 0(included) and 1(excluded)"
   ]
  },
  {
   "cell_type": "code",
   "execution_count": null,
   "id": "252adc6d-f56b-4598-ba35-b8ab749195fb",
   "metadata": {},
   "outputs": [],
   "source": []
  },
  {
   "cell_type": "code",
   "execution_count": null,
   "id": "2443bcb7-7cfb-4787-9bc4-0973f64603d4",
   "metadata": {},
   "outputs": [],
   "source": []
  },
  {
   "cell_type": "code",
   "execution_count": 65,
   "id": "bcc91ec3-ebdd-459f-8451-2e62e5695a62",
   "metadata": {},
   "outputs": [
    {
     "data": {
      "text/plain": [
       "[1, 2, 3, 4, 5]"
      ]
     },
     "execution_count": 65,
     "metadata": {},
     "output_type": "execute_result"
    }
   ],
   "source": [
    "#if we want  to suffle no.>>\n",
    "\n",
    "lis = [1, 2, 3, 4 , 5]\n",
    "lis"
   ]
  },
  {
   "cell_type": "code",
   "execution_count": 67,
   "id": "ef2dda3d-eebb-4d8c-8778-d9651c6b6776",
   "metadata": {},
   "outputs": [],
   "source": [
    "random.shuffle(lis)  #it will be randomly resuffle"
   ]
  },
  {
   "cell_type": "code",
   "execution_count": 68,
   "id": "9dd9cb28-d8f8-4e94-ac5a-503d3d3bc85b",
   "metadata": {},
   "outputs": [
    {
     "data": {
      "text/plain": [
       "[5, 1, 2, 3, 4]"
      ]
     },
     "execution_count": 68,
     "metadata": {},
     "output_type": "execute_result"
    }
   ],
   "source": [
    "lis"
   ]
  },
  {
   "cell_type": "code",
   "execution_count": 69,
   "id": "89c829fa-ceb3-43da-aa79-59e9d051e06e",
   "metadata": {},
   "outputs": [],
   "source": [
    "#now we can see lis value is resuffled randomly"
   ]
  },
  {
   "cell_type": "code",
   "execution_count": null,
   "id": "6828ba5b-7566-40a6-b30f-0c780296655d",
   "metadata": {},
   "outputs": [],
   "source": []
  },
  {
   "cell_type": "code",
   "execution_count": 70,
   "id": "10e49d9f-0cfa-4e3d-80e6-ca2a7d6fbe58",
   "metadata": {},
   "outputs": [],
   "source": [
    "#if want to genrate some no. that is uniformly distributed>>"
   ]
  },
  {
   "cell_type": "code",
   "execution_count": 72,
   "id": "9aa695bb-13f0-4210-ae25-410a7436fa10",
   "metadata": {},
   "outputs": [
    {
     "data": {
      "text/plain": [
       "7.6040538276306835"
      ]
     },
     "execution_count": 72,
     "metadata": {},
     "output_type": "execute_result"
    }
   ],
   "source": [
    "random.uniform(7,14)"
   ]
  },
  {
   "cell_type": "raw",
   "id": "8be16099-be74-4bde-826d-dd9723b401dd",
   "metadata": {},
   "source": []
  },
  {
   "cell_type": "code",
   "execution_count": 74,
   "id": "a83edbb0-682c-450e-b68f-f8fbec33bfcc",
   "metadata": {},
   "outputs": [],
   "source": [
    "#RANDOM NUMBERS RELATED CONCEPTS IN NUMPY>>"
   ]
  },
  {
   "cell_type": "code",
   "execution_count": 75,
   "id": "3ac74c09-fcce-47b3-8621-3899980d511b",
   "metadata": {},
   "outputs": [],
   "source": [
    "#in numpy also some random packages included>>"
   ]
  },
  {
   "cell_type": "code",
   "execution_count": 76,
   "id": "8c6d8663-cd57-4578-a10f-eac2791e5e80",
   "metadata": {},
   "outputs": [],
   "source": [
    "#to generate random no using numpy package\n",
    "\n"
   ]
  },
  {
   "cell_type": "code",
   "execution_count": 77,
   "id": "cffb5919-ba84-4c34-bbd5-7e702a4746b8",
   "metadata": {},
   "outputs": [
    {
     "data": {
      "text/plain": [
       "<module 'numpy.random' from 'C:\\\\ProgramData\\\\anaconda3\\\\Lib\\\\site-packages\\\\numpy\\\\random\\\\__init__.py'>"
      ]
     },
     "execution_count": 77,
     "metadata": {},
     "output_type": "execute_result"
    }
   ],
   "source": [
    "np.random #when we use it in backed it is same random module but in numpy it is integated"
   ]
  },
  {
   "cell_type": "code",
   "execution_count": 78,
   "id": "5d3cb5df-4a50-43f4-8b73-a7a2329f753d",
   "metadata": {},
   "outputs": [
    {
     "data": {
      "text/plain": [
       "0.8189670188568633"
      ]
     },
     "execution_count": 78,
     "metadata": {},
     "output_type": "execute_result"
    }
   ],
   "source": [
    "np.random.random_sample()  #Return random floats in the half-open interval [0.0, 1.0)."
   ]
  },
  {
   "cell_type": "code",
   "execution_count": 81,
   "id": "3b638eb0-8043-4b35-8e87-913a40238ea1",
   "metadata": {},
   "outputs": [
    {
     "data": {
      "text/plain": [
       "array([0.81510593, 0.39067905, 0.02549467, 0.18158619, 0.67588479])"
      ]
     },
     "execution_count": 81,
     "metadata": {},
     "output_type": "execute_result"
    }
   ],
   "source": [
    "np.random.random_sample((5))  #wwe get randomly genrated array in one dimension having 5 dimension"
   ]
  },
  {
   "cell_type": "code",
   "execution_count": 82,
   "id": "1c82f45d-ded8-4e5c-a828-36ee50782729",
   "metadata": {},
   "outputs": [
    {
     "data": {
      "text/plain": [
       "array([0.53552188, 0.93985453, 0.21735326, 0.80076131, 0.24331717])"
      ]
     },
     "execution_count": 82,
     "metadata": {},
     "output_type": "execute_result"
    }
   ],
   "source": [
    "np.random.random_sample((5, )) "
   ]
  },
  {
   "cell_type": "code",
   "execution_count": 83,
   "id": "fe30ffdd-a948-4562-af0b-5bcbf66343a9",
   "metadata": {},
   "outputs": [],
   "source": [
    "#if we want to generate only one element array"
   ]
  },
  {
   "cell_type": "code",
   "execution_count": 84,
   "id": "fb56b13e-4fff-4c46-ac05-5f70834e1721",
   "metadata": {},
   "outputs": [
    {
     "data": {
      "text/plain": [
       "array([0.15060712])"
      ]
     },
     "execution_count": 84,
     "metadata": {},
     "output_type": "execute_result"
    }
   ],
   "source": [
    "np.random.rand(1)  #Random values in a given shape."
   ]
  },
  {
   "cell_type": "code",
   "execution_count": 85,
   "id": "499b4b9a-7cf5-4ee6-95c4-0ed06fb3764b",
   "metadata": {},
   "outputs": [
    {
     "data": {
      "text/plain": [
       "array([0.85901491, 0.56714633, 0.71555732, 0.15973109, 0.84149573])"
      ]
     },
     "execution_count": 85,
     "metadata": {},
     "output_type": "execute_result"
    }
   ],
   "source": [
    "np.random.rand(5) "
   ]
  },
  {
   "cell_type": "code",
   "execution_count": null,
   "id": "2dff5d8c-337f-4082-91bd-0d107eed3c55",
   "metadata": {},
   "outputs": [],
   "source": []
  },
  {
   "cell_type": "code",
   "execution_count": null,
   "id": "9ded4d33-ecd4-458d-9109-6e86bb1ddc2c",
   "metadata": {},
   "outputs": [],
   "source": []
  },
  {
   "cell_type": "code",
   "execution_count": 87,
   "id": "8548b03a-c84a-4ba2-b6bc-5d6e4a138241",
   "metadata": {},
   "outputs": [
    {
     "data": {
      "text/plain": [
       "array([[0.74657706, 0.46079972, 0.2892725 ],\n",
       "       [0.82553883, 0.96032847, 0.80302166]])"
      ]
     },
     "execution_count": 87,
     "metadata": {},
     "output_type": "execute_result"
    }
   ],
   "source": [
    "#if we want to dimensional value>>\n",
    "np.random.rand(2,3)"
   ]
  },
  {
   "cell_type": "code",
   "execution_count": null,
   "id": "65964482-e588-4fc4-a902-154472abb09f",
   "metadata": {},
   "outputs": [],
   "source": []
  },
  {
   "cell_type": "code",
   "execution_count": null,
   "id": "9ca256de-8cd9-4450-a364-e558f796174b",
   "metadata": {},
   "outputs": [],
   "source": []
  },
  {
   "cell_type": "code",
   "execution_count": 89,
   "id": "89e610c1-ab26-4194-88dc-031f6badf21d",
   "metadata": {},
   "outputs": [
    {
     "data": {
      "text/plain": [
       "array([[ 0.45295285, -0.92356303,  0.6787825 ],\n",
       "       [-0.61794068,  0.22696493,  0.23467059]])"
      ]
     },
     "execution_count": 89,
     "metadata": {},
     "output_type": "execute_result"
    }
   ],
   "source": [
    "#now suppose we want a number that come from a specific type of distribution which a random distribution>>\n",
    "\n",
    "np.random.randn(2,3)"
   ]
  },
  {
   "cell_type": "code",
   "execution_count": 90,
   "id": "7777516f-379a-4a54-9b51-c4682329fa53",
   "metadata": {},
   "outputs": [],
   "source": [
    "#thsese no. coming from normal distribution"
   ]
  },
  {
   "cell_type": "code",
   "execution_count": 91,
   "id": "b3a580af-0d24-491f-bbfd-da63f5914da9",
   "metadata": {},
   "outputs": [],
   "source": [
    "\n",
    "#it is genrating a float no."
   ]
  },
  {
   "cell_type": "code",
   "execution_count": 93,
   "id": "0423aecd-bd2b-4d71-935b-c6533d597a76",
   "metadata": {},
   "outputs": [],
   "source": [
    "#but if we want to genrate some random integer no.>>\n",
    "arr =np.random.randint(1, 5, size = (3,4)) # this array is genrate in size (3,4) from no. between 1 and 5"
   ]
  },
  {
   "cell_type": "code",
   "execution_count": 94,
   "id": "11d66776-64a9-4691-93d3-a5a878f2e0f3",
   "metadata": {},
   "outputs": [
    {
     "data": {
      "text/plain": [
       "array([[1, 4, 2, 1],\n",
       "       [3, 3, 3, 3],\n",
       "       [3, 3, 3, 3]])"
      ]
     },
     "execution_count": 94,
     "metadata": {},
     "output_type": "execute_result"
    }
   ],
   "source": [
    "arr"
   ]
  },
  {
   "cell_type": "code",
   "execution_count": 95,
   "id": "b0972c9d-c324-4ce8-863f-d56b5303fe95",
   "metadata": {},
   "outputs": [
    {
     "data": {
      "text/plain": [
       "2"
      ]
     },
     "execution_count": 95,
     "metadata": {},
     "output_type": "execute_result"
    }
   ],
   "source": [
    "arr.ndim"
   ]
  },
  {
   "cell_type": "code",
   "execution_count": 96,
   "id": "5cac398b-8907-49dd-b9a6-d1ff12cced7c",
   "metadata": {},
   "outputs": [
    {
     "data": {
      "text/plain": [
       "(3, 4)"
      ]
     },
     "execution_count": 96,
     "metadata": {},
     "output_type": "execute_result"
    }
   ],
   "source": [
    "arr.shape"
   ]
  },
  {
   "cell_type": "code",
   "execution_count": 97,
   "id": "49f85efa-a0b7-4fac-8303-fd1b98b84e18",
   "metadata": {},
   "outputs": [
    {
     "data": {
      "text/plain": [
       "12"
      ]
     },
     "execution_count": 97,
     "metadata": {},
     "output_type": "execute_result"
    }
   ],
   "source": [
    "arr.size"
   ]
  },
  {
   "cell_type": "code",
   "execution_count": 98,
   "id": "8b8f2f76-5f2a-4593-a5dd-33ff098d4263",
   "metadata": {},
   "outputs": [
    {
     "data": {
      "text/plain": [
       "array([[1, 4, 2, 1],\n",
       "       [3, 3, 3, 3],\n",
       "       [3, 3, 3, 3]])"
      ]
     },
     "execution_count": 98,
     "metadata": {},
     "output_type": "execute_result"
    }
   ],
   "source": [
    "arr"
   ]
  },
  {
   "cell_type": "code",
   "execution_count": null,
   "id": "84399c95-7e5e-4921-97ea-2f99688bf204",
   "metadata": {},
   "outputs": [],
   "source": []
  },
  {
   "cell_type": "code",
   "execution_count": 99,
   "id": "edd3f758-cd90-4c30-a27a-c9141bc2f621",
   "metadata": {},
   "outputs": [],
   "source": [
    "#now if want to change the shape of this array>>"
   ]
  },
  {
   "cell_type": "code",
   "execution_count": 101,
   "id": "faddd0a3-447b-4002-99f8-c160f4de80d7",
   "metadata": {},
   "outputs": [
    {
     "data": {
      "text/plain": [
       "array([[1, 4, 2, 1, 3, 3],\n",
       "       [3, 3, 3, 3, 3, 3]])"
      ]
     },
     "execution_count": 101,
     "metadata": {},
     "output_type": "execute_result"
    }
   ],
   "source": [
    "#reshaping the array>>\n",
    "\n",
    "arr1 = arr.reshape(2,6)  #reshaping arr with 2 rows and 6 column\n",
    "arr1"
   ]
  },
  {
   "cell_type": "code",
   "execution_count": 102,
   "id": "f391c6c4-499d-4f88-b995-3d73567778ed",
   "metadata": {},
   "outputs": [],
   "source": [
    "#now we can see same array is reshaped"
   ]
  },
  {
   "cell_type": "code",
   "execution_count": 103,
   "id": "f4b68216-a0d3-4924-8808-e289436e0759",
   "metadata": {},
   "outputs": [
    {
     "data": {
      "text/plain": [
       "(2, 6)"
      ]
     },
     "execution_count": 103,
     "metadata": {},
     "output_type": "execute_result"
    }
   ],
   "source": [
    "arr1.shape"
   ]
  },
  {
   "cell_type": "code",
   "execution_count": 104,
   "id": "3a949787-7caf-419f-bf23-00b9c4acd07c",
   "metadata": {},
   "outputs": [
    {
     "data": {
      "text/plain": [
       "12"
      ]
     },
     "execution_count": 104,
     "metadata": {},
     "output_type": "execute_result"
    }
   ],
   "source": [
    "arr1.size "
   ]
  },
  {
   "cell_type": "code",
   "execution_count": 105,
   "id": "2ac9bb26-8f17-4ddc-8ffc-19e4dffb6de2",
   "metadata": {},
   "outputs": [],
   "source": [
    "#array size not changed\n",
    "\n",
    "#always reshape parameter should be multiplication of orginal array size"
   ]
  },
  {
   "cell_type": "code",
   "execution_count": 106,
   "id": "ed9e7ee1-b997-4c18-8c6d-9ae6aa0689a5",
   "metadata": {},
   "outputs": [
    {
     "data": {
      "text/plain": [
       "array([[1, 4, 2, 1, 3, 3],\n",
       "       [3, 3, 3, 3, 3, 3]])"
      ]
     },
     "execution_count": 106,
     "metadata": {},
     "output_type": "execute_result"
    }
   ],
   "source": [
    "arr1"
   ]
  },
  {
   "cell_type": "code",
   "execution_count": null,
   "id": "b936771b-f18a-4a4a-8d82-73c1bd25a843",
   "metadata": {},
   "outputs": [],
   "source": []
  },
  {
   "cell_type": "code",
   "execution_count": 107,
   "id": "a429b7e9-0a5a-4f2c-bb01-801afeef33b5",
   "metadata": {},
   "outputs": [
    {
     "data": {
      "text/plain": [
       "array([[1, 4, 2, 1],\n",
       "       [3, 3, 3, 3],\n",
       "       [3, 3, 3, 3]])"
      ]
     },
     "execution_count": 107,
     "metadata": {},
     "output_type": "execute_result"
    }
   ],
   "source": [
    "arr"
   ]
  },
  {
   "cell_type": "code",
   "execution_count": 108,
   "id": "e4a27411-10df-4c1c-8516-ab528d0022b8",
   "metadata": {},
   "outputs": [
    {
     "data": {
      "text/plain": [
       "12"
      ]
     },
     "execution_count": 108,
     "metadata": {},
     "output_type": "execute_result"
    }
   ],
   "source": [
    "arr.size"
   ]
  },
  {
   "cell_type": "code",
   "execution_count": 109,
   "id": "1f4b7739-21d1-4bcd-a4c3-ea68596d5e9a",
   "metadata": {},
   "outputs": [
    {
     "data": {
      "text/plain": [
       "array([[1, 4, 2, 1, 3, 3],\n",
       "       [3, 3, 3, 3, 3, 3]])"
      ]
     },
     "execution_count": 109,
     "metadata": {},
     "output_type": "execute_result"
    }
   ],
   "source": [
    "arr.reshape(2,6) #parameter should be multiplication of orginal array size"
   ]
  },
  {
   "cell_type": "code",
   "execution_count": 112,
   "id": "7f5eb240-2025-49fb-9ec3-1fa7b9f687f9",
   "metadata": {},
   "outputs": [
    {
     "ename": "ValueError",
     "evalue": "cannot reshape array of size 12 into shape (2,5)",
     "output_type": "error",
     "traceback": [
      "\u001b[1;31m---------------------------------------------------------------------------\u001b[0m",
      "\u001b[1;31mValueError\u001b[0m                                Traceback (most recent call last)",
      "Cell \u001b[1;32mIn[112], line 1\u001b[0m\n\u001b[1;32m----> 1\u001b[0m arr\u001b[38;5;241m.\u001b[39mreshape(\u001b[38;5;241m2\u001b[39m,\u001b[38;5;241m5\u001b[39m)\n",
      "\u001b[1;31mValueError\u001b[0m: cannot reshape array of size 12 into shape (2,5)"
     ]
    }
   ],
   "source": [
    "arr.reshape(2,5) #not work"
   ]
  },
  {
   "cell_type": "code",
   "execution_count": 113,
   "id": "cf368984-3f56-41cd-8eb2-779d045614eb",
   "metadata": {},
   "outputs": [
    {
     "data": {
      "text/plain": [
       "array([[1, 4, 2, 1, 3, 3, 3, 3, 3, 3, 3, 3]])"
      ]
     },
     "execution_count": 113,
     "metadata": {},
     "output_type": "execute_result"
    }
   ],
   "source": [
    "arr.reshape(1,12) #work"
   ]
  },
  {
   "cell_type": "code",
   "execution_count": 114,
   "id": "73361e89-c63c-4779-8266-88dc3eeaf54e",
   "metadata": {},
   "outputs": [
    {
     "data": {
      "text/plain": [
       "array([[1],\n",
       "       [4],\n",
       "       [2],\n",
       "       [1],\n",
       "       [3],\n",
       "       [3],\n",
       "       [3],\n",
       "       [3],\n",
       "       [3],\n",
       "       [3],\n",
       "       [3],\n",
       "       [3]])"
      ]
     },
     "execution_count": 114,
     "metadata": {},
     "output_type": "execute_result"
    }
   ],
   "source": [
    "arr.reshape(12,1) #work"
   ]
  },
  {
   "cell_type": "code",
   "execution_count": 115,
   "id": "a277c232-e4b1-4eac-a70c-96b80f3672f1",
   "metadata": {},
   "outputs": [
    {
     "data": {
      "text/plain": [
       "array([[1, 4, 2, 1],\n",
       "       [3, 3, 3, 3],\n",
       "       [3, 3, 3, 3]])"
      ]
     },
     "execution_count": 115,
     "metadata": {},
     "output_type": "execute_result"
    }
   ],
   "source": [
    "arr.reshape(3,4) #work"
   ]
  },
  {
   "cell_type": "code",
   "execution_count": 116,
   "id": "0add739c-7e20-451a-8a28-27f54d9299d7",
   "metadata": {},
   "outputs": [
    {
     "data": {
      "text/plain": [
       "array([[1, 4, 2],\n",
       "       [1, 3, 3],\n",
       "       [3, 3, 3],\n",
       "       [3, 3, 3]])"
      ]
     },
     "execution_count": 116,
     "metadata": {},
     "output_type": "execute_result"
    }
   ],
   "source": [
    "arr.reshape(4,3) #work"
   ]
  },
  {
   "cell_type": "code",
   "execution_count": null,
   "id": "57948734-de92-4987-939c-0698d429d9ee",
   "metadata": {},
   "outputs": [],
   "source": []
  },
  {
   "cell_type": "code",
   "execution_count": null,
   "id": "9c3a9bb2-0ff6-4859-b4c7-c486700842cc",
   "metadata": {},
   "outputs": [],
   "source": []
  },
  {
   "cell_type": "code",
   "execution_count": 117,
   "id": "4a970fb1-faa1-4419-88aa-0b83b15db3d8",
   "metadata": {},
   "outputs": [],
   "source": [
    "#CASE>> whwn we dont know in reshape what should be the column count/column part"
   ]
  },
  {
   "cell_type": "code",
   "execution_count": 118,
   "id": "11338fc2-4747-49d3-8439-86a5cd5c4d23",
   "metadata": {},
   "outputs": [],
   "source": [
    "#suppose we want 4 rows so we write rows as 4 \n",
    "#and column as -1 it will automatically underatand amount of column"
   ]
  },
  {
   "cell_type": "code",
   "execution_count": 119,
   "id": "8e00109f-d1d1-4a63-8dd5-950dcc9f444e",
   "metadata": {},
   "outputs": [
    {
     "data": {
      "text/plain": [
       "array([[1, 4, 2],\n",
       "       [1, 3, 3],\n",
       "       [3, 3, 3],\n",
       "       [3, 3, 3]])"
      ]
     },
     "execution_count": 119,
     "metadata": {},
     "output_type": "execute_result"
    }
   ],
   "source": [
    "arr.reshape(4, -1)"
   ]
  },
  {
   "cell_type": "code",
   "execution_count": 120,
   "id": "9cb2e1dc-83cb-4353-a17d-f5bc107466b3",
   "metadata": {},
   "outputs": [
    {
     "data": {
      "text/plain": [
       "array([[1, 4, 2, 1, 3, 3],\n",
       "       [3, 3, 3, 3, 3, 3]])"
      ]
     },
     "execution_count": 120,
     "metadata": {},
     "output_type": "execute_result"
    }
   ],
   "source": [
    "#Now if we dont knew column >>\n",
    "arr.reshape(2, -1)"
   ]
  },
  {
   "cell_type": "code",
   "execution_count": 121,
   "id": "8eeef7a3-5f15-4a62-b6a9-276ab689d5d1",
   "metadata": {},
   "outputs": [
    {
     "data": {
      "text/plain": [
       "array([[1, 4, 2, 1, 3, 3],\n",
       "       [3, 3, 3, 3, 3, 3]])"
      ]
     },
     "execution_count": 121,
     "metadata": {},
     "output_type": "execute_result"
    }
   ],
   "source": [
    "#insted of -1 we can put any negative no.\n",
    "#Now if we dont knew column >>\n",
    "arr.reshape(2, -1000)"
   ]
  },
  {
   "cell_type": "code",
   "execution_count": 123,
   "id": "e2958a4a-6ded-46f5-85c6-3234387e38b7",
   "metadata": {},
   "outputs": [
    {
     "data": {
      "text/plain": [
       "array([[1, 4],\n",
       "       [2, 1],\n",
       "       [3, 3],\n",
       "       [3, 3],\n",
       "       [3, 3],\n",
       "       [3, 3]])"
      ]
     },
     "execution_count": 123,
     "metadata": {},
     "output_type": "execute_result"
    }
   ],
   "source": [
    "#Now if we dont knew row and knew column>>\n",
    "arr1 = arr.reshape( -1,2)"
   ]
  },
  {
   "cell_type": "code",
   "execution_count": 124,
   "id": "14acd7ca-2191-417a-a59b-9a3f089d9878",
   "metadata": {},
   "outputs": [
    {
     "data": {
      "text/plain": [
       "12"
      ]
     },
     "execution_count": 124,
     "metadata": {},
     "output_type": "execute_result"
    }
   ],
   "source": [
    "arr1.size"
   ]
  },
  {
   "cell_type": "code",
   "execution_count": 126,
   "id": "4ebc5b26-6b89-4886-bf79-9936ad7f304f",
   "metadata": {},
   "outputs": [
    {
     "data": {
      "text/plain": [
       "array([[1],\n",
       "       [4],\n",
       "       [2],\n",
       "       [1],\n",
       "       [3],\n",
       "       [3],\n",
       "       [3],\n",
       "       [3],\n",
       "       [3],\n",
       "       [3],\n",
       "       [3],\n",
       "       [3]])"
      ]
     },
     "execution_count": 126,
     "metadata": {},
     "output_type": "execute_result"
    }
   ],
   "source": [
    "arr.reshape(12, 1) "
   ]
  },
  {
   "cell_type": "code",
   "execution_count": 129,
   "id": "39ba9dbf-69af-46ab-8f3e-404c2ec52624",
   "metadata": {},
   "outputs": [
    {
     "data": {
      "text/plain": [
       "array([[1, 4, 2, 1],\n",
       "       [3, 3, 3, 3],\n",
       "       [3, 3, 3, 3]])"
      ]
     },
     "execution_count": 129,
     "metadata": {},
     "output_type": "execute_result"
    }
   ],
   "source": [
    "#now suppose if we don't knew orginal array and we want to see that >>\n",
    "arr.reshape(12, 1).base"
   ]
  },
  {
   "cell_type": "code",
   "execution_count": null,
   "id": "69e315c9-93a9-4aa9-83c4-f5896d49764c",
   "metadata": {},
   "outputs": [],
   "source": []
  },
  {
   "cell_type": "code",
   "execution_count": 130,
   "id": "dd6e9380-cd91-4dcc-89d4-ad1487fb6b1b",
   "metadata": {},
   "outputs": [],
   "source": [
    "#WE CAN ALSO RESHAPE IT INTO ANY DIMENSION>>\n"
   ]
  },
  {
   "cell_type": "code",
   "execution_count": 131,
   "id": "a94209f5-e0c1-404e-85b6-04c6e2d9ca14",
   "metadata": {},
   "outputs": [
    {
     "data": {
      "text/plain": [
       "array([[[1, 4, 2],\n",
       "        [1, 3, 3]],\n",
       "\n",
       "       [[3, 3, 3],\n",
       "        [3, 3, 3]]])"
      ]
     },
     "execution_count": 131,
     "metadata": {},
     "output_type": "execute_result"
    }
   ],
   "source": [
    "arr.reshape(2,2,3)  #means 2*3 2d matrix 2 times"
   ]
  },
  {
   "cell_type": "code",
   "execution_count": 132,
   "id": "f2068a6e-93b8-43a0-9cca-75acdfbf1298",
   "metadata": {},
   "outputs": [
    {
     "data": {
      "text/plain": [
       "array([[[[1, 4, 2],\n",
       "         [1, 3, 3]],\n",
       "\n",
       "        [[3, 3, 3],\n",
       "         [3, 3, 3]]]])"
      ]
     },
     "execution_count": 132,
     "metadata": {},
     "output_type": "execute_result"
    }
   ],
   "source": [
    "arr.reshape(1, 2, 2, 3)  #this means 2 rows 3 column repeated 2 times and 1 extra outer  4th dimension"
   ]
  },
  {
   "cell_type": "code",
   "execution_count": 134,
   "id": "935608e9-b4e7-4475-aee6-5494dd911e2b",
   "metadata": {},
   "outputs": [
    {
     "data": {
      "text/plain": [
       "4"
      ]
     },
     "execution_count": 134,
     "metadata": {},
     "output_type": "execute_result"
    }
   ],
   "source": [
    "arr.reshape(1, 2, 2, 3).ndim"
   ]
  },
  {
   "cell_type": "code",
   "execution_count": 135,
   "id": "1bb2a924-ed1f-4827-bc3e-894ed89193ce",
   "metadata": {},
   "outputs": [
    {
     "data": {
      "text/plain": [
       "array([[[1],\n",
       "        [4],\n",
       "        [2]],\n",
       "\n",
       "       [[1],\n",
       "        [3],\n",
       "        [3]],\n",
       "\n",
       "       [[3],\n",
       "        [3],\n",
       "        [3]],\n",
       "\n",
       "       [[3],\n",
       "        [3],\n",
       "        [3]]])"
      ]
     },
     "execution_count": 135,
     "metadata": {},
     "output_type": "execute_result"
    }
   ],
   "source": [
    "arr.reshape(4, 3, 1) #so this mean 3*1 repeted 4 times in 3rd dimension"
   ]
  },
  {
   "cell_type": "code",
   "execution_count": null,
   "id": "27860802-8c55-4766-8eeb-f393dedaf4ad",
   "metadata": {},
   "outputs": [],
   "source": [
    "\n",
    "\n"
   ]
  },
  {
   "cell_type": "code",
   "execution_count": 136,
   "id": "e8ffacdb-0409-4f45-80ca-653d38f05e53",
   "metadata": {},
   "outputs": [],
   "source": [
    "#CONDITIONS ON ARRAY>>\n",
    "\n"
   ]
  },
  {
   "cell_type": "code",
   "execution_count": 137,
   "id": "8f2edf83-b81f-4623-aa3e-7248d836fad5",
   "metadata": {},
   "outputs": [],
   "source": [
    "arr1 = np.random.randint(1, 10, (5,6)) #Return random integers from `low` (inclusive) to `high` (exclusive)."
   ]
  },
  {
   "cell_type": "code",
   "execution_count": 138,
   "id": "c6b91446-7ff1-40fe-ac4e-12f6b6148eff",
   "metadata": {},
   "outputs": [
    {
     "data": {
      "text/plain": [
       "array([[2, 7, 2, 3, 1, 4],\n",
       "       [7, 8, 6, 2, 8, 3],\n",
       "       [4, 3, 3, 2, 5, 7],\n",
       "       [4, 3, 9, 8, 7, 4],\n",
       "       [7, 9, 1, 5, 4, 5]])"
      ]
     },
     "execution_count": 138,
     "metadata": {},
     "output_type": "execute_result"
    }
   ],
   "source": [
    "arr1"
   ]
  },
  {
   "cell_type": "code",
   "execution_count": 139,
   "id": "9a552ff0-b17c-4bbf-b204-3f97d8cdfb69",
   "metadata": {},
   "outputs": [
    {
     "data": {
      "text/plain": [
       "(5, 6)"
      ]
     },
     "execution_count": 139,
     "metadata": {},
     "output_type": "execute_result"
    }
   ],
   "source": [
    "arr1.shape"
   ]
  },
  {
   "cell_type": "code",
   "execution_count": 140,
   "id": "dfebc9de-6c52-4b8d-aa38-5d7452e42f5e",
   "metadata": {},
   "outputs": [
    {
     "data": {
      "text/plain": [
       "2"
      ]
     },
     "execution_count": 140,
     "metadata": {},
     "output_type": "execute_result"
    }
   ],
   "source": [
    "arr1.ndim"
   ]
  },
  {
   "cell_type": "code",
   "execution_count": 141,
   "id": "ca88397e-078d-41b6-8068-53c40ec48310",
   "metadata": {},
   "outputs": [
    {
     "data": {
      "text/plain": [
       "30"
      ]
     },
     "execution_count": 141,
     "metadata": {},
     "output_type": "execute_result"
    }
   ],
   "source": [
    "arr1.size"
   ]
  },
  {
   "cell_type": "code",
   "execution_count": 142,
   "id": "2404cb0b-a11f-4c2c-b287-f1c6cb8d19a1",
   "metadata": {},
   "outputs": [],
   "source": [
    "#now if want all the element pass with condition"
   ]
  },
  {
   "cell_type": "code",
   "execution_count": 143,
   "id": "de7db06d-df07-40fa-b096-af4c786249f5",
   "metadata": {},
   "outputs": [
    {
     "data": {
      "text/plain": [
       "array([[False,  True, False, False, False,  True],\n",
       "       [ True,  True,  True, False,  True, False],\n",
       "       [ True, False, False, False,  True,  True],\n",
       "       [ True, False,  True,  True,  True,  True],\n",
       "       [ True,  True, False,  True,  True,  True]])"
      ]
     },
     "execution_count": 143,
     "metadata": {},
     "output_type": "execute_result"
    }
   ],
   "source": [
    "arr1 > 3"
   ]
  },
  {
   "cell_type": "code",
   "execution_count": 144,
   "id": "da6e9f51-4aed-40fa-bbd6-583ed5ce66a4",
   "metadata": {},
   "outputs": [],
   "source": [
    "#where condition is statisfying is true and all other are false"
   ]
  },
  {
   "cell_type": "code",
   "execution_count": 145,
   "id": "65fd2870-c7a2-4bc4-9ff6-b13b02a982fe",
   "metadata": {},
   "outputs": [
    {
     "data": {
      "text/plain": [
       "array([7, 4, 7, 8, 6, 8, 4, 5, 7, 4, 9, 8, 7, 4, 7, 9, 5, 4, 5])"
      ]
     },
     "execution_count": 145,
     "metadata": {},
     "output_type": "execute_result"
    }
   ],
   "source": [
    "#now if want arr1 > 3\n",
    "\n",
    "arr1[arr1>3]"
   ]
  },
  {
   "cell_type": "code",
   "execution_count": 147,
   "id": "32d7514b-c63b-45a3-b7e9-8232040ee5ca",
   "metadata": {},
   "outputs": [
    {
     "data": {
      "text/plain": [
       "array([2, 2, 1, 2, 2, 1])"
      ]
     },
     "execution_count": 147,
     "metadata": {},
     "output_type": "execute_result"
    }
   ],
   "source": [
    "#for less than\n",
    "arr1[arr1<3]"
   ]
  },
  {
   "cell_type": "code",
   "execution_count": null,
   "id": "b82c773c-71d4-4246-920a-5cc4cfeb969f",
   "metadata": {},
   "outputs": [],
   "source": []
  },
  {
   "cell_type": "code",
   "execution_count": 152,
   "id": "46e44f61-c59a-4f44-8bee-07e0802640f2",
   "metadata": {},
   "outputs": [],
   "source": [
    "#TO ACCESS ELEMENTS IN THE ARRAY"
   ]
  },
  {
   "cell_type": "code",
   "execution_count": 153,
   "id": "501f022d-76ae-4cbe-919d-c41ab1444d94",
   "metadata": {},
   "outputs": [
    {
     "data": {
      "text/plain": [
       "array([2, 7, 2, 3, 1, 4])"
      ]
     },
     "execution_count": 153,
     "metadata": {},
     "output_type": "execute_result"
    }
   ],
   "source": [
    "#if we want its 0th row>>\n",
    "arr1[0]"
   ]
  },
  {
   "cell_type": "code",
   "execution_count": 154,
   "id": "6be250a1-8876-413b-b1b9-c0c042630931",
   "metadata": {},
   "outputs": [
    {
     "data": {
      "text/plain": [
       "array([7, 8, 6, 2, 8, 3])"
      ]
     },
     "execution_count": 154,
     "metadata": {},
     "output_type": "execute_result"
    }
   ],
   "source": [
    "arr1[1]"
   ]
  },
  {
   "cell_type": "code",
   "execution_count": 155,
   "id": "a4c98d92-4a2e-41fd-81dc-2ec249b8ebd6",
   "metadata": {},
   "outputs": [
    {
     "data": {
      "text/plain": [
       "8"
      ]
     },
     "execution_count": 155,
     "metadata": {},
     "output_type": "execute_result"
    }
   ],
   "source": [
    "#now if we want 1st element of 1st row\n",
    "arr1[1][1]"
   ]
  },
  {
   "cell_type": "code",
   "execution_count": 156,
   "id": "2307ee3f-7401-47b6-b894-584c3604f4b5",
   "metadata": {},
   "outputs": [
    {
     "data": {
      "text/plain": [
       "7"
      ]
     },
     "execution_count": 156,
     "metadata": {},
     "output_type": "execute_result"
    }
   ],
   "source": [
    "arr1[1][0]"
   ]
  },
  {
   "cell_type": "code",
   "execution_count": 157,
   "id": "61380816-2de4-4094-a614-91a2e06e50a0",
   "metadata": {},
   "outputs": [
    {
     "data": {
      "text/plain": [
       "array([[2, 7, 2, 3, 1, 4],\n",
       "       [7, 8, 6, 2, 8, 3],\n",
       "       [4, 3, 3, 2, 5, 7],\n",
       "       [4, 3, 9, 8, 7, 4],\n",
       "       [7, 9, 1, 5, 4, 5]])"
      ]
     },
     "execution_count": 157,
     "metadata": {},
     "output_type": "execute_result"
    }
   ],
   "source": [
    "arr1"
   ]
  },
  {
   "cell_type": "code",
   "execution_count": 158,
   "id": "f939cb9d-2a5e-492b-a938-d89a8e8f2a7f",
   "metadata": {},
   "outputs": [],
   "source": [
    "#now if want from 0th row to 1st row in continuation"
   ]
  },
  {
   "cell_type": "code",
   "execution_count": 161,
   "id": "7a33abab-4226-45eb-8648-f3f31c15f3d8",
   "metadata": {},
   "outputs": [
    {
     "data": {
      "text/plain": [
       "array([[2, 7, 2, 3, 1, 4],\n",
       "       [7, 8, 6, 2, 8, 3]])"
      ]
     },
     "execution_count": 161,
     "metadata": {},
     "output_type": "execute_result"
    }
   ],
   "source": [
    "arr1[0:2] #simple slicing"
   ]
  },
  {
   "cell_type": "code",
   "execution_count": 162,
   "id": "5231e82c-5d1b-4763-a4fc-a04b2ee9d812",
   "metadata": {},
   "outputs": [
    {
     "data": {
      "text/plain": [
       "array([[2, 7, 2, 3, 1, 4],\n",
       "       [7, 8, 6, 2, 8, 3],\n",
       "       [4, 3, 3, 2, 5, 7]])"
      ]
     },
     "execution_count": 162,
     "metadata": {},
     "output_type": "execute_result"
    }
   ],
   "source": [
    "arr1[0:3]  #0th row , 1st row and 2nd row"
   ]
  },
  {
   "cell_type": "code",
   "execution_count": 163,
   "id": "25ac0f9e-ad3d-4dd3-b004-f3d89f00f3c8",
   "metadata": {},
   "outputs": [
    {
     "data": {
      "text/plain": [
       "array([[2, 2],\n",
       "       [7, 6],\n",
       "       [4, 3]])"
      ]
     },
     "execution_count": 163,
     "metadata": {},
     "output_type": "execute_result"
    }
   ],
   "source": [
    "#now in this arr1[0:3] we want 0th coloum and 2nd column\n",
    "arr1[0:3, [0,2]]  #0th to 2nd row and 0th and 2nd column"
   ]
  },
  {
   "cell_type": "code",
   "execution_count": 165,
   "id": "4def7434-5d84-4158-8032-f2a76da27ce4",
   "metadata": {},
   "outputs": [
    {
     "data": {
      "text/plain": [
       "array([[7, 2],\n",
       "       [8, 6],\n",
       "       [3, 3]])"
      ]
     },
     "execution_count": 165,
     "metadata": {},
     "output_type": "execute_result"
    }
   ],
   "source": [
    "#slicing on both row and column in continutiuon>>\n",
    "\n",
    "arr1[0:3, 1:3]"
   ]
  },
  {
   "cell_type": "code",
   "execution_count": 166,
   "id": "292a6d21-c7e5-4317-9e5d-18a9dfbd7687",
   "metadata": {},
   "outputs": [
    {
     "data": {
      "text/plain": [
       "array([[2, 7],\n",
       "       [7, 8]])"
      ]
     },
     "execution_count": 166,
     "metadata": {},
     "output_type": "execute_result"
    }
   ],
   "source": [
    "arr1[0:2, [0,1]]"
   ]
  },
  {
   "cell_type": "code",
   "execution_count": 168,
   "id": "6e8ee264-8f89-4522-84fe-2204a51c2c28",
   "metadata": {},
   "outputs": [
    {
     "data": {
      "text/plain": [
       "array([7, 3])"
      ]
     },
     "execution_count": 168,
     "metadata": {},
     "output_type": "execute_result"
    }
   ],
   "source": [
    "arr1[0 , [1,3]] #0th row and column ffrom 1 and 3rd"
   ]
  },
  {
   "cell_type": "code",
   "execution_count": 169,
   "id": "08925ecc-7d9b-4653-86b5-120789042688",
   "metadata": {},
   "outputs": [
    {
     "data": {
      "text/plain": [
       "array([[4, 2],\n",
       "       [4, 8]])"
      ]
     },
     "execution_count": 169,
     "metadata": {},
     "output_type": "execute_result"
    }
   ],
   "source": [
    "arr1[2:4, [0,3]]"
   ]
  },
  {
   "cell_type": "code",
   "execution_count": 170,
   "id": "6d8fb1fd-a3ee-45f9-9df8-a3d2a8f64841",
   "metadata": {},
   "outputs": [
    {
     "data": {
      "text/plain": [
       "array([[4, 3, 3, 2, 5, 7],\n",
       "       [4, 3, 9, 8, 7, 4],\n",
       "       [7, 9, 1, 5, 4, 5]])"
      ]
     },
     "execution_count": 170,
     "metadata": {},
     "output_type": "execute_result"
    }
   ],
   "source": [
    "#if we want only rows>>\n",
    "arr1[2:5]  #rows from 2nd to 5th "
   ]
  },
  {
   "cell_type": "code",
   "execution_count": 172,
   "id": "62624b81-7a91-4460-b8be-036a319c5fce",
   "metadata": {},
   "outputs": [
    {
     "data": {
      "text/plain": [
       "array([[4, 3],\n",
       "       [4, 3],\n",
       "       [7, 9]])"
      ]
     },
     "execution_count": 172,
     "metadata": {},
     "output_type": "execute_result"
    }
   ],
   "source": [
    "arr1[2:5, 0:2] "
   ]
  },
  {
   "cell_type": "code",
   "execution_count": 173,
   "id": "1b281f85-68b7-49f4-9e83-6424d0c2da9c",
   "metadata": {},
   "outputs": [
    {
     "data": {
      "text/plain": [
       "array([7, 3])"
      ]
     },
     "execution_count": 173,
     "metadata": {},
     "output_type": "execute_result"
    }
   ],
   "source": [
    "arr1[0, [1, 3]]"
   ]
  },
  {
   "cell_type": "code",
   "execution_count": null,
   "id": "5707e6da-d5a6-42d3-bc29-2aeb2a6b6cf7",
   "metadata": {},
   "outputs": [],
   "source": []
  },
  {
   "cell_type": "code",
   "execution_count": null,
   "id": "b0645ea3-1e16-4bdc-9f93-9e0c9b1c60d5",
   "metadata": {},
   "outputs": [],
   "source": [
    "#MATHMATICAL OPERATIONS ON TWO ARRAYS>>"
   ]
  },
  {
   "cell_type": "code",
   "execution_count": 174,
   "id": "bb7fb3a5-5a0c-4b23-85dd-983f719bbf14",
   "metadata": {},
   "outputs": [],
   "source": [
    "arr1 = np.random.randint(1,3,(3,3))\n",
    "arr2 = np.random.randint(1,3,(3,3))"
   ]
  },
  {
   "cell_type": "code",
   "execution_count": 175,
   "id": "fdcb86bc-f836-4760-be9e-b2243cb1d86b",
   "metadata": {},
   "outputs": [
    {
     "data": {
      "text/plain": [
       "array([[2, 1, 2],\n",
       "       [2, 2, 2],\n",
       "       [1, 1, 1]])"
      ]
     },
     "execution_count": 175,
     "metadata": {},
     "output_type": "execute_result"
    }
   ],
   "source": [
    "arr1"
   ]
  },
  {
   "cell_type": "code",
   "execution_count": 176,
   "id": "33ac4270-606d-4961-b5a1-56d01c87e7ba",
   "metadata": {},
   "outputs": [
    {
     "data": {
      "text/plain": [
       "array([[2, 2, 1],\n",
       "       [1, 2, 1],\n",
       "       [1, 1, 1]])"
      ]
     },
     "execution_count": 176,
     "metadata": {},
     "output_type": "execute_result"
    }
   ],
   "source": [
    "arr2"
   ]
  },
  {
   "cell_type": "code",
   "execution_count": 177,
   "id": "2c78ac27-dbbb-469a-8368-695737d72b5e",
   "metadata": {},
   "outputs": [
    {
     "data": {
      "text/plain": [
       "array([[4, 3, 3],\n",
       "       [3, 4, 3],\n",
       "       [2, 2, 2]])"
      ]
     },
     "execution_count": 177,
     "metadata": {},
     "output_type": "execute_result"
    }
   ],
   "source": [
    "#to add:\n",
    "arr1 + arr2"
   ]
  },
  {
   "cell_type": "code",
   "execution_count": 178,
   "id": "c5b3ed9a-be57-4683-ba0c-4e86f508b8c3",
   "metadata": {},
   "outputs": [
    {
     "data": {
      "text/plain": [
       "array([[ 0, -1,  1],\n",
       "       [ 1,  0,  1],\n",
       "       [ 0,  0,  0]])"
      ]
     },
     "execution_count": 178,
     "metadata": {},
     "output_type": "execute_result"
    }
   ],
   "source": [
    "arr1 - arr2"
   ]
  },
  {
   "cell_type": "code",
   "execution_count": 179,
   "id": "f14d4753-a89f-419c-97aa-dd2dd9e7f7b3",
   "metadata": {},
   "outputs": [],
   "source": [
    "#these are inex wise addition and subtraction of element"
   ]
  },
  {
   "cell_type": "code",
   "execution_count": 180,
   "id": "337cbed5-ee46-406c-8664-ccb5714d63d1",
   "metadata": {},
   "outputs": [
    {
     "data": {
      "text/plain": [
       "array([[4, 2, 2],\n",
       "       [2, 4, 2],\n",
       "       [1, 1, 1]])"
      ]
     },
     "execution_count": 180,
     "metadata": {},
     "output_type": "execute_result"
    }
   ],
   "source": [
    "arr1 * arr2  #index wise multiplication"
   ]
  },
  {
   "cell_type": "code",
   "execution_count": 183,
   "id": "1be6bc95-021e-4d8f-aae1-281408aa6443",
   "metadata": {},
   "outputs": [
    {
     "data": {
      "text/plain": [
       "(array([[2, 1, 2],\n",
       "        [2, 2, 2],\n",
       "        [1, 1, 1]]),\n",
       " array([[2, 2, 1],\n",
       "        [1, 2, 1],\n",
       "        [1, 1, 1]]))"
      ]
     },
     "execution_count": 183,
     "metadata": {},
     "output_type": "execute_result"
    }
   ],
   "source": [
    "arr1, arr2"
   ]
  },
  {
   "cell_type": "code",
   "execution_count": 184,
   "id": "b5ad537b-4a06-440b-91fc-0dbcb6e7f958",
   "metadata": {},
   "outputs": [
    {
     "data": {
      "text/plain": [
       "array([[1. , 0.5, 2. ],\n",
       "       [2. , 1. , 2. ],\n",
       "       [1. , 1. , 1. ]])"
      ]
     },
     "execution_count": 184,
     "metadata": {},
     "output_type": "execute_result"
    }
   ],
   "source": [
    "#divide element wise\n",
    "arr1/arr2 #index wise division"
   ]
  },
  {
   "cell_type": "code",
   "execution_count": null,
   "id": "a6a70520-490d-427d-911b-f093266d7079",
   "metadata": {},
   "outputs": [],
   "source": []
  },
  {
   "cell_type": "code",
   "execution_count": null,
   "id": "8a781695-b6c8-4efd-90f7-d5910356925d",
   "metadata": {},
   "outputs": [],
   "source": []
  },
  {
   "cell_type": "code",
   "execution_count": null,
   "id": "11dd3c39-b179-4d30-b638-275fd61eb885",
   "metadata": {},
   "outputs": [],
   "source": []
  },
  {
   "cell_type": "code",
   "execution_count": 185,
   "id": "c3e3c2dc-5a30-4aef-89e2-de2232e1e9d3",
   "metadata": {},
   "outputs": [],
   "source": [
    "\n",
    "#there is one more concept that is called as matrix or . matrix multiplication"
   ]
  },
  {
   "cell_type": "code",
   "execution_count": 187,
   "id": "8d92f92c-4f64-42d7-87ae-5e0d6da6cf74",
   "metadata": {},
   "outputs": [
    {
     "data": {
      "text/plain": [
       "array([[ 7,  8,  5],\n",
       "       [ 8, 10,  6],\n",
       "       [ 4,  5,  3]])"
      ]
     },
     "execution_count": 187,
     "metadata": {},
     "output_type": "execute_result"
    }
   ],
   "source": [
    "#MATRIX MULTIPLICTION >> different from index wise multiplication\n",
    "\n",
    "arr1 @ arr2 #1st way to do matrix multiplication"
   ]
  },
  {
   "cell_type": "code",
   "execution_count": 188,
   "id": "5b584edb-26df-45b4-af99-2913eb4666f3",
   "metadata": {},
   "outputs": [
    {
     "data": {
      "text/plain": [
       "array([[ 7,  8,  5],\n",
       "       [ 8, 10,  6],\n",
       "       [ 4,  5,  3]])"
      ]
     },
     "execution_count": 188,
     "metadata": {},
     "output_type": "execute_result"
    }
   ],
   "source": [
    "np.dot(arr1, arr2) #2st way to do matrix multiplication"
   ]
  },
  {
   "cell_type": "code",
   "execution_count": null,
   "id": "6f716f80-efdf-42ad-b0cb-b624162091ca",
   "metadata": {},
   "outputs": [],
   "source": []
  },
  {
   "cell_type": "code",
   "execution_count": null,
   "id": "d65d9792-1848-4b29-9d1f-601d2c5e95d4",
   "metadata": {},
   "outputs": [],
   "source": []
  },
  {
   "cell_type": "code",
   "execution_count": 189,
   "id": "3ffbe3ec-6fa6-461b-9fd7-2b5d71746dad",
   "metadata": {},
   "outputs": [
    {
     "name": "stderr",
     "output_type": "stream",
     "text": [
      "C:\\Users\\ASUS\\AppData\\Local\\Temp\\ipykernel_9948\\3039078041.py:2: RuntimeWarning: divide by zero encountered in divide\n",
      "  arr1/0\n"
     ]
    },
    {
     "data": {
      "text/plain": [
       "array([[inf, inf, inf],\n",
       "       [inf, inf, inf],\n",
       "       [inf, inf, inf]])"
      ]
     },
     "execution_count": 189,
     "metadata": {},
     "output_type": "execute_result"
    }
   ],
   "source": [
    "#if we divide by 0>>\n",
    "arr1/0"
   ]
  },
  {
   "cell_type": "code",
   "execution_count": 190,
   "id": "c1dd59a5-7616-4987-ad32-3bf9548a3556",
   "metadata": {},
   "outputs": [
    {
     "ename": "ZeroDivisionError",
     "evalue": "division by zero",
     "output_type": "error",
     "traceback": [
      "\u001b[1;31m---------------------------------------------------------------------------\u001b[0m",
      "\u001b[1;31mZeroDivisionError\u001b[0m                         Traceback (most recent call last)",
      "Cell \u001b[1;32mIn[190], line 1\u001b[0m\n\u001b[1;32m----> 1\u001b[0m \u001b[38;5;241m4\u001b[39m\u001b[38;5;241m/\u001b[39m\u001b[38;5;241m0\u001b[39m\n",
      "\u001b[1;31mZeroDivisionError\u001b[0m: division by zero"
     ]
    }
   ],
   "source": [
    "4/0"
   ]
  },
  {
   "cell_type": "code",
   "execution_count": 191,
   "id": "bfaaa79a-f98e-474e-a354-770e5f26c298",
   "metadata": {},
   "outputs": [],
   "source": [
    "#in python it will give error but in numpy it is inf, inf...."
   ]
  },
  {
   "cell_type": "code",
   "execution_count": null,
   "id": "113bbbdb-ec94-433f-b809-8c06bbd8ce77",
   "metadata": {},
   "outputs": [],
   "source": []
  },
  {
   "cell_type": "code",
   "execution_count": null,
   "id": "c74426cd-d0dd-4d0f-81bc-94c8640b9e50",
   "metadata": {},
   "outputs": [],
   "source": [
    "#BROADCASTING"
   ]
  },
  {
   "cell_type": "code",
   "execution_count": 192,
   "id": "2e0fe732-ec79-4514-9a3c-90843891dbbc",
   "metadata": {},
   "outputs": [],
   "source": [
    "arr = np.zeros((3,4))"
   ]
  },
  {
   "cell_type": "code",
   "execution_count": 193,
   "id": "20fbbfec-70d3-448b-9e76-8c063aacc18a",
   "metadata": {},
   "outputs": [
    {
     "data": {
      "text/plain": [
       "array([[0., 0., 0., 0.],\n",
       "       [0., 0., 0., 0.],\n",
       "       [0., 0., 0., 0.]])"
      ]
     },
     "execution_count": 193,
     "metadata": {},
     "output_type": "execute_result"
    }
   ],
   "source": [
    "arr"
   ]
  },
  {
   "cell_type": "code",
   "execution_count": 194,
   "id": "f72f6bc7-2b40-443a-bc97-52d2b43497a1",
   "metadata": {},
   "outputs": [
    {
     "data": {
      "text/plain": [
       "array([[5., 5., 5., 5.],\n",
       "       [5., 5., 5., 5.],\n",
       "       [5., 5., 5., 5.]])"
      ]
     },
     "execution_count": 194,
     "metadata": {},
     "output_type": "execute_result"
    }
   ],
   "source": [
    "arr + 5"
   ]
  },
  {
   "cell_type": "code",
   "execution_count": 195,
   "id": "9ffe4818-3681-4548-a057-4a0b0f7b5a30",
   "metadata": {},
   "outputs": [],
   "source": [
    "#interanlly waht will happen of same size (3,4) a matrix of 5 is created and then add each element , element wise"
   ]
  },
  {
   "cell_type": "code",
   "execution_count": 196,
   "id": "4d5081b5-fc2b-40d1-9c9e-a628505103cd",
   "metadata": {},
   "outputs": [
    {
     "data": {
      "text/plain": [
       "array([[-5., -5., -5., -5.],\n",
       "       [-5., -5., -5., -5.],\n",
       "       [-5., -5., -5., -5.]])"
      ]
     },
     "execution_count": 196,
     "metadata": {},
     "output_type": "execute_result"
    }
   ],
   "source": [
    "arr-5"
   ]
  },
  {
   "cell_type": "code",
   "execution_count": null,
   "id": "87b9d7e9-4c60-473d-93ea-7cb308e48a23",
   "metadata": {},
   "outputs": [],
   "source": []
  },
  {
   "cell_type": "code",
   "execution_count": null,
   "id": "67bcbd46-a773-4423-b405-df009be07772",
   "metadata": {},
   "outputs": [],
   "source": []
  },
  {
   "cell_type": "code",
   "execution_count": 197,
   "id": "d75865d1-9b52-440c-bcf2-0e2ac32f1692",
   "metadata": {},
   "outputs": [
    {
     "data": {
      "text/plain": [
       "array([[0., 0., 0., 0.],\n",
       "       [0., 0., 0., 0.],\n",
       "       [0., 0., 0., 0.]])"
      ]
     },
     "execution_count": 197,
     "metadata": {},
     "output_type": "execute_result"
    }
   ],
   "source": [
    "arr"
   ]
  },
  {
   "cell_type": "code",
   "execution_count": 198,
   "id": "c0302b3c-280e-42c4-bb2b-c45b5718c24d",
   "metadata": {},
   "outputs": [],
   "source": [
    "a = np.array([1, 2, 3, 4])"
   ]
  },
  {
   "cell_type": "code",
   "execution_count": 199,
   "id": "0809c53b-2513-467a-b4b9-686dd6c63823",
   "metadata": {},
   "outputs": [
    {
     "data": {
      "text/plain": [
       "array([1, 2, 3, 4])"
      ]
     },
     "execution_count": 199,
     "metadata": {},
     "output_type": "execute_result"
    }
   ],
   "source": [
    "a"
   ]
  },
  {
   "cell_type": "code",
   "execution_count": 200,
   "id": "786c3232-d57b-473e-9253-2011c0245bdf",
   "metadata": {},
   "outputs": [
    {
     "data": {
      "text/plain": [
       "1"
      ]
     },
     "execution_count": 200,
     "metadata": {},
     "output_type": "execute_result"
    }
   ],
   "source": [
    "a.ndim"
   ]
  },
  {
   "cell_type": "code",
   "execution_count": 203,
   "id": "67339f35-2884-4f98-9f6e-25fcc0468b82",
   "metadata": {},
   "outputs": [],
   "source": [
    "#arr this is our array and when we do arr + a what will happens?\n",
    "\n",
    "# array([[0., 0., 0., 0.],\n",
    "#        [0., 0., 0., 0.],\n",
    "#        [0., 0., 0., 0.]])  these orginial elements of all the elements ([1, 2, 3, 4]) will be broadcasted for each of these rows"
   ]
  },
  {
   "cell_type": "code",
   "execution_count": 204,
   "id": "a1e23a34-79c7-4a80-aa13-1811813a3924",
   "metadata": {},
   "outputs": [
    {
     "data": {
      "text/plain": [
       "array([[1., 2., 3., 4.],\n",
       "       [1., 2., 3., 4.],\n",
       "       [1., 2., 3., 4.]])"
      ]
     },
     "execution_count": 204,
     "metadata": {},
     "output_type": "execute_result"
    }
   ],
   "source": [
    "arr + a"
   ]
  },
  {
   "cell_type": "code",
   "execution_count": 205,
   "id": "6a731dd0-8796-42ca-ac50-dc2168f7215a",
   "metadata": {},
   "outputs": [],
   "source": [
    "#([1, 2, 3, 4]) will be broadcasted 3 times in 3 matrix with rest of element being 0 in diff - diff row every times  and then added  and we got this result"
   ]
  },
  {
   "cell_type": "code",
   "execution_count": null,
   "id": "d302c2f2-2978-4eae-bc19-6bd53fa82127",
   "metadata": {},
   "outputs": [],
   "source": []
  },
  {
   "cell_type": "code",
   "execution_count": null,
   "id": "37bf6d60-b8bb-43cc-ab7b-c8091d3d11b5",
   "metadata": {},
   "outputs": [],
   "source": []
  },
  {
   "cell_type": "code",
   "execution_count": 206,
   "id": "34a92ef2-f3de-4f85-b636-2ea6d691606d",
   "metadata": {},
   "outputs": [],
   "source": [
    "#CONCEPT OF TRANSPOSE>>"
   ]
  },
  {
   "cell_type": "code",
   "execution_count": 207,
   "id": "67615e23-a12a-4648-8807-34d0de125c0d",
   "metadata": {},
   "outputs": [],
   "source": [
    "#making row >> column"
   ]
  },
  {
   "cell_type": "code",
   "execution_count": 208,
   "id": "be564f20-567b-4a33-b548-d85d72dfcded",
   "metadata": {},
   "outputs": [],
   "source": [
    "a = np.array([1, 2, 3, 4])"
   ]
  },
  {
   "cell_type": "code",
   "execution_count": 209,
   "id": "0f6f2e5c-f58f-4b0d-9c0a-f02ad89ad485",
   "metadata": {},
   "outputs": [
    {
     "data": {
      "text/plain": [
       "array([1, 2, 3, 4])"
      ]
     },
     "execution_count": 209,
     "metadata": {},
     "output_type": "execute_result"
    }
   ],
   "source": [
    "a"
   ]
  },
  {
   "cell_type": "code",
   "execution_count": 210,
   "id": "d9f691e9-74de-44ae-957e-159203d6e1a8",
   "metadata": {},
   "outputs": [],
   "source": [
    "#making row >> column"
   ]
  },
  {
   "cell_type": "code",
   "execution_count": 211,
   "id": "5bb22006-1d2c-4f4a-b34d-c595911bb852",
   "metadata": {},
   "outputs": [
    {
     "data": {
      "text/plain": [
       "array([1, 2, 3, 4])"
      ]
     },
     "execution_count": 211,
     "metadata": {},
     "output_type": "execute_result"
    }
   ],
   "source": [
    "a.T"
   ]
  },
  {
   "cell_type": "code",
   "execution_count": 212,
   "id": "55bb29e9-fc5c-4595-987a-021c27c7c150",
   "metadata": {},
   "outputs": [],
   "source": [
    "#since it is 1D we are not able to understand"
   ]
  },
  {
   "cell_type": "code",
   "execution_count": null,
   "id": "9c60156b-319a-452d-9f5e-af364c32943d",
   "metadata": {},
   "outputs": [],
   "source": []
  },
  {
   "cell_type": "code",
   "execution_count": 214,
   "id": "bd55a442-458f-438c-88e5-9772fd744b9d",
   "metadata": {},
   "outputs": [],
   "source": [
    "#now if make it 2D>>\n",
    "#and then make it transpose>>\n",
    "\n",
    "a = np.array([[1, 2, 3, 4]])"
   ]
  },
  {
   "cell_type": "code",
   "execution_count": 215,
   "id": "7e534f94-d8d0-48ca-b099-1c901da7df8d",
   "metadata": {},
   "outputs": [
    {
     "data": {
      "text/plain": [
       "array([[1, 2, 3, 4]])"
      ]
     },
     "execution_count": 215,
     "metadata": {},
     "output_type": "execute_result"
    }
   ],
   "source": [
    "#now its 2D\n",
    "a"
   ]
  },
  {
   "cell_type": "code",
   "execution_count": 216,
   "id": "d1cb1166-8655-49d0-90ad-53c60b31e6bf",
   "metadata": {},
   "outputs": [
    {
     "data": {
      "text/plain": [
       "array([[1],\n",
       "       [2],\n",
       "       [3],\n",
       "       [4]])"
      ]
     },
     "execution_count": 216,
     "metadata": {},
     "output_type": "execute_result"
    }
   ],
   "source": [
    "a.T  #and if we make transpose now"
   ]
  },
  {
   "cell_type": "code",
   "execution_count": null,
   "id": "f8b8b033-8bf6-4eb4-8ad1-a034b4af4a29",
   "metadata": {},
   "outputs": [],
   "source": []
  },
  {
   "cell_type": "code",
   "execution_count": 217,
   "id": "0cdfd7e8-b9f6-475e-b34e-2e6d30ad8052",
   "metadata": {},
   "outputs": [
    {
     "data": {
      "text/plain": [
       "array([[2, 1, 2],\n",
       "       [2, 2, 2],\n",
       "       [1, 1, 1]])"
      ]
     },
     "execution_count": 217,
     "metadata": {},
     "output_type": "execute_result"
    }
   ],
   "source": [
    "arr1"
   ]
  },
  {
   "cell_type": "code",
   "execution_count": 218,
   "id": "04334ab5-c56f-4494-89df-8f642f10c8c1",
   "metadata": {},
   "outputs": [
    {
     "data": {
      "text/plain": [
       "array([[2, 2, 1],\n",
       "       [1, 2, 1],\n",
       "       [2, 2, 1]])"
      ]
     },
     "execution_count": 218,
     "metadata": {},
     "output_type": "execute_result"
    }
   ],
   "source": [
    "arr1.T"
   ]
  },
  {
   "cell_type": "code",
   "execution_count": 221,
   "id": "6bd0372a-7721-4d12-a15a-51da84ab49de",
   "metadata": {},
   "outputs": [],
   "source": [
    "arr1 = np.random.randint(1,4, (3,3))"
   ]
  },
  {
   "cell_type": "code",
   "execution_count": 222,
   "id": "58e98531-ac20-49f1-8c62-3a5d4c539f4a",
   "metadata": {},
   "outputs": [
    {
     "data": {
      "text/plain": [
       "array([[1, 3, 3],\n",
       "       [1, 1, 1],\n",
       "       [2, 2, 3]])"
      ]
     },
     "execution_count": 222,
     "metadata": {},
     "output_type": "execute_result"
    }
   ],
   "source": [
    "arr1"
   ]
  },
  {
   "cell_type": "code",
   "execution_count": 223,
   "id": "135e9b0e-bb49-4a2a-89d5-8a3e8c228dec",
   "metadata": {},
   "outputs": [
    {
     "data": {
      "text/plain": [
       "array([[1, 1, 2],\n",
       "       [3, 1, 2],\n",
       "       [3, 1, 3]])"
      ]
     },
     "execution_count": 223,
     "metadata": {},
     "output_type": "execute_result"
    }
   ],
   "source": [
    "arr1.T"
   ]
  },
  {
   "cell_type": "code",
   "execution_count": 224,
   "id": "ee4689cf-6f4a-432f-87ef-533417c6b251",
   "metadata": {},
   "outputs": [],
   "source": [
    "#row become column here"
   ]
  },
  {
   "cell_type": "code",
   "execution_count": null,
   "id": "49299b2a-35f6-4aca-a804-72bae49c9144",
   "metadata": {},
   "outputs": [],
   "source": []
  },
  {
   "cell_type": "code",
   "execution_count": null,
   "id": "05d8117d-d55a-4680-8250-bdc580c70fc3",
   "metadata": {},
   "outputs": [],
   "source": []
  },
  {
   "cell_type": "code",
   "execution_count": 225,
   "id": "f20f3789-c0d2-4050-8a3c-6c20d7c9308f",
   "metadata": {},
   "outputs": [
    {
     "data": {
      "text/plain": [
       "array([[1.        , 1.73205081, 1.73205081],\n",
       "       [1.        , 1.        , 1.        ],\n",
       "       [1.41421356, 1.41421356, 1.73205081]])"
      ]
     },
     "execution_count": 225,
     "metadata": {},
     "output_type": "execute_result"
    }
   ],
   "source": [
    "#square root>>\n",
    "np.sqrt(arr1)"
   ]
  },
  {
   "cell_type": "code",
   "execution_count": 226,
   "id": "fcbd49c0-cda5-4be8-ba96-cf809c53df47",
   "metadata": {},
   "outputs": [
    {
     "data": {
      "text/plain": [
       "array([[0.        , 0.47712125, 0.47712125],\n",
       "       [0.        , 0.        , 0.        ],\n",
       "       [0.30103   , 0.30103   , 0.47712125]])"
      ]
     },
     "execution_count": 226,
     "metadata": {},
     "output_type": "execute_result"
    }
   ],
   "source": [
    "#log10\n",
    "np.log10(arr1)"
   ]
  },
  {
   "cell_type": "code",
   "execution_count": 227,
   "id": "c5387865-a1ba-4386-85af-d339f1524678",
   "metadata": {},
   "outputs": [
    {
     "data": {
      "text/plain": [
       "array([[ 2.71828183, 20.08553692, 20.08553692],\n",
       "       [ 2.71828183,  2.71828183,  2.71828183],\n",
       "       [ 7.3890561 ,  7.3890561 , 20.08553692]])"
      ]
     },
     "execution_count": 227,
     "metadata": {},
     "output_type": "execute_result"
    }
   ],
   "source": [
    "#expontial\n",
    "np.exp(arr1)"
   ]
  },
  {
   "cell_type": "code",
   "execution_count": 228,
   "id": "a0bd1b3c-19a7-473a-9985-0759ff248793",
   "metadata": {},
   "outputs": [
    {
     "data": {
      "text/plain": [
       "1"
      ]
     },
     "execution_count": 228,
     "metadata": {},
     "output_type": "execute_result"
    }
   ],
   "source": [
    "#min of all the array\n",
    "np.min(arr1)"
   ]
  },
  {
   "cell_type": "code",
   "execution_count": 229,
   "id": "63c95f05-a7bb-471a-90d3-0f55486779cc",
   "metadata": {},
   "outputs": [
    {
     "data": {
      "text/plain": [
       "3"
      ]
     },
     "execution_count": 229,
     "metadata": {},
     "output_type": "execute_result"
    }
   ],
   "source": [
    "#max of all the array\n",
    "np.max(arr1)"
   ]
  },
  {
   "cell_type": "code",
   "execution_count": null,
   "id": "9b10110f-702a-4333-aa77-9bab710c6d81",
   "metadata": {},
   "outputs": [],
   "source": []
  }
 ],
 "metadata": {
  "kernelspec": {
   "display_name": "Python 3 (ipykernel)",
   "language": "python",
   "name": "python3"
  },
  "language_info": {
   "codemirror_mode": {
    "name": "ipython",
    "version": 3
   },
   "file_extension": ".py",
   "mimetype": "text/x-python",
   "name": "python",
   "nbconvert_exporter": "python",
   "pygments_lexer": "ipython3",
   "version": "3.12.7"
  }
 },
 "nbformat": 4,
 "nbformat_minor": 5
}
