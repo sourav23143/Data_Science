{
 "cells": [
  {
   "cell_type": "code",
   "execution_count": 1,
   "id": "61eb0432-b4e7-4e5e-bfae-bda89fc60983",
   "metadata": {},
   "outputs": [],
   "source": [
    "#numpy >> numerical python\n",
    "#in 2005 by Travis Oliphnat"
   ]
  },
  {
   "cell_type": "code",
   "execution_count": 2,
   "id": "f293ff29-a370-4d52-8e4c-9fe504247f56",
   "metadata": {},
   "outputs": [],
   "source": [
    "#before numpy python donot have any library for mathmathetical calculation\n",
    "#so there was need of libary on python which  much focused on mathmatical calculation"
   ]
  },
  {
   "cell_type": "code",
   "execution_count": 3,
   "id": "28e804a0-2bb2-4429-bb33-4dd68d261136",
   "metadata": {},
   "outputs": [],
   "source": [
    "#importing\n",
    "import numpy as np\n"
   ]
  },
  {
   "cell_type": "code",
   "execution_count": 4,
   "id": "35d7aee4-02fc-4e6a-b9ce-b5c4a21c854a",
   "metadata": {},
   "outputs": [
    {
     "data": {
      "text/plain": [
       "'1.26.4'"
      ]
     },
     "execution_count": 4,
     "metadata": {},
     "output_type": "execute_result"
    }
   ],
   "source": [
    "np.__version__\n"
   ]
  },
  {
   "cell_type": "code",
   "execution_count": 5,
   "id": "25f9fff8-f15f-4636-8b5d-a5d9141b91ef",
   "metadata": {},
   "outputs": [
    {
     "name": "stdout",
     "output_type": "stream",
     "text": [
      "\n",
      "NumPy\n",
      "=====\n",
      "\n",
      "Provides\n",
      "  1. An array object of arbitrary homogeneous items\n",
      "  2. Fast mathematical operations over arrays\n",
      "  3. Linear Algebra, Fourier Transforms, Random Number Generation\n",
      "\n",
      "How to use the documentation\n",
      "----------------------------\n",
      "Documentation is available in two forms: docstrings provided\n",
      "with the code, and a loose standing reference guide, available from\n",
      "`the NumPy homepage <https://numpy.org>`_.\n",
      "\n",
      "We recommend exploring the docstrings using\n",
      "`IPython <https://ipython.org>`_, an advanced Python shell with\n",
      "TAB-completion and introspection capabilities.  See below for further\n",
      "instructions.\n",
      "\n",
      "The docstring examples assume that `numpy` has been imported as ``np``::\n",
      "\n",
      "  >>> import numpy as np\n",
      "\n",
      "Code snippets are indicated by three greater-than signs::\n",
      "\n",
      "  >>> x = 42\n",
      "  >>> x = x + 1\n",
      "\n",
      "Use the built-in ``help`` function to view a function's docstring::\n",
      "\n",
      "  >>> help(np.sort)\n",
      "  ... # doctest: +SKIP\n",
      "\n",
      "For some objects, ``np.info(obj)`` may provide additional help.  This is\n",
      "particularly true if you see the line \"Help on ufunc object:\" at the top\n",
      "of the help() page.  Ufuncs are implemented in C, not Python, for speed.\n",
      "The native Python help() does not know how to view their help, but our\n",
      "np.info() function does.\n",
      "\n",
      "To search for documents containing a keyword, do::\n",
      "\n",
      "  >>> np.lookfor('keyword')\n",
      "  ... # doctest: +SKIP\n",
      "\n",
      "General-purpose documents like a glossary and help on the basic concepts\n",
      "of numpy are available under the ``doc`` sub-module::\n",
      "\n",
      "  >>> from numpy import doc\n",
      "  >>> help(doc)\n",
      "  ... # doctest: +SKIP\n",
      "\n",
      "Available subpackages\n",
      "---------------------\n",
      "lib\n",
      "    Basic functions used by several sub-packages.\n",
      "random\n",
      "    Core Random Tools\n",
      "linalg\n",
      "    Core Linear Algebra Tools\n",
      "fft\n",
      "    Core FFT routines\n",
      "polynomial\n",
      "    Polynomial tools\n",
      "testing\n",
      "    NumPy testing tools\n",
      "distutils\n",
      "    Enhancements to distutils with support for\n",
      "    Fortran compilers support and more  (for Python <= 3.11).\n",
      "\n",
      "Utilities\n",
      "---------\n",
      "test\n",
      "    Run numpy unittests\n",
      "show_config\n",
      "    Show numpy build configuration\n",
      "matlib\n",
      "    Make everything matrices.\n",
      "__version__\n",
      "    NumPy version string\n",
      "\n",
      "Viewing documentation using IPython\n",
      "-----------------------------------\n",
      "\n",
      "Start IPython and import `numpy` usually under the alias ``np``: `import\n",
      "numpy as np`.  Then, directly past or use the ``%cpaste`` magic to paste\n",
      "examples into the shell.  To see which functions are available in `numpy`,\n",
      "type ``np.<TAB>`` (where ``<TAB>`` refers to the TAB key), or use\n",
      "``np.*cos*?<ENTER>`` (where ``<ENTER>`` refers to the ENTER key) to narrow\n",
      "down the list.  To view the docstring for a function, use\n",
      "``np.cos?<ENTER>`` (to view the docstring) and ``np.cos??<ENTER>`` (to view\n",
      "the source code).\n",
      "\n",
      "Copies vs. in-place operation\n",
      "-----------------------------\n",
      "Most of the functions in `numpy` return a copy of the array argument\n",
      "(e.g., `np.sort`).  In-place versions of these functions are often\n",
      "available as array methods, i.e. ``x = np.array([1,2,3]); x.sort()``.\n",
      "Exceptions to this rule are documented.\n",
      "\n",
      "\n"
     ]
    }
   ],
   "source": [
    "print(np.__doc__)   #to see numpy doc"
   ]
  },
  {
   "cell_type": "code",
   "execution_count": 6,
   "id": "95c67c90-86ee-4a39-8a0f-df9c29fe0bce",
   "metadata": {},
   "outputs": [],
   "source": [
    "#we know list\n"
   ]
  },
  {
   "cell_type": "code",
   "execution_count": 7,
   "id": "320b585b-be7a-423d-85cb-01b4a4c917df",
   "metadata": {},
   "outputs": [],
   "source": [
    "lis= [1, 2, 3, \"sourav\", 3+5j, True, 1.2]\n",
    "#in it we can put any type of data\n"
   ]
  },
  {
   "cell_type": "code",
   "execution_count": 8,
   "id": "24815cff-1407-4588-932c-dc31c7946e8c",
   "metadata": {},
   "outputs": [
    {
     "data": {
      "text/plain": [
       "list"
      ]
     },
     "execution_count": 8,
     "metadata": {},
     "output_type": "execute_result"
    }
   ],
   "source": [
    "type(lis)"
   ]
  },
  {
   "cell_type": "code",
   "execution_count": 9,
   "id": "5f3cfb89-6e52-4352-8525-211e78f3393e",
   "metadata": {},
   "outputs": [],
   "source": [
    "#Numpy stores data in array\n",
    "\n",
    "#AN array is a container used to store the data of same data type such as integer, float or character\n",
    "#array is the container that strore only homgenous data\n",
    "\n",
    "#where in list we can store any type of data"
   ]
  },
  {
   "cell_type": "code",
   "execution_count": 10,
   "id": "98ac50c0-dbbe-4b0a-9640-cb322ed2eb8f",
   "metadata": {},
   "outputs": [],
   "source": [
    "#why numpy:\n",
    "\n",
    "#1 >>computation is fast>> because numpy store data in the form of array and store only of same data type\n",
    "\n",
    "#array is fast as compare to list as it is continous memory location\n",
    "\n",
    "#in list this is not the case\n",
    "\n",
    "#2>> mathmatical computation"
   ]
  },
  {
   "cell_type": "code",
   "execution_count": null,
   "id": "40d18e5e-9831-4bc4-907a-3ffaf57b7c65",
   "metadata": {},
   "outputs": [],
   "source": []
  },
  {
   "cell_type": "code",
   "execution_count": 11,
   "id": "f3557011-c0fb-4c72-9242-c2f40d6f546e",
   "metadata": {},
   "outputs": [
    {
     "data": {
      "text/plain": [
       "[1, 2, 3, 4, 5]"
      ]
     },
     "execution_count": 11,
     "metadata": {},
     "output_type": "execute_result"
    }
   ],
   "source": [
    "l = [1, 2, 3, 4, 5]  #this is an list\n",
    "l"
   ]
  },
  {
   "cell_type": "code",
   "execution_count": 12,
   "id": "178dd76d-ed3b-401b-ade6-492c02256672",
   "metadata": {},
   "outputs": [],
   "source": [
    "#to convert this list into array>>\n",
    "arr= np.array(l)"
   ]
  },
  {
   "cell_type": "code",
   "execution_count": 13,
   "id": "dddab464-d914-4ac4-9ccc-cb8c86daecf0",
   "metadata": {},
   "outputs": [
    {
     "data": {
      "text/plain": [
       "array([1, 2, 3, 4, 5])"
      ]
     },
     "execution_count": 13,
     "metadata": {},
     "output_type": "execute_result"
    }
   ],
   "source": [
    "arr"
   ]
  },
  {
   "cell_type": "code",
   "execution_count": 14,
   "id": "2b8f24c1-1dd8-47d8-a045-2c643985c2cf",
   "metadata": {},
   "outputs": [],
   "source": [
    "#array([1, 2, 3, 4, 5]) >> this mean all these are homogenous data >> means all are intgers\n"
   ]
  },
  {
   "cell_type": "code",
   "execution_count": 15,
   "id": "2541ab7f-3385-4cbf-8873-3fdd73b79ba8",
   "metadata": {},
   "outputs": [],
   "source": [
    "l =[1, 2,3, 4, 5.1]\n",
    "arr= np.array(l)"
   ]
  },
  {
   "cell_type": "code",
   "execution_count": 16,
   "id": "3b94d514-59b3-4105-9cb6-20e99f721223",
   "metadata": {},
   "outputs": [
    {
     "data": {
      "text/plain": [
       "array([1. , 2. , 3. , 4. , 5.1])"
      ]
     },
     "execution_count": 16,
     "metadata": {},
     "output_type": "execute_result"
    }
   ],
   "source": [
    "arr"
   ]
  },
  {
   "cell_type": "code",
   "execution_count": 17,
   "id": "6095f616-360c-460f-bba3-369c215e15e7",
   "metadata": {},
   "outputs": [],
   "source": [
    "#now we can see all the element get converted to float type"
   ]
  },
  {
   "cell_type": "code",
   "execution_count": 18,
   "id": "65e7a1d0-1891-4b66-aa85-5b975df32092",
   "metadata": {},
   "outputs": [],
   "source": [
    "l =[1, 2,3, 4, 5.1, \"Ajay\"]\n",
    "arr= np.array(l)"
   ]
  },
  {
   "cell_type": "code",
   "execution_count": 19,
   "id": "59a7f209-d351-484a-9952-b2adbd76a1c9",
   "metadata": {},
   "outputs": [
    {
     "data": {
      "text/plain": [
       "array(['1', '2', '3', '4', '5.1', 'Ajay'], dtype='<U32')"
      ]
     },
     "execution_count": 19,
     "metadata": {},
     "output_type": "execute_result"
    }
   ],
   "source": [
    "arr"
   ]
  },
  {
   "cell_type": "code",
   "execution_count": 20,
   "id": "0a5517e3-c8f2-48a8-bc9c-896aced0ee7d",
   "metadata": {},
   "outputs": [],
   "source": [
    "#now we can see all get converted to string"
   ]
  },
  {
   "cell_type": "code",
   "execution_count": 21,
   "id": "6dd67e60-d0f5-4825-a42a-b5eea78aaba5",
   "metadata": {},
   "outputs": [],
   "source": [
    "#it will never happen that one data is string and other are others "
   ]
  },
  {
   "cell_type": "code",
   "execution_count": 22,
   "id": "604b0c30-f3fc-47e6-989d-18793b1eda71",
   "metadata": {},
   "outputs": [],
   "source": [
    "#for this the type element get converted to maintain homogenity"
   ]
  },
  {
   "cell_type": "code",
   "execution_count": 23,
   "id": "dc3cb0a1-ab8c-49dc-9e83-a0ecab556660",
   "metadata": {},
   "outputs": [],
   "source": [
    "#so in this way array store homogenous data and this is the reason it is faster as compare to list"
   ]
  },
  {
   "cell_type": "code",
   "execution_count": null,
   "id": "fbb752d7-966e-4639-8ea7-147567a52e76",
   "metadata": {},
   "outputs": [],
   "source": []
  },
  {
   "cell_type": "code",
   "execution_count": 24,
   "id": "c47a9154-8265-4910-bace-0998c78824cb",
   "metadata": {},
   "outputs": [
    {
     "data": {
      "text/plain": [
       "numpy.ndarray"
      ]
     },
     "execution_count": 24,
     "metadata": {},
     "output_type": "execute_result"
    }
   ],
   "source": [
    "type(arr)"
   ]
  },
  {
   "cell_type": "code",
   "execution_count": 25,
   "id": "fc8b78c0-20f9-46d1-b01c-f9740dea6187",
   "metadata": {},
   "outputs": [],
   "source": [
    "#here nd stand for n dimensions"
   ]
  },
  {
   "cell_type": "code",
   "execution_count": 26,
   "id": "49fb46ad-a64e-4508-b45c-f5aef91cc8e2",
   "metadata": {},
   "outputs": [
    {
     "data": {
      "text/plain": [
       "1"
      ]
     },
     "execution_count": 26,
     "metadata": {},
     "output_type": "execute_result"
    }
   ],
   "source": [
    "#to know what is the dimension of array\n",
    "arr.ndim"
   ]
  },
  {
   "cell_type": "code",
   "execution_count": null,
   "id": "89a8f7de-dc47-43e0-a1ec-251a5d276f3b",
   "metadata": {},
   "outputs": [],
   "source": []
  },
  {
   "cell_type": "code",
   "execution_count": 58,
   "id": "12783045-305f-4396-9f93-400c5840f100",
   "metadata": {},
   "outputs": [
    {
     "data": {
      "text/plain": [
       "array([[1, 2, 3],\n",
       "       [4, 5, 6],\n",
       "       [7, 8, 9]])"
      ]
     },
     "execution_count": 58,
     "metadata": {},
     "output_type": "execute_result"
    }
   ],
   "source": [
    "#to make 2d array>>\n",
    "\n",
    "arr1 = np.array([[1,2,3], [4,5,6]])  #here list inside a list\n",
    "arr1"
   ]
  },
  {
   "cell_type": "code",
   "execution_count": 59,
   "id": "5d3a54a0-8ae1-440a-ab9e-2fd04ebc65f4",
   "metadata": {},
   "outputs": [
    {
     "data": {
      "text/plain": [
       "array([[1, 2, 3],\n",
       "       [4, 5, 6],\n",
       "       [7, 8, 9]])"
      ]
     },
     "execution_count": 59,
     "metadata": {},
     "output_type": "execute_result"
    }
   ],
   "source": [
    "arr1 = np.array([[1,2,3], [4,5,6], [7, 8, 9]])  #here list inside a list\n",
    "arr1"
   ]
  },
  {
   "cell_type": "code",
   "execution_count": 28,
   "id": "f7f8d2e5-c1a3-497c-8808-e63b4381e8be",
   "metadata": {},
   "outputs": [],
   "source": [
    "#now we can see it is of two dimension\n",
    "# there is square bracket two in no. [[ , so, it represent 2 dimensional array"
   ]
  },
  {
   "cell_type": "code",
   "execution_count": 29,
   "id": "25495dcb-9ac2-440f-a3ad-58a898ed024d",
   "metadata": {},
   "outputs": [
    {
     "data": {
      "text/plain": [
       "numpy.ndarray"
      ]
     },
     "execution_count": 29,
     "metadata": {},
     "output_type": "execute_result"
    }
   ],
   "source": [
    "type(arr1)"
   ]
  },
  {
   "cell_type": "code",
   "execution_count": 30,
   "id": "41b77d36-cc62-41b4-8669-b8b093ec9c85",
   "metadata": {},
   "outputs": [
    {
     "data": {
      "text/plain": [
       "2"
      ]
     },
     "execution_count": 30,
     "metadata": {},
     "output_type": "execute_result"
    }
   ],
   "source": [
    "arr1.ndim"
   ]
  },
  {
   "cell_type": "code",
   "execution_count": 31,
   "id": "42489283-0399-4953-a33c-0a8795754caa",
   "metadata": {},
   "outputs": [],
   "source": [
    "#"
   ]
  },
  {
   "cell_type": "code",
   "execution_count": null,
   "id": "81bb004b-9338-4b12-baa6-9518907b4897",
   "metadata": {},
   "outputs": [],
   "source": []
  },
  {
   "cell_type": "markdown",
   "id": "f63bf12e-9d00-4f21-928d-4bcd95c51b45",
   "metadata": {},
   "source": [
    "## Matrix in Numpy\n"
   ]
  },
  {
   "cell_type": "code",
   "execution_count": 32,
   "id": "db179012-9674-4bd2-b5f8-3629f1230433",
   "metadata": {},
   "outputs": [],
   "source": [
    "#matrix is the way to represent data in vector form"
   ]
  },
  {
   "cell_type": "code",
   "execution_count": 33,
   "id": "31af5c21-21df-49f6-9e0c-9c95559b415f",
   "metadata": {},
   "outputs": [],
   "source": [
    "#matrix is a spelized array.\n",
    "#it is alwyas in 2D\n",
    "\n",
    "#we cannot make 3D matrix"
   ]
  },
  {
   "cell_type": "code",
   "execution_count": 34,
   "id": "403a76a4-7f26-4b96-8e00-7068cf3c7586",
   "metadata": {},
   "outputs": [],
   "source": [
    "max1= np.matrix([1,2,3,4])  #in this np.matrix()  we can pass any no. whatever we want to keep as a matrix"
   ]
  },
  {
   "cell_type": "code",
   "execution_count": 35,
   "id": "e0676d65-5fca-433e-b74e-3359087cad2b",
   "metadata": {},
   "outputs": [],
   "source": [
    "#we need matrix since some calculation for matrix is different\n",
    "#for example matrix multiplication, inverse of the matrix\n",
    "\n",
    "#sp for those calc. we have this spelized array called matrix"
   ]
  },
  {
   "cell_type": "code",
   "execution_count": 36,
   "id": "cf0b13cf-7fda-4876-89ef-48a9038fa29c",
   "metadata": {},
   "outputs": [
    {
     "data": {
      "text/plain": [
       "matrix([[1, 2, 3, 4]])"
      ]
     },
     "execution_count": 36,
     "metadata": {},
     "output_type": "execute_result"
    }
   ],
   "source": [
    "max1"
   ]
  },
  {
   "cell_type": "code",
   "execution_count": 37,
   "id": "1a29f0ee-c3b2-4de5-a07c-be015457f925",
   "metadata": {},
   "outputs": [
    {
     "data": {
      "text/plain": [
       "numpy.matrix"
      ]
     },
     "execution_count": 37,
     "metadata": {},
     "output_type": "execute_result"
    }
   ],
   "source": [
    "type(max1)"
   ]
  },
  {
   "cell_type": "code",
   "execution_count": 38,
   "id": "af2d8d1c-6ed7-42b0-b4fc-b0bdc699f42d",
   "metadata": {},
   "outputs": [
    {
     "ename": "ValueError",
     "evalue": "matrix must be 2-dimensional",
     "output_type": "error",
     "traceback": [
      "\u001b[1;31m---------------------------------------------------------------------------\u001b[0m",
      "\u001b[1;31mValueError\u001b[0m                                Traceback (most recent call last)",
      "Cell \u001b[1;32mIn[38], line 4\u001b[0m\n\u001b[0;32m      1\u001b[0m \u001b[38;5;66;03m##we cannot make 3D matrix\u001b[39;00m\n\u001b[0;32m      2\u001b[0m \u001b[38;5;66;03m#let's try to build\u001b[39;00m\n\u001b[1;32m----> 4\u001b[0m np\u001b[38;5;241m.\u001b[39mmatrix([[[\u001b[38;5;241m1\u001b[39m,\u001b[38;5;241m2\u001b[39m], [\u001b[38;5;241m3\u001b[39m,\u001b[38;5;241m4\u001b[39m], [\u001b[38;5;241m5\u001b[39m,\u001b[38;5;241m6\u001b[39m]]])\n",
      "File \u001b[1;32mC:\\ProgramData\\anaconda3\\Lib\\site-packages\\numpy\\matrixlib\\defmatrix.py:150\u001b[0m, in \u001b[0;36mmatrix.__new__\u001b[1;34m(subtype, data, dtype, copy)\u001b[0m\n\u001b[0;32m    148\u001b[0m shape \u001b[38;5;241m=\u001b[39m arr\u001b[38;5;241m.\u001b[39mshape\n\u001b[0;32m    149\u001b[0m \u001b[38;5;28;01mif\u001b[39;00m (ndim \u001b[38;5;241m>\u001b[39m \u001b[38;5;241m2\u001b[39m):\n\u001b[1;32m--> 150\u001b[0m     \u001b[38;5;28;01mraise\u001b[39;00m \u001b[38;5;167;01mValueError\u001b[39;00m(\u001b[38;5;124m\"\u001b[39m\u001b[38;5;124mmatrix must be 2-dimensional\u001b[39m\u001b[38;5;124m\"\u001b[39m)\n\u001b[0;32m    151\u001b[0m \u001b[38;5;28;01melif\u001b[39;00m ndim \u001b[38;5;241m==\u001b[39m \u001b[38;5;241m0\u001b[39m:\n\u001b[0;32m    152\u001b[0m     shape \u001b[38;5;241m=\u001b[39m (\u001b[38;5;241m1\u001b[39m, \u001b[38;5;241m1\u001b[39m)\n",
      "\u001b[1;31mValueError\u001b[0m: matrix must be 2-dimensional"
     ]
    }
   ],
   "source": [
    "##we cannot make 3D matrix\n",
    "#let's try to build\n",
    "\n",
    "np.matrix([[[1,2], [3,4], [5,6]]])"
   ]
  },
  {
   "cell_type": "code",
   "execution_count": null,
   "id": "0ea22305-1225-488f-891b-4e92faf9f6f4",
   "metadata": {},
   "outputs": [],
   "source": [
    "#hence matrix must be always 2D"
   ]
  },
  {
   "cell_type": "code",
   "execution_count": null,
   "id": "0cad3ebe-8d2d-472f-b20e-78759cfd5abe",
   "metadata": {},
   "outputs": [],
   "source": [
    "max1 = np.matrix([[1,2], [2,3]])"
   ]
  },
  {
   "cell_type": "code",
   "execution_count": null,
   "id": "0ad6280d-4318-4f0a-857a-c3e74efb3c3e",
   "metadata": {},
   "outputs": [],
   "source": [
    "max1"
   ]
  },
  {
   "cell_type": "code",
   "execution_count": 39,
   "id": "4dbe8e6c-c79c-4c4b-885f-77c80baf891c",
   "metadata": {},
   "outputs": [],
   "source": [
    "#A matrix is a specialized 2-D array that retains its 2-D nature through operations.\n",
    "#It has certain special operators, such as * (matrix multiplication) and ** (matrix power)."
   ]
  },
  {
   "cell_type": "code",
   "execution_count": null,
   "id": "1b6816f3-4990-493a-9796-5171d05c4244",
   "metadata": {},
   "outputs": [],
   "source": []
  },
  {
   "cell_type": "code",
   "execution_count": null,
   "id": "9214f180-80b8-4bff-bdbb-a50f2fee0684",
   "metadata": {},
   "outputs": [],
   "source": []
  },
  {
   "cell_type": "code",
   "execution_count": 40,
   "id": "be149c55-7fe2-4d00-8709-187ff55c9995",
   "metadata": {},
   "outputs": [],
   "source": [
    "#one way to convert something is np.array()\n",
    "\n",
    "#there are another way to convert as array>>"
   ]
  },
  {
   "cell_type": "code",
   "execution_count": 41,
   "id": "7a28d58c-65cb-4ebc-a051-5ba87b1786a8",
   "metadata": {},
   "outputs": [
    {
     "data": {
      "text/plain": [
       "array([1, 2, 3, 4])"
      ]
     },
     "execution_count": 41,
     "metadata": {},
     "output_type": "execute_result"
    }
   ],
   "source": [
    "#More way to convert array\n",
    "\n",
    "l= [1, 2, 3, 4]\n",
    "np.asarray(l)  #it will also convert which is  an array or it sub-class to an array"
   ]
  },
  {
   "cell_type": "code",
   "execution_count": null,
   "id": "cc8c8282-ba27-438b-abd7-df4a47d92b8b",
   "metadata": {},
   "outputs": [],
   "source": []
  },
  {
   "cell_type": "code",
   "execution_count": 42,
   "id": "18fe2153-c68e-456c-8563-a350fdb0cff6",
   "metadata": {},
   "outputs": [],
   "source": [
    "#if something is already an array or it sub-class it will also convert it in array>>\n"
   ]
  },
  {
   "cell_type": "code",
   "execution_count": 43,
   "id": "54679d09-056e-4a26-857b-3cd33cea7d1b",
   "metadata": {},
   "outputs": [],
   "source": [
    "max1= np.matrix([1,2,3,4]) "
   ]
  },
  {
   "cell_type": "code",
   "execution_count": 44,
   "id": "bb9cf485-5638-4ac5-b69b-ef0fa8db637c",
   "metadata": {},
   "outputs": [
    {
     "data": {
      "text/plain": [
       "matrix([[1, 2, 3, 4]])"
      ]
     },
     "execution_count": 44,
     "metadata": {},
     "output_type": "execute_result"
    }
   ],
   "source": [
    "max1"
   ]
  },
  {
   "cell_type": "code",
   "execution_count": 45,
   "id": "4f400eb4-07af-49fa-a472-7c2794800ac4",
   "metadata": {},
   "outputs": [],
   "source": [
    "#As matrix already a Array sub-class\n",
    "\n",
    "#now if we putr max1 in np.asarray()"
   ]
  },
  {
   "cell_type": "code",
   "execution_count": 46,
   "id": "ee541887-6c59-4b90-9713-a18a28dfd547",
   "metadata": {},
   "outputs": [
    {
     "data": {
      "text/plain": [
       "array([[1, 2, 3, 4]])"
      ]
     },
     "execution_count": 46,
     "metadata": {},
     "output_type": "execute_result"
    }
   ],
   "source": [
    "np.asarray(max1)"
   ]
  },
  {
   "cell_type": "code",
   "execution_count": null,
   "id": "269ff0d6-d523-4f75-a494-87cd11f33b21",
   "metadata": {},
   "outputs": [],
   "source": [
    "#so here we see if something is alreay a sub class 0r array , it will also convert it"
   ]
  },
  {
   "cell_type": "code",
   "execution_count": null,
   "id": "feaa8a5c-47de-465a-b391-9265b64e993c",
   "metadata": {},
   "outputs": [],
   "source": []
  },
  {
   "cell_type": "code",
   "execution_count": null,
   "id": "d77a343c-79e4-4cfa-aef9-8fbf42d1858d",
   "metadata": {},
   "outputs": [],
   "source": []
  },
  {
   "cell_type": "code",
   "execution_count": null,
   "id": "ebf69ef1-75ca-4dfe-b4ac-ff3c628cb6ca",
   "metadata": {},
   "outputs": [],
   "source": []
  },
  {
   "cell_type": "code",
   "execution_count": 47,
   "id": "960eb174-34e9-4643-9577-7e29ae84ac59",
   "metadata": {},
   "outputs": [],
   "source": [
    "#there is on more another way to convert it into array>>\n",
    "\n",
    "#np.asanyarray \n",
    "\n",
    "\n",
    "#now for np.asanyarray() only convert only those array which is not an array and \n",
    "#which already a sub class of an array it will not convert it"
   ]
  },
  {
   "cell_type": "code",
   "execution_count": 49,
   "id": "17e19ec1-af1b-4274-b115-c33ae5b05a98",
   "metadata": {},
   "outputs": [
    {
     "data": {
      "text/plain": [
       "array([1, 2, 3])"
      ]
     },
     "execution_count": 49,
     "metadata": {},
     "output_type": "execute_result"
    }
   ],
   "source": [
    "np.asanyarray([1, 2, 3])"
   ]
  },
  {
   "cell_type": "code",
   "execution_count": 50,
   "id": "080c5963-1a14-49a5-9679-341d55315f62",
   "metadata": {},
   "outputs": [],
   "source": [
    "#it is converting which is not an array"
   ]
  },
  {
   "cell_type": "code",
   "execution_count": null,
   "id": "b193b372-d0b6-45f3-b82e-3072324240b3",
   "metadata": {},
   "outputs": [],
   "source": []
  },
  {
   "cell_type": "code",
   "execution_count": null,
   "id": "6b0d1a3d-2e1a-45da-bf3c-3610508e45bd",
   "metadata": {},
   "outputs": [],
   "source": []
  },
  {
   "cell_type": "code",
   "execution_count": 51,
   "id": "95a6d386-9e20-4ed2-b6aa-ac2a090d5290",
   "metadata": {},
   "outputs": [
    {
     "data": {
      "text/plain": [
       "matrix([[1, 2, 3, 4]])"
      ]
     },
     "execution_count": 51,
     "metadata": {},
     "output_type": "execute_result"
    }
   ],
   "source": [
    "max1\n"
   ]
  },
  {
   "cell_type": "code",
   "execution_count": 52,
   "id": "256257eb-70e1-4868-b801-24fa9b6df47a",
   "metadata": {},
   "outputs": [
    {
     "data": {
      "text/plain": [
       "matrix([[1, 2, 3, 4]])"
      ]
     },
     "execution_count": 52,
     "metadata": {},
     "output_type": "execute_result"
    }
   ],
   "source": [
    "#now if we pass this max1 which is not an array it will convert it\n",
    "\n",
    "np.asanyarray(max1)  #convert the input to an ndarray, but pass ndarray subclasses through."
   ]
  },
  {
   "cell_type": "code",
   "execution_count": 53,
   "id": "cd1496f7-b7c6-4431-a92d-92d3895af121",
   "metadata": {},
   "outputs": [],
   "source": [
    "#now we can see it is not get converted and remains only matrix"
   ]
  },
  {
   "cell_type": "code",
   "execution_count": null,
   "id": "3c57c1d4-a39b-4ac6-a45d-d028d3a1d058",
   "metadata": {},
   "outputs": [],
   "source": []
  },
  {
   "cell_type": "code",
   "execution_count": null,
   "id": "d7be1f20-9adf-4e84-9712-2d523de58d64",
   "metadata": {},
   "outputs": [],
   "source": []
  },
  {
   "cell_type": "code",
   "execution_count": 54,
   "id": "25b7384b-b3a0-4028-b03b-12c26d990bc9",
   "metadata": {},
   "outputs": [],
   "source": [
    "#NOW FOR A TUPLE TO CONVERT IT INTO AN ARRAY>>"
   ]
  },
  {
   "cell_type": "code",
   "execution_count": 55,
   "id": "30e40e41-5005-4980-a75d-33697c4395e9",
   "metadata": {},
   "outputs": [],
   "source": [
    "#tuple to an array\n",
    "t = ([1, 2, 3], [4, 5, 6]) #tuple to array"
   ]
  },
  {
   "cell_type": "code",
   "execution_count": 56,
   "id": "b38d08d9-69a0-4d00-b4a5-c78ed3b17330",
   "metadata": {},
   "outputs": [
    {
     "data": {
      "text/plain": [
       "tuple"
      ]
     },
     "execution_count": 56,
     "metadata": {},
     "output_type": "execute_result"
    }
   ],
   "source": [
    "type(t)"
   ]
  },
  {
   "cell_type": "code",
   "execution_count": 57,
   "id": "1e1b603c-c066-481a-a9aa-472fa32792ad",
   "metadata": {},
   "outputs": [
    {
     "data": {
      "text/plain": [
       "array([[1, 2, 3],\n",
       "       [4, 5, 6]])"
      ]
     },
     "execution_count": 57,
     "metadata": {},
     "output_type": "execute_result"
    }
   ],
   "source": [
    "np.array(t)  #now tuple get converted to an array"
   ]
  },
  {
   "cell_type": "code",
   "execution_count": null,
   "id": "6ae4d69c-cab0-47c0-b1ce-00ce2c845051",
   "metadata": {},
   "outputs": [],
   "source": []
  },
  {
   "cell_type": "code",
   "execution_count": null,
   "id": "a8dee766-bbcb-446b-a0bb-290c0cd1d4b5",
   "metadata": {},
   "outputs": [],
   "source": []
  },
  {
   "cell_type": "code",
   "execution_count": 61,
   "id": "cc22d136-c0f2-425f-aa1c-f041821f67cf",
   "metadata": {},
   "outputs": [],
   "source": [
    "#for list>>\n",
    "\n",
    "l = [1, 2, 3, 4, 5]\n",
    "arr = np.array(l)"
   ]
  },
  {
   "cell_type": "code",
   "execution_count": 62,
   "id": "bd569d28-1101-47a4-bdc0-8439d0551803",
   "metadata": {},
   "outputs": [
    {
     "data": {
      "text/plain": [
       "array([1, 2, 3, 4, 5])"
      ]
     },
     "execution_count": 62,
     "metadata": {},
     "output_type": "execute_result"
    }
   ],
   "source": [
    "arr"
   ]
  },
  {
   "cell_type": "code",
   "execution_count": 63,
   "id": "cdf841fa-8e5d-41a1-b038-533f42009002",
   "metadata": {},
   "outputs": [],
   "source": [
    "#TO ACCESS AN INDEX OF AN ARRAY>>"
   ]
  },
  {
   "cell_type": "code",
   "execution_count": 64,
   "id": "ddc08b47-c18e-4adb-baa7-617c2446692d",
   "metadata": {},
   "outputs": [
    {
     "data": {
      "text/plain": [
       "1"
      ]
     },
     "execution_count": 64,
     "metadata": {},
     "output_type": "execute_result"
    }
   ],
   "source": [
    "#to access 1st index>>\n",
    "arr[0]"
   ]
  },
  {
   "cell_type": "code",
   "execution_count": 65,
   "id": "b662a5d2-125f-4f12-a172-3a168abd4377",
   "metadata": {},
   "outputs": [],
   "source": [
    "#to change this value\n",
    "arr[0] = 500"
   ]
  },
  {
   "cell_type": "code",
   "execution_count": 66,
   "id": "ea946e85-db42-4aae-9cb5-fc2f92252b3e",
   "metadata": {},
   "outputs": [
    {
     "data": {
      "text/plain": [
       "array([500,   2,   3,   4,   5])"
      ]
     },
     "execution_count": 66,
     "metadata": {},
     "output_type": "execute_result"
    }
   ],
   "source": [
    "arr"
   ]
  },
  {
   "cell_type": "code",
   "execution_count": 67,
   "id": "a4006264-22f9-4788-8f34-ba23e6a4b7c1",
   "metadata": {},
   "outputs": [],
   "source": [
    "#SO ARRAY IS MUTABLE"
   ]
  },
  {
   "cell_type": "code",
   "execution_count": null,
   "id": "10dc25ca-b924-4c45-8d4b-e6e04b4fa9d5",
   "metadata": {},
   "outputs": [],
   "source": []
  },
  {
   "cell_type": "code",
   "execution_count": null,
   "id": "8c1eeecb-ed44-420d-a1e5-8dd106e895bc",
   "metadata": {},
   "outputs": [],
   "source": []
  },
  {
   "cell_type": "code",
   "execution_count": null,
   "id": "a550a938-0c00-4dd2-9c1a-aefa5ea83df4",
   "metadata": {},
   "outputs": [],
   "source": []
  },
  {
   "cell_type": "markdown",
   "id": "75303a3a-8ba0-4c0f-94fb-c42be39e5c7a",
   "metadata": {},
   "source": [
    "## CONCEPT OF DEEP COPY AND SHALLOW COPY"
   ]
  },
  {
   "cell_type": "code",
   "execution_count": 68,
   "id": "038ed049-8ce4-45ce-97f4-d9137f5cff0e",
   "metadata": {},
   "outputs": [
    {
     "data": {
      "text/plain": [
       "array([500,   2,   3,   4,   5])"
      ]
     },
     "execution_count": 68,
     "metadata": {},
     "output_type": "execute_result"
    }
   ],
   "source": [
    "arr"
   ]
  },
  {
   "cell_type": "code",
   "execution_count": 69,
   "id": "84264ca0-5d91-4e4e-bdee-4d015ee04dd5",
   "metadata": {},
   "outputs": [],
   "source": [
    "a = arr"
   ]
  },
  {
   "cell_type": "code",
   "execution_count": 70,
   "id": "37f41eb3-bf38-4340-a2c2-02a9d4e04d27",
   "metadata": {},
   "outputs": [
    {
     "data": {
      "text/plain": [
       "array([500,   2,   3,   4,   5])"
      ]
     },
     "execution_count": 70,
     "metadata": {},
     "output_type": "execute_result"
    }
   ],
   "source": [
    "a"
   ]
  },
  {
   "cell_type": "code",
   "execution_count": 71,
   "id": "f646e1b3-fcf9-4702-80af-8856f16f1702",
   "metadata": {},
   "outputs": [],
   "source": [
    "#now here we are changing value in array 'arr'>>\n",
    "\n",
    "arr[0] = 1000"
   ]
  },
  {
   "cell_type": "code",
   "execution_count": 72,
   "id": "5a418bb3-42ab-4aa4-9c2d-e066059d0354",
   "metadata": {},
   "outputs": [],
   "source": [
    "#here we have make changes to arr not a"
   ]
  },
  {
   "cell_type": "code",
   "execution_count": 73,
   "id": "dc7693c9-013f-451b-9fbe-cacf9abd8a88",
   "metadata": {},
   "outputs": [
    {
     "data": {
      "text/plain": [
       "array([1000,    2,    3,    4,    5])"
      ]
     },
     "execution_count": 73,
     "metadata": {},
     "output_type": "execute_result"
    }
   ],
   "source": [
    "arr\n"
   ]
  },
  {
   "cell_type": "code",
   "execution_count": 74,
   "id": "4bc3012c-23bf-437c-8123-57b5103e2185",
   "metadata": {},
   "outputs": [
    {
     "data": {
      "text/plain": [
       "array([1000,    2,    3,    4,    5])"
      ]
     },
     "execution_count": 74,
     "metadata": {},
     "output_type": "execute_result"
    }
   ],
   "source": [
    "a"
   ]
  },
  {
   "cell_type": "code",
   "execution_count": 75,
   "id": "5042a540-0803-4bef-9dc2-ae09589f5bb9",
   "metadata": {},
   "outputs": [],
   "source": [
    "#now we can see here we have not make any changes to \"a'' then also a changes"
   ]
  },
  {
   "cell_type": "code",
   "execution_count": 77,
   "id": "8d9aa658-d901-4e3d-b957-9c243a0d61e5",
   "metadata": {},
   "outputs": [],
   "source": [
    "#SO THIS IS THE CONCEPT OF SHALLOW COPY>>\n",
    "\n",
    "#change in array also let to change in a"
   ]
  },
  {
   "cell_type": "code",
   "execution_count": null,
   "id": "a955bcfd-1c54-4b9f-87f0-b34dc41e8f56",
   "metadata": {},
   "outputs": [],
   "source": []
  },
  {
   "cell_type": "code",
   "execution_count": null,
   "id": "8ed4aff0-5574-4b6d-b3ae-34aaf55555b9",
   "metadata": {},
   "outputs": [],
   "source": []
  },
  {
   "cell_type": "code",
   "execution_count": null,
   "id": "5d42cf4b-2e57-4957-b0c3-49f60102edf7",
   "metadata": {},
   "outputs": [],
   "source": []
  },
  {
   "cell_type": "code",
   "execution_count": 78,
   "id": "82c323c8-6af8-419f-9b3b-d944befc3f7a",
   "metadata": {},
   "outputs": [],
   "source": [
    "#DEEP COPY>>"
   ]
  },
  {
   "cell_type": "code",
   "execution_count": 79,
   "id": "f056d370-92fb-472a-ab7d-07db412c72bf",
   "metadata": {},
   "outputs": [],
   "source": [
    "a = arr.copy()"
   ]
  },
  {
   "cell_type": "code",
   "execution_count": 80,
   "id": "e5ee451b-3865-4206-ab3a-131106a7c98d",
   "metadata": {},
   "outputs": [
    {
     "data": {
      "text/plain": [
       "array([1000,    2,    3,    4,    5])"
      ]
     },
     "execution_count": 80,
     "metadata": {},
     "output_type": "execute_result"
    }
   ],
   "source": [
    "a"
   ]
  },
  {
   "cell_type": "code",
   "execution_count": 81,
   "id": "94577cf9-09d7-4a49-8b70-50832b96721f",
   "metadata": {},
   "outputs": [
    {
     "data": {
      "text/plain": [
       "array([1000,    2,    3,    4,    5])"
      ]
     },
     "execution_count": 81,
     "metadata": {},
     "output_type": "execute_result"
    }
   ],
   "source": [
    "arr"
   ]
  },
  {
   "cell_type": "code",
   "execution_count": 82,
   "id": "516e600c-ac3e-4fae-afb8-45d01cb78446",
   "metadata": {},
   "outputs": [],
   "source": [
    "#now here we formed deep copy have diff memory reference"
   ]
  },
  {
   "cell_type": "code",
   "execution_count": 83,
   "id": "ef2eab23-8bff-4a83-8cde-9ecb187d7308",
   "metadata": {},
   "outputs": [],
   "source": [
    "arr[0] = 2000"
   ]
  },
  {
   "cell_type": "code",
   "execution_count": 84,
   "id": "8ba97ef1-fce7-4a16-87e9-18a21dd289b7",
   "metadata": {},
   "outputs": [
    {
     "data": {
      "text/plain": [
       "array([2000,    2,    3,    4,    5])"
      ]
     },
     "execution_count": 84,
     "metadata": {},
     "output_type": "execute_result"
    }
   ],
   "source": [
    "arr"
   ]
  },
  {
   "cell_type": "code",
   "execution_count": 85,
   "id": "3928c205-2fd5-42af-b6e1-e362802ad645",
   "metadata": {},
   "outputs": [
    {
     "data": {
      "text/plain": [
       "array([1000,    2,    3,    4,    5])"
      ]
     },
     "execution_count": 85,
     "metadata": {},
     "output_type": "execute_result"
    }
   ],
   "source": [
    "a"
   ]
  },
  {
   "cell_type": "code",
   "execution_count": 87,
   "id": "e21fd276-6815-45c5-8a63-b8314cfe49d3",
   "metadata": {},
   "outputs": [],
   "source": [
    "#now here we can see on changing \"arr\" , \"a\" is not changing as both have diff. memory refernce"
   ]
  },
  {
   "cell_type": "code",
   "execution_count": null,
   "id": "2ec09fa6-ccf4-46bc-b472-43ca4e6e1fab",
   "metadata": {},
   "outputs": [],
   "source": []
  },
  {
   "cell_type": "code",
   "execution_count": null,
   "id": "8830088f-8402-47a6-bca1-269109c97000",
   "metadata": {},
   "outputs": [],
   "source": []
  },
  {
   "cell_type": "code",
   "execution_count": 88,
   "id": "e547a34b-554f-47ab-ab9b-a3e264db3e17",
   "metadata": {},
   "outputs": [],
   "source": [
    "#SO to create an array>> np.array, np.asarray, np.asanyarray(in this what that is in array or array subclass not changes and remains as it is)"
   ]
  },
  {
   "cell_type": "code",
   "execution_count": null,
   "id": "0a84ea6e-8fac-4bdb-9ee6-d1a04806a3a4",
   "metadata": {},
   "outputs": [],
   "source": []
  },
  {
   "cell_type": "code",
   "execution_count": null,
   "id": "8ad24333-f5bb-483c-b878-acf13b1acdf5",
   "metadata": {},
   "outputs": [],
   "source": []
  },
  {
   "cell_type": "code",
   "execution_count": 89,
   "id": "54c56f29-6990-451a-9868-011fabbae68d",
   "metadata": {},
   "outputs": [],
   "source": [
    "\n",
    "#OTHER MULTIPLE WAYS TO GENERATE AN ARRAY>>"
   ]
  },
  {
   "cell_type": "code",
   "execution_count": 94,
   "id": "c8627187-1972-4d04-b5c0-109c5385bfa2",
   "metadata": {},
   "outputs": [],
   "source": [
    "arr1 = np.fromfunction(lambda i, j : i==j, (3,3))   #Construct an array by executing a function over each coordinate.\n",
    "\n",
    "#it tells where i==j give me true and construct an array of (3,3)"
   ]
  },
  {
   "cell_type": "code",
   "execution_count": 95,
   "id": "59a8c7b4-c2b6-41cc-817b-c7f12c3226bb",
   "metadata": {},
   "outputs": [
    {
     "data": {
      "text/plain": [
       "array([[ True, False, False],\n",
       "       [False,  True, False],\n",
       "       [False, False,  True]])"
      ]
     },
     "execution_count": 95,
     "metadata": {},
     "output_type": "execute_result"
    }
   ],
   "source": [
    "arr1"
   ]
  },
  {
   "cell_type": "code",
   "execution_count": 96,
   "id": "9ad7a0da-fdf6-49eb-bd01-a35573290ef6",
   "metadata": {},
   "outputs": [
    {
     "data": {
      "text/plain": [
       "2"
      ]
     },
     "execution_count": 96,
     "metadata": {},
     "output_type": "execute_result"
    }
   ],
   "source": [
    "arr1.ndim"
   ]
  },
  {
   "cell_type": "code",
   "execution_count": 98,
   "id": "e9d90c81-b6d2-4171-a997-8711843cd415",
   "metadata": {},
   "outputs": [
    {
     "data": {
      "text/plain": [
       "(3, 3)"
      ]
     },
     "execution_count": 98,
     "metadata": {},
     "output_type": "execute_result"
    }
   ],
   "source": [
    "arr1.shape  #to now rows and column"
   ]
  },
  {
   "cell_type": "code",
   "execution_count": 100,
   "id": "d818b15a-7040-48a2-9eca-64b1f441547e",
   "metadata": {},
   "outputs": [
    {
     "data": {
      "text/plain": [
       "9"
      ]
     },
     "execution_count": 100,
     "metadata": {},
     "output_type": "execute_result"
    }
   ],
   "source": [
    "arr1.size   #no. of elements"
   ]
  },
  {
   "cell_type": "code",
   "execution_count": 101,
   "id": "28df6412-b6eb-401c-846d-e89669887305",
   "metadata": {},
   "outputs": [],
   "source": [
    "arr2 = np.fromfunction(lambda i, j : i*j, (3,3)) "
   ]
  },
  {
   "cell_type": "code",
   "execution_count": 102,
   "id": "1f920a48-3c06-43c0-bb08-408af38f73a9",
   "metadata": {},
   "outputs": [
    {
     "data": {
      "text/plain": [
       "array([[0., 0., 0.],\n",
       "       [0., 1., 2.],\n",
       "       [0., 2., 4.]])"
      ]
     },
     "execution_count": 102,
     "metadata": {},
     "output_type": "execute_result"
    }
   ],
   "source": [
    "arr2"
   ]
  },
  {
   "cell_type": "code",
   "execution_count": null,
   "id": "3d57d7c4-0001-4a17-8439-0eb54e455181",
   "metadata": {},
   "outputs": [],
   "source": []
  },
  {
   "cell_type": "code",
   "execution_count": null,
   "id": "7320b061-3018-46a0-bae6-982e7e0e6237",
   "metadata": {},
   "outputs": [],
   "source": []
  },
  {
   "cell_type": "code",
   "execution_count": null,
   "id": "e653538c-d298-49a0-a18d-3091eb735096",
   "metadata": {},
   "outputs": [],
   "source": []
  },
  {
   "cell_type": "code",
   "execution_count": 103,
   "id": "f4e681e2-d108-4658-9759-fe079a3ab55d",
   "metadata": {},
   "outputs": [],
   "source": [
    "#ARRAY FRom iterable>>"
   ]
  },
  {
   "cell_type": "code",
   "execution_count": 105,
   "id": "2a493826-4ecb-471a-a7fa-d044c0dfe7be",
   "metadata": {},
   "outputs": [
    {
     "name": "stdout",
     "output_type": "stream",
     "text": [
      "0\n",
      "1\n",
      "2\n",
      "3\n",
      "4\n"
     ]
    }
   ],
   "source": [
    "for i in range(5):\n",
    "    print(i)"
   ]
  },
  {
   "cell_type": "code",
   "execution_count": 106,
   "id": "18620ced-e1d7-4b90-a132-23f7672253ec",
   "metadata": {},
   "outputs": [
    {
     "data": {
      "text/plain": [
       "[0, 1, 2, 3, 4]"
      ]
     },
     "execution_count": 106,
     "metadata": {},
     "output_type": "execute_result"
    }
   ],
   "source": [
    "#same thing in list comprension>>\n",
    "\n",
    "[i for i in range(5)]"
   ]
  },
  {
   "cell_type": "code",
   "execution_count": 107,
   "id": "14ba1abc-561b-46ef-8e73-cef488fbe806",
   "metadata": {},
   "outputs": [],
   "source": [
    "#now to convert this to an array>>\n",
    "\n"
   ]
  },
  {
   "cell_type": "code",
   "execution_count": 108,
   "id": "12f74d02-bca8-4d9d-b7ba-be4c9aea6e12",
   "metadata": {},
   "outputs": [],
   "source": [
    "# we can also convert this [i for i in range(5)] into tuple, it doesnot matter it is list or tuple"
   ]
  },
  {
   "cell_type": "code",
   "execution_count": 109,
   "id": "c0a95563-5626-4b49-a9c9-8f2875d914d5",
   "metadata": {},
   "outputs": [
    {
     "data": {
      "text/plain": [
       "<generator object <genexpr> at 0x000002C6BAB2FF40>"
      ]
     },
     "execution_count": 109,
     "metadata": {},
     "output_type": "execute_result"
    }
   ],
   "source": [
    "(i for i in range(5))"
   ]
  },
  {
   "cell_type": "code",
   "execution_count": 111,
   "id": "82a19e1a-ee93-44ff-9bff-3b8c1a9288ca",
   "metadata": {},
   "outputs": [
    {
     "data": {
      "text/plain": [
       "[0, 1, 2, 3, 4]"
      ]
     },
     "execution_count": 111,
     "metadata": {},
     "output_type": "execute_result"
    }
   ],
   "source": [
    "#now\n",
    "list((i for i in range(5)))"
   ]
  },
  {
   "cell_type": "code",
   "execution_count": 113,
   "id": "59387878-0627-4ada-bd5c-9590ab8d8b76",
   "metadata": {},
   "outputs": [
    {
     "data": {
      "text/plain": [
       "<generator object <genexpr> at 0x000002C6BD612EC0>"
      ]
     },
     "execution_count": 113,
     "metadata": {},
     "output_type": "execute_result"
    }
   ],
   "source": [
    "#so it doenot matter that it is in list or tuple , what matter is that it genretor object to be made\n",
    "\n",
    "(i for i in range(5)) #this is an iterable object"
   ]
  },
  {
   "cell_type": "code",
   "execution_count": 114,
   "id": "36ce422e-559d-4eb2-9206-1d5a69088e67",
   "metadata": {},
   "outputs": [],
   "source": [
    "iterable = (i for i in range(5))"
   ]
  },
  {
   "cell_type": "code",
   "execution_count": null,
   "id": "3341095e-1603-4df6-a464-85efa3af92a1",
   "metadata": {},
   "outputs": [],
   "source": []
  },
  {
   "cell_type": "code",
   "execution_count": 115,
   "id": "dcc79691-e69e-4679-9407-795a7adbc101",
   "metadata": {},
   "outputs": [
    {
     "data": {
      "text/plain": [
       "array([0, 1, 2, 3, 4])"
      ]
     },
     "execution_count": 115,
     "metadata": {},
     "output_type": "execute_result"
    }
   ],
   "source": [
    "#NOW to convert this into array>>\n",
    "\n",
    "np.fromiter(iterable, int)  #Create a new 1-dimensional array from an iterable object. here iter>> iterable"
   ]
  },
  {
   "cell_type": "code",
   "execution_count": null,
   "id": "1ac03fd6-e312-4fac-a559-b5cf0e0e6e0a",
   "metadata": {},
   "outputs": [],
   "source": []
  },
  {
   "cell_type": "code",
   "execution_count": null,
   "id": "5a3f4d4d-4c54-42a7-a562-4762c7480099",
   "metadata": {},
   "outputs": [],
   "source": []
  },
  {
   "cell_type": "code",
   "execution_count": 116,
   "id": "93d682fe-8f5e-41c6-8e3f-5adeaa521bba",
   "metadata": {},
   "outputs": [
    {
     "data": {
      "text/plain": [
       "array([22., 23., 24.])"
      ]
     },
     "execution_count": 116,
     "metadata": {},
     "output_type": "execute_result"
    }
   ],
   "source": [
    "#array creted from using string>>\n",
    "\n",
    "np.fromstring('22 23 24', sep=\" \")  #in sep>> seprator we have to give what is the seprator in between '22 23 24'"
   ]
  },
  {
   "cell_type": "code",
   "execution_count": 122,
   "id": "d1bca48a-2afd-40a8-aa96-bca3c645ae6c",
   "metadata": {},
   "outputs": [
    {
     "data": {
      "text/plain": [
       "array(['Ajay', 'Bijay', 'Sanjay'], dtype='<U6')"
      ]
     },
     "execution_count": 122,
     "metadata": {},
     "output_type": "execute_result"
    }
   ],
   "source": [
    "#this seprator can be anything>>\n",
    "\n",
    "#for strings you have to use split\n",
    "string1 = string.split(',')\n",
    "np.array(string1)"
   ]
  },
  {
   "cell_type": "code",
   "execution_count": 123,
   "id": "c409b26e-ad8c-4c40-8947-9e204fa5f3fe",
   "metadata": {},
   "outputs": [
    {
     "data": {
      "text/plain": [
       "['Ajay', 'Bijay', 'Sanjay']"
      ]
     },
     "execution_count": 123,
     "metadata": {},
     "output_type": "execute_result"
    }
   ],
   "source": [
    "string1"
   ]
  },
  {
   "cell_type": "code",
   "execution_count": 124,
   "id": "fbc5a445-8e5b-4606-a5c5-bcd0fb2b0826",
   "metadata": {},
   "outputs": [
    {
     "data": {
      "text/plain": [
       "array([22., 23., 24.])"
      ]
     },
     "execution_count": 124,
     "metadata": {},
     "output_type": "execute_result"
    }
   ],
   "source": [
    "np.fromstring('22 23 24', sep=\" \")  #this method work only for integer  #so values should be numeric \n",
    "#it should have array of data in only in string format where values should be numeric"
   ]
  },
  {
   "cell_type": "code",
   "execution_count": null,
   "id": "97807da4-dd3b-4750-80d0-3f535b658424",
   "metadata": {},
   "outputs": [],
   "source": []
  },
  {
   "cell_type": "code",
   "execution_count": 125,
   "id": "8ca209a2-9772-4b70-bef6-6d6cb76372eb",
   "metadata": {},
   "outputs": [
    {
     "data": {
      "text/plain": [
       "array([22., 23., 24.])"
      ]
     },
     "execution_count": 125,
     "metadata": {},
     "output_type": "execute_result"
    }
   ],
   "source": [
    "np.fromstring('22,23,24', sep=\",\")"
   ]
  },
  {
   "cell_type": "code",
   "execution_count": null,
   "id": "41a0c12b-2e52-4529-a95c-853ad88c3bc1",
   "metadata": {},
   "outputs": [],
   "source": []
  },
  {
   "cell_type": "code",
   "execution_count": 126,
   "id": "de6db1e9-c5e9-4f50-ae94-21d1b7966111",
   "metadata": {},
   "outputs": [
    {
     "data": {
      "text/plain": [
       "array([22., 23., 24.])"
      ]
     },
     "execution_count": 126,
     "metadata": {},
     "output_type": "execute_result"
    }
   ],
   "source": [
    "np.fromstring('22/23/24', sep=\"/\")"
   ]
  },
  {
   "cell_type": "code",
   "execution_count": null,
   "id": "eee85d3b-fc62-4c30-a726-a3fe7b1f1979",
   "metadata": {},
   "outputs": [],
   "source": []
  },
  {
   "cell_type": "code",
   "execution_count": null,
   "id": "3e28288e-f0aa-4026-bf8c-4933ed96a4ef",
   "metadata": {},
   "outputs": [],
   "source": []
  },
  {
   "cell_type": "code",
   "execution_count": null,
   "id": "ac1cce23-4cbb-4e42-9481-84e258db4366",
   "metadata": {},
   "outputs": [],
   "source": [
    "#other methods of numpy>>"
   ]
  },
  {
   "cell_type": "code",
   "execution_count": 127,
   "id": "d85c227b-050f-45d0-8a96-18789e31a9d3",
   "metadata": {},
   "outputs": [
    {
     "data": {
      "text/plain": [
       "[0, 1, 2, 3, 4, 5, 6, 7, 8, 9]"
      ]
     },
     "execution_count": 127,
     "metadata": {},
     "output_type": "execute_result"
    }
   ],
   "source": [
    "list(range(10))"
   ]
  },
  {
   "cell_type": "code",
   "execution_count": 128,
   "id": "ce607427-4f3a-42e0-b65e-11c28f34bdf8",
   "metadata": {},
   "outputs": [
    {
     "data": {
      "text/plain": [
       "range(0, 10)"
      ]
     },
     "execution_count": 128,
     "metadata": {},
     "output_type": "execute_result"
    }
   ],
   "source": [
    "#but if we directly write\n",
    "range(10)"
   ]
  },
  {
   "cell_type": "code",
   "execution_count": 129,
   "id": "15ad7589-becc-43e1-bee0-3e14ab205a12",
   "metadata": {},
   "outputs": [],
   "source": [
    "#we will not get value directly"
   ]
  },
  {
   "cell_type": "code",
   "execution_count": null,
   "id": "a14676e3-5bf4-448c-b3df-55f20c48b0b5",
   "metadata": {},
   "outputs": [],
   "source": []
  },
  {
   "cell_type": "code",
   "execution_count": 130,
   "id": "fc5d6a98-05c2-48b0-b01f-24bd6aef3b94",
   "metadata": {},
   "outputs": [],
   "source": [
    "#in numpy we have simlar function arange>> in that case we get value directly"
   ]
  },
  {
   "cell_type": "code",
   "execution_count": null,
   "id": "acb3ba5b-bc8f-4d9a-a94d-b417df65696b",
   "metadata": {},
   "outputs": [],
   "source": [
    "#other methods of numpy>> to generate sequence if nos"
   ]
  },
  {
   "cell_type": "code",
   "execution_count": 131,
   "id": "a7148cd0-6097-46e6-93a1-cad956e946e9",
   "metadata": {},
   "outputs": [
    {
     "data": {
      "text/plain": [
       "array([1. , 1.1, 1.2, 1.3, 1.4, 1.5, 1.6, 1.7, 1.8, 1.9, 2. , 2.1, 2.2,\n",
       "       2.3, 2.4, 2.5, 2.6, 2.7, 2.8, 2.9, 3. , 3.1, 3.2, 3.3, 3.4, 3.5,\n",
       "       3.6, 3.7, 3.8, 3.9, 4. , 4.1, 4.2, 4.3, 4.4, 4.5, 4.6, 4.7, 4.8,\n",
       "       4.9, 5. , 5.1, 5.2, 5.3, 5.4, 5.5, 5.6, 5.7, 5.8, 5.9, 6. , 6.1,\n",
       "       6.2, 6.3, 6.4, 6.5, 6.6, 6.7, 6.8, 6.9, 7. , 7.1, 7.2, 7.3, 7.4,\n",
       "       7.5, 7.6, 7.7, 7.8, 7.9, 8. , 8.1, 8.2, 8.3, 8.4, 8.5, 8.6, 8.7,\n",
       "       8.8, 8.9, 9. , 9.1, 9.2, 9.3, 9.4, 9.5, 9.6, 9.7, 9.8, 9.9])"
      ]
     },
     "execution_count": 131,
     "metadata": {},
     "output_type": "execute_result"
    }
   ],
   "source": [
    "np.arange(1, 10, 0.1)    #1> start from where #10> to which have to go  #0.1>with step of"
   ]
  },
  {
   "cell_type": "code",
   "execution_count": 132,
   "id": "d559a660-739c-450b-b5c9-b73350279ba4",
   "metadata": {},
   "outputs": [],
   "source": [
    "\n",
    "\n",
    "#"
   ]
  },
  {
   "cell_type": "code",
   "execution_count": 134,
   "id": "933c36fd-7578-47b1-8c38-cc24a94a35c8",
   "metadata": {},
   "outputs": [
    {
     "data": {
      "text/plain": [
       "array([1.        , 1.44444444, 1.88888889, 2.33333333, 2.77777778,\n",
       "       3.22222222, 3.66666667, 4.11111111, 4.55555556, 5.        ])"
      ]
     },
     "execution_count": 134,
     "metadata": {},
     "output_type": "execute_result"
    }
   ],
   "source": [
    "#now if we want to generate a number if it is equally spaced>>\n",
    "\n",
    "np.linspace(1, 5, 10)  #retun  evenly spaced number over a specified interval.\n",
    "#(1, 5, 10)>> it says generte me a 10 no.s evenly spaced between 1 and 5"
   ]
  },
  {
   "cell_type": "code",
   "execution_count": null,
   "id": "e0576370-9d83-4e45-9343-6116e059c79e",
   "metadata": {},
   "outputs": [],
   "source": []
  },
  {
   "cell_type": "code",
   "execution_count": 137,
   "id": "5277c587-a3f6-4c86-9b6b-5b92e5f01fe1",
   "metadata": {},
   "outputs": [
    {
     "data": {
      "text/plain": [
       "array([1.00000000e+01, 2.78255940e+01, 7.74263683e+01, 2.15443469e+02,\n",
       "       5.99484250e+02, 1.66810054e+03, 4.64158883e+03, 1.29154967e+04,\n",
       "       3.59381366e+04, 1.00000000e+05])"
      ]
     },
     "execution_count": 137,
     "metadata": {},
     "output_type": "execute_result"
    }
   ],
   "source": [
    "np.logspace(1, 5, 10)  #Return numbers spaced evenly on a log scale.  #base is 10\n",
    "\n"
   ]
  },
  {
   "cell_type": "code",
   "execution_count": 138,
   "id": "733feba9-0729-4542-8a3b-e93663de47b9",
   "metadata": {},
   "outputs": [
    {
     "data": {
      "text/plain": [
       "'np.logspace(\\n    start,\\n    stop,\\n    num=50,\\n    endpoint=True,\\n    base=10.0,\\n    dtype=None,\\n    axis=0,'"
      ]
     },
     "execution_count": 138,
     "metadata": {},
     "output_type": "execute_result"
    }
   ],
   "source": [
    "\n",
    "\n",
    "'''np.logspace(\n",
    "    start,\n",
    "    stop,\n",
    "    num=50,\n",
    "    endpoint=True,\n",
    "    base=10.0,\n",
    "    dtype=None,\n",
    "    axis=0,'''"
   ]
  },
  {
   "cell_type": "code",
   "execution_count": 139,
   "id": "537071ed-85dd-4658-b547-619999d1fa4a",
   "metadata": {},
   "outputs": [
    {
     "data": {
      "text/plain": [
       "array([ 2.        ,  2.72158   ,  3.70349885,  5.0396842 ,  6.85795186,\n",
       "        9.33223232, 12.69920842, 17.28095582, 23.51575188, 32.        ])"
      ]
     },
     "execution_count": 139,
     "metadata": {},
     "output_type": "execute_result"
    }
   ],
   "source": [
    "#10 evenly space no. with base 2\n",
    "np.logspace(1, 5, 10, base = 2)"
   ]
  },
  {
   "cell_type": "code",
   "execution_count": null,
   "id": "65c7c790-b4c4-48ae-ab5b-04b82e9e295c",
   "metadata": {},
   "outputs": [],
   "source": []
  }
 ],
 "metadata": {
  "kernelspec": {
   "display_name": "Python 3 (ipykernel)",
   "language": "python",
   "name": "python3"
  },
  "language_info": {
   "codemirror_mode": {
    "name": "ipython",
    "version": 3
   },
   "file_extension": ".py",
   "mimetype": "text/x-python",
   "name": "python",
   "nbconvert_exporter": "python",
   "pygments_lexer": "ipython3",
   "version": "3.12.7"
  }
 },
 "nbformat": 4,
 "nbformat_minor": 5
}
