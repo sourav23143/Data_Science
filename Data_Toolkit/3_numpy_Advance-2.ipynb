{
 "cells": [
  {
   "cell_type": "code",
   "execution_count": 1,
   "id": "4a0506b2-3628-47b5-a1fe-27a46c2e0969",
   "metadata": {},
   "outputs": [],
   "source": [
    "import numpy as np"
   ]
  },
  {
   "cell_type": "code",
   "execution_count": 2,
   "id": "44d3a873-aec7-43ce-ac08-8519881da9d9",
   "metadata": {},
   "outputs": [],
   "source": [
    "arr1 = np.random.randint(1,3, (3,3))\n",
    "arr2 = np.random.randint(1,3, (3,3))"
   ]
  },
  {
   "cell_type": "code",
   "execution_count": 3,
   "id": "c55ca4d4-ecc0-4397-a8ff-1886595a0fc7",
   "metadata": {},
   "outputs": [
    {
     "data": {
      "text/plain": [
       "array([[2, 1, 2],\n",
       "       [2, 1, 1],\n",
       "       [2, 2, 1]])"
      ]
     },
     "execution_count": 3,
     "metadata": {},
     "output_type": "execute_result"
    }
   ],
   "source": [
    "arr1"
   ]
  },
  {
   "cell_type": "code",
   "execution_count": 4,
   "id": "64fe0be6-a10d-4ee7-ab82-3e2cd82105ab",
   "metadata": {},
   "outputs": [],
   "source": [
    "#now I want to flattend this array to one dimension>>"
   ]
  },
  {
   "cell_type": "code",
   "execution_count": 5,
   "id": "83e2a8e3-1328-42a3-ae7d-86804c241e54",
   "metadata": {},
   "outputs": [
    {
     "data": {
      "text/plain": [
       "array([2, 1, 2, 2, 1, 1, 2, 2, 1])"
      ]
     },
     "execution_count": 5,
     "metadata": {},
     "output_type": "execute_result"
    }
   ],
   "source": [
    "arr1.flatten()  #Return a copy of the array collapsed into one dimension.\n"
   ]
  },
  {
   "cell_type": "code",
   "execution_count": 6,
   "id": "e4331335-03cd-4373-a915-02c6eb6f0ae4",
   "metadata": {},
   "outputs": [],
   "source": [
    "#reduces it into one dimension"
   ]
  },
  {
   "cell_type": "code",
   "execution_count": null,
   "id": "9d974a05-5eb0-4e80-b7a2-a216705c6640",
   "metadata": {},
   "outputs": [],
   "source": []
  },
  {
   "cell_type": "code",
   "execution_count": 7,
   "id": "3b0c92d5-a75b-4de7-a1f8-d76e7af361a6",
   "metadata": {},
   "outputs": [],
   "source": [
    "#EXPAND THE DIMENSION\n"
   ]
  },
  {
   "cell_type": "code",
   "execution_count": 8,
   "id": "90444cec-9a77-4ee7-92c4-561bbd37de0d",
   "metadata": {},
   "outputs": [
    {
     "data": {
      "text/plain": [
       "array([1, 2, 3, 4])"
      ]
     },
     "execution_count": 8,
     "metadata": {},
     "output_type": "execute_result"
    }
   ],
   "source": [
    "arr = np.array([1, 2, 3, 4])\n",
    "arr"
   ]
  },
  {
   "cell_type": "code",
   "execution_count": 9,
   "id": "f9276540-e679-49ec-9ba6-87c2ef5b3455",
   "metadata": {},
   "outputs": [
    {
     "data": {
      "text/plain": [
       "1"
      ]
     },
     "execution_count": 9,
     "metadata": {},
     "output_type": "execute_result"
    }
   ],
   "source": [
    "arr.ndim"
   ]
  },
  {
   "cell_type": "code",
   "execution_count": 10,
   "id": "abd7d735-5d5f-4dbf-b735-6c9a80d74a26",
   "metadata": {},
   "outputs": [
    {
     "data": {
      "text/plain": [
       "array([[1, 2, 3, 4]])"
      ]
     },
     "execution_count": 10,
     "metadata": {},
     "output_type": "execute_result"
    }
   ],
   "source": [
    "#expand dimension.>\n",
    "np.expand_dims(arr, axis =0) #on 0 axis row will expand"
   ]
  },
  {
   "cell_type": "code",
   "execution_count": null,
   "id": "b392ab81-82d7-48b6-9667-d106a169d827",
   "metadata": {},
   "outputs": [],
   "source": [
    "#here since axis = 0 , so expension happen in rows"
   ]
  },
  {
   "cell_type": "code",
   "execution_count": 11,
   "id": "4cc66dc9-21b6-4013-89e7-c1d157217eae",
   "metadata": {},
   "outputs": [],
   "source": [
    "#now we can see it is 2D array"
   ]
  },
  {
   "cell_type": "code",
   "execution_count": null,
   "id": "60b5260a-e665-47bf-bad9-363db446e4bb",
   "metadata": {},
   "outputs": [],
   "source": []
  },
  {
   "cell_type": "code",
   "execution_count": 12,
   "id": "db105a0b-25a2-4586-a6ec-675df9911fdd",
   "metadata": {},
   "outputs": [
    {
     "data": {
      "text/plain": [
       "array([[1],\n",
       "       [2],\n",
       "       [3],\n",
       "       [4]])"
      ]
     },
     "execution_count": 12,
     "metadata": {},
     "output_type": "execute_result"
    }
   ],
   "source": [
    "np.expand_dims(arr, axis =1)"
   ]
  },
  {
   "cell_type": "code",
   "execution_count": 13,
   "id": "0678b6d0-8c21-4f38-af09-0e0c6585739c",
   "metadata": {},
   "outputs": [],
   "source": [
    "#now we can see column wise it is expanded"
   ]
  },
  {
   "cell_type": "code",
   "execution_count": 14,
   "id": "a19f253f-67ea-4847-9cd2-508d3192d6be",
   "metadata": {},
   "outputs": [
    {
     "data": {
      "text/plain": [
       "2"
      ]
     },
     "execution_count": 14,
     "metadata": {},
     "output_type": "execute_result"
    }
   ],
   "source": [
    "np.expand_dims(arr, axis =1).ndim"
   ]
  },
  {
   "cell_type": "code",
   "execution_count": 15,
   "id": "edc9af9c-8a38-47cb-8dc2-a6625d42daee",
   "metadata": {},
   "outputs": [],
   "source": [
    "#expand_dims >> always increses the dimensions by 1 at provided axis"
   ]
  },
  {
   "cell_type": "code",
   "execution_count": 16,
   "id": "6476ad92-4a79-4f0d-a01e-08891c96473a",
   "metadata": {},
   "outputs": [],
   "source": [
    "arr = np.zeros((3,4))"
   ]
  },
  {
   "cell_type": "code",
   "execution_count": 17,
   "id": "38b73859-94ea-4624-ad60-bac6dbd66512",
   "metadata": {},
   "outputs": [
    {
     "data": {
      "text/plain": [
       "array([[0., 0., 0., 0.],\n",
       "       [0., 0., 0., 0.],\n",
       "       [0., 0., 0., 0.]])"
      ]
     },
     "execution_count": 17,
     "metadata": {},
     "output_type": "execute_result"
    }
   ],
   "source": [
    "arr"
   ]
  },
  {
   "cell_type": "code",
   "execution_count": 18,
   "id": "de5838a7-04cb-4eab-a6a2-6d06a67afebf",
   "metadata": {},
   "outputs": [
    {
     "data": {
      "text/plain": [
       "2"
      ]
     },
     "execution_count": 18,
     "metadata": {},
     "output_type": "execute_result"
    }
   ],
   "source": [
    "arr.ndim"
   ]
  },
  {
   "cell_type": "code",
   "execution_count": 19,
   "id": "51f90fbf-9c68-4c2b-a68e-6a5a2baf2ad5",
   "metadata": {},
   "outputs": [],
   "source": [
    "#now this can be expanded both row ways and column ways"
   ]
  },
  {
   "cell_type": "code",
   "execution_count": 22,
   "id": "187acfc9-15cb-4e09-8479-3ce6cd5687e2",
   "metadata": {},
   "outputs": [
    {
     "data": {
      "text/plain": [
       "array([[[0., 0., 0., 0.],\n",
       "        [0., 0., 0., 0.],\n",
       "        [0., 0., 0., 0.]]])"
      ]
     },
     "execution_count": 22,
     "metadata": {},
     "output_type": "execute_result"
    }
   ],
   "source": [
    "np.expand_dims(arr, axis= 0) #in x axis"
   ]
  },
  {
   "cell_type": "code",
   "execution_count": 23,
   "id": "0529bf6e-216b-4c03-ab3f-14b08a8d17a0",
   "metadata": {},
   "outputs": [],
   "source": [
    "# Expand the shape of an array.\n",
    "\n",
    "# Insert a new axis that will appear at the `axis` position in the expanded\n",
    "# array shape."
   ]
  },
  {
   "cell_type": "code",
   "execution_count": 24,
   "id": "59c237e3-8dc6-4b08-b52f-d82df8f106d6",
   "metadata": {},
   "outputs": [
    {
     "data": {
      "text/plain": [
       "array([[[0., 0., 0., 0.]],\n",
       "\n",
       "       [[0., 0., 0., 0.]],\n",
       "\n",
       "       [[0., 0., 0., 0.]]])"
      ]
     },
     "execution_count": 24,
     "metadata": {},
     "output_type": "execute_result"
    }
   ],
   "source": [
    "np.expand_dims(arr, axis= 1) #in y axis"
   ]
  },
  {
   "cell_type": "code",
   "execution_count": 25,
   "id": "60806f24-5b9d-44fc-9fb5-e341433a4fa6",
   "metadata": {},
   "outputs": [
    {
     "data": {
      "text/plain": [
       "3"
      ]
     },
     "execution_count": 25,
     "metadata": {},
     "output_type": "execute_result"
    }
   ],
   "source": [
    "np.expand_dims(arr, axis= 1).ndim"
   ]
  },
  {
   "cell_type": "code",
   "execution_count": null,
   "id": "97a8d9bd-baac-4287-bdc6-e20b75311600",
   "metadata": {},
   "outputs": [],
   "source": []
  },
  {
   "cell_type": "code",
   "execution_count": null,
   "id": "6e633be9-0ad5-4fda-8b2e-96106e5d9db3",
   "metadata": {},
   "outputs": [],
   "source": []
  },
  {
   "cell_type": "code",
   "execution_count": 26,
   "id": "e4431b23-f415-4321-9766-e74edd11b18c",
   "metadata": {},
   "outputs": [],
   "source": [
    "a = np.array([[1], [2], [3]])"
   ]
  },
  {
   "cell_type": "code",
   "execution_count": 27,
   "id": "a11ae14a-7692-41ea-a396-1f54394df5a6",
   "metadata": {},
   "outputs": [
    {
     "data": {
      "text/plain": [
       "array([[1],\n",
       "       [2],\n",
       "       [3]])"
      ]
     },
     "execution_count": 27,
     "metadata": {},
     "output_type": "execute_result"
    }
   ],
   "source": [
    "a"
   ]
  },
  {
   "cell_type": "code",
   "execution_count": 29,
   "id": "e5daa302-a7e7-43e9-9be7-1fcbf787e664",
   "metadata": {},
   "outputs": [
    {
     "data": {
      "text/plain": [
       "2"
      ]
     },
     "execution_count": 29,
     "metadata": {},
     "output_type": "execute_result"
    }
   ],
   "source": [
    "a.ndim"
   ]
  },
  {
   "cell_type": "code",
   "execution_count": 30,
   "id": "b1f69ce7-b41d-48a4-8f97-d90215a52062",
   "metadata": {},
   "outputs": [
    {
     "data": {
      "text/plain": [
       "array([1, 2, 3])"
      ]
     },
     "execution_count": 30,
     "metadata": {},
     "output_type": "execute_result"
    }
   ],
   "source": [
    "np.squeeze(a)  #Remove axes of length one from `a`. #reduces 1 dimension"
   ]
  },
  {
   "cell_type": "code",
   "execution_count": null,
   "id": "20cd0792-f667-44a1-bd72-b448b7d23772",
   "metadata": {},
   "outputs": [],
   "source": []
  },
  {
   "cell_type": "code",
   "execution_count": null,
   "id": "c17c4d9a-6714-49d4-9598-11c6a69005db",
   "metadata": {},
   "outputs": [],
   "source": []
  },
  {
   "cell_type": "code",
   "execution_count": 31,
   "id": "7b117940-ca95-44fd-b0ed-511b3ee8ad73",
   "metadata": {},
   "outputs": [
    {
     "data": {
      "text/plain": [
       "array([[1],\n",
       "       [2],\n",
       "       [3]])"
      ]
     },
     "execution_count": 31,
     "metadata": {},
     "output_type": "execute_result"
    }
   ],
   "source": [
    "#repeat an array\n",
    "a"
   ]
  },
  {
   "cell_type": "code",
   "execution_count": 33,
   "id": "8e3efc73-1974-47c3-a298-76c1c34acc0e",
   "metadata": {},
   "outputs": [
    {
     "data": {
      "text/plain": [
       "array([1, 1, 1, 1, 2, 2, 2, 2, 3, 3, 3, 3])"
      ]
     },
     "execution_count": 33,
     "metadata": {},
     "output_type": "execute_result"
    }
   ],
   "source": [
    "np.repeat(a,4)   #repeat 4 times"
   ]
  },
  {
   "cell_type": "code",
   "execution_count": null,
   "id": "d809b7e7-81b3-40b9-9779-eb0afa470262",
   "metadata": {},
   "outputs": [],
   "source": []
  },
  {
   "cell_type": "code",
   "execution_count": 34,
   "id": "8bbec967-fcb1-4834-932f-d8e752f229fd",
   "metadata": {},
   "outputs": [
    {
     "data": {
      "text/plain": [
       "array([[2, 1, 2],\n",
       "       [2, 1, 1],\n",
       "       [2, 2, 1]])"
      ]
     },
     "execution_count": 34,
     "metadata": {},
     "output_type": "execute_result"
    }
   ],
   "source": [
    "arr1"
   ]
  },
  {
   "cell_type": "code",
   "execution_count": 35,
   "id": "12af5365-d663-44dd-ba74-4767a179b5d1",
   "metadata": {},
   "outputs": [
    {
     "data": {
      "text/plain": [
       "array([2, 2, 1, 1, 2, 2, 2, 2, 1, 1, 1, 1, 2, 2, 2, 2, 1, 1])"
      ]
     },
     "execution_count": 35,
     "metadata": {},
     "output_type": "execute_result"
    }
   ],
   "source": [
    "np.repeat(arr1, 2)"
   ]
  },
  {
   "cell_type": "code",
   "execution_count": 38,
   "id": "dad6c77b-139d-4b96-9c75-c70c8ce8ca8c",
   "metadata": {},
   "outputs": [
    {
     "data": {
      "text/plain": [
       "array([[2, 1, 2],\n",
       "       [2, 1, 2],\n",
       "       [2, 1, 1],\n",
       "       [2, 1, 1],\n",
       "       [2, 2, 1],\n",
       "       [2, 2, 1]])"
      ]
     },
     "execution_count": 38,
     "metadata": {},
     "output_type": "execute_result"
    }
   ],
   "source": [
    "np.repeat(arr1, 2, axis=0 )  #row wise it will repeat rowwise"
   ]
  },
  {
   "cell_type": "code",
   "execution_count": 39,
   "id": "2d187c35-1d93-4c4f-a892-efcf38ee5665",
   "metadata": {},
   "outputs": [
    {
     "data": {
      "text/plain": [
       "array([[2, 1, 2],\n",
       "       [2, 1, 2],\n",
       "       [2, 1, 2],\n",
       "       [2, 1, 1],\n",
       "       [2, 1, 1],\n",
       "       [2, 1, 1],\n",
       "       [2, 2, 1],\n",
       "       [2, 2, 1],\n",
       "       [2, 2, 1]])"
      ]
     },
     "execution_count": 39,
     "metadata": {},
     "output_type": "execute_result"
    }
   ],
   "source": [
    "np.repeat(arr1, 3, axis=0 ) "
   ]
  },
  {
   "cell_type": "code",
   "execution_count": 41,
   "id": "7dcd70c7-2f75-42b9-a020-01655935ab58",
   "metadata": {},
   "outputs": [
    {
     "data": {
      "text/plain": [
       "array([[2, 2, 2, 1, 1, 1, 2, 2, 2],\n",
       "       [2, 2, 2, 1, 1, 1, 1, 1, 1],\n",
       "       [2, 2, 2, 2, 2, 2, 1, 1, 1]])"
      ]
     },
     "execution_count": 41,
     "metadata": {},
     "output_type": "execute_result"
    }
   ],
   "source": [
    "np.repeat(arr1, 3, axis=1 )  #row wise it will repeat column wise"
   ]
  },
  {
   "cell_type": "code",
   "execution_count": null,
   "id": "aa912452-fc70-4556-bc5b-7843bd7ecf6e",
   "metadata": {},
   "outputs": [],
   "source": []
  },
  {
   "cell_type": "code",
   "execution_count": 44,
   "id": "ed61930a-1a5b-4f86-8924-3668053c1e53",
   "metadata": {},
   "outputs": [
    {
     "data": {
      "text/plain": [
       "array([[1],\n",
       "       [2],\n",
       "       [3]])"
      ]
     },
     "execution_count": 44,
     "metadata": {},
     "output_type": "execute_result"
    }
   ],
   "source": [
    "a"
   ]
  },
  {
   "cell_type": "code",
   "execution_count": 45,
   "id": "76fe3b23-a963-4f3e-801d-82649000ca4a",
   "metadata": {},
   "outputs": [],
   "source": [
    "#ROLL THe matrix>>\n",
    "#elements changes like>>\n",
    "#1>>2 , 2>>3, 3>>1"
   ]
  },
  {
   "cell_type": "code",
   "execution_count": 46,
   "id": "f374ea03-5de9-429b-b7bc-7464339b57ad",
   "metadata": {},
   "outputs": [
    {
     "data": {
      "text/plain": [
       "array([[3],\n",
       "       [1],\n",
       "       [2]])"
      ]
     },
     "execution_count": 46,
     "metadata": {},
     "output_type": "execute_result"
    }
   ],
   "source": [
    "np.roll(a, -2)"
   ]
  },
  {
   "cell_type": "code",
   "execution_count": 47,
   "id": "35384008-3f74-457a-9765-8992af5f9ea2",
   "metadata": {},
   "outputs": [
    {
     "data": {
      "text/plain": [
       "array([[2],\n",
       "       [3],\n",
       "       [1]])"
      ]
     },
     "execution_count": 47,
     "metadata": {},
     "output_type": "execute_result"
    }
   ],
   "source": [
    "np.roll(a, -1)"
   ]
  },
  {
   "cell_type": "code",
   "execution_count": 48,
   "id": "96602949-7eff-4d3a-a0f1-9818c919a861",
   "metadata": {},
   "outputs": [],
   "source": [
    "#rolling in 2 dimension>>"
   ]
  },
  {
   "cell_type": "code",
   "execution_count": 51,
   "id": "91c7d2c5-682c-46dd-9469-b0d5fa95a339",
   "metadata": {},
   "outputs": [],
   "source": [
    "c= np.array([[1,2], [3, 4], [5,6], [7,8]])"
   ]
  },
  {
   "cell_type": "code",
   "execution_count": 52,
   "id": "41a0aac6-3336-4172-8841-ca8b10665488",
   "metadata": {},
   "outputs": [
    {
     "data": {
      "text/plain": [
       "array([[1, 2],\n",
       "       [3, 4],\n",
       "       [5, 6],\n",
       "       [7, 8]])"
      ]
     },
     "execution_count": 52,
     "metadata": {},
     "output_type": "execute_result"
    }
   ],
   "source": [
    "c"
   ]
  },
  {
   "cell_type": "code",
   "execution_count": 55,
   "id": "2d7c531a-f83c-4a1a-929c-d2f10df71806",
   "metadata": {},
   "outputs": [
    {
     "data": {
      "text/plain": [
       "array([[3, 4],\n",
       "       [5, 6],\n",
       "       [7, 8],\n",
       "       [1, 2]])"
      ]
     },
     "execution_count": 55,
     "metadata": {},
     "output_type": "execute_result"
    }
   ],
   "source": [
    "np.roll(c, -2)"
   ]
  },
  {
   "cell_type": "code",
   "execution_count": 56,
   "id": "aedba14b-81a7-491f-9ece-32f90ee226f3",
   "metadata": {},
   "outputs": [
    {
     "data": {
      "text/plain": [
       "array([[7, 8],\n",
       "       [1, 2],\n",
       "       [3, 4],\n",
       "       [5, 6]])"
      ]
     },
     "execution_count": 56,
     "metadata": {},
     "output_type": "execute_result"
    }
   ],
   "source": [
    "#rotate in +ve direction\n",
    "np.roll(c, 2)"
   ]
  },
  {
   "cell_type": "code",
   "execution_count": 57,
   "id": "83794b75-c547-4215-b014-43a6a54c13ee",
   "metadata": {},
   "outputs": [
    {
     "data": {
      "text/plain": [
       "array([[5, 6],\n",
       "       [7, 8],\n",
       "       [1, 2],\n",
       "       [3, 4]])"
      ]
     },
     "execution_count": 57,
     "metadata": {},
     "output_type": "execute_result"
    }
   ],
   "source": [
    "#rolling on axis\n",
    "np.roll(c, 2, axis=0)"
   ]
  },
  {
   "cell_type": "code",
   "execution_count": 58,
   "id": "0e491594-6860-47ad-9d39-76a105af04f7",
   "metadata": {},
   "outputs": [],
   "source": [
    "#eariler there we have put 2 or -2 , the rotaion was in one was for inner dimension and one was for outher dimension\n",
    "\n",
    "#so in always in more than one dimension we have to provide axis =0"
   ]
  },
  {
   "cell_type": "code",
   "execution_count": null,
   "id": "be340ffe-ec5e-4690-af96-952ca091a2fe",
   "metadata": {},
   "outputs": [],
   "source": []
  },
  {
   "cell_type": "code",
   "execution_count": null,
   "id": "63eb5a84-7270-4df6-b369-830461b59aea",
   "metadata": {},
   "outputs": [],
   "source": []
  },
  {
   "cell_type": "code",
   "execution_count": 59,
   "id": "88a71892-1833-4329-93b5-b6bacb674c99",
   "metadata": {},
   "outputs": [],
   "source": [
    "#Some binaray operations>>\n"
   ]
  },
  {
   "cell_type": "code",
   "execution_count": 60,
   "id": "3b7f84e7-b08d-46d3-8ab5-f423fe3e2799",
   "metadata": {},
   "outputs": [
    {
     "data": {
      "text/plain": [
       "array([[2, 1, 2],\n",
       "       [2, 1, 1],\n",
       "       [2, 2, 1]])"
      ]
     },
     "execution_count": 60,
     "metadata": {},
     "output_type": "execute_result"
    }
   ],
   "source": [
    "arr1"
   ]
  },
  {
   "cell_type": "code",
   "execution_count": 61,
   "id": "dace2448-2518-4dc1-9800-621d1784b52f",
   "metadata": {},
   "outputs": [
    {
     "data": {
      "text/plain": [
       "array([[2, 1, 1],\n",
       "       [1, 2, 2],\n",
       "       [1, 2, 1]])"
      ]
     },
     "execution_count": 61,
     "metadata": {},
     "output_type": "execute_result"
    }
   ],
   "source": [
    "arr2"
   ]
  },
  {
   "cell_type": "code",
   "execution_count": 62,
   "id": "0e51af55-4e30-4634-aad0-4c520c00b46d",
   "metadata": {},
   "outputs": [
    {
     "data": {
      "text/plain": [
       "array([[4, 2, 3],\n",
       "       [3, 3, 3],\n",
       "       [3, 4, 2]])"
      ]
     },
     "execution_count": 62,
     "metadata": {},
     "output_type": "execute_result"
    }
   ],
   "source": [
    "#index wise \n",
    "arr1 + arr2"
   ]
  },
  {
   "cell_type": "code",
   "execution_count": 63,
   "id": "36c80850-2afa-4111-a685-37996968be8c",
   "metadata": {},
   "outputs": [
    {
     "data": {
      "text/plain": [
       "array([[ 0,  0,  1],\n",
       "       [ 1, -1, -1],\n",
       "       [ 1,  0,  0]])"
      ]
     },
     "execution_count": 63,
     "metadata": {},
     "output_type": "execute_result"
    }
   ],
   "source": [
    "arr1 - arr2"
   ]
  },
  {
   "cell_type": "code",
   "execution_count": 64,
   "id": "f6673a62-b193-46ae-a028-78d286b0e4b2",
   "metadata": {},
   "outputs": [
    {
     "data": {
      "text/plain": [
       "array([[4, 1, 2],\n",
       "       [2, 2, 2],\n",
       "       [2, 4, 1]])"
      ]
     },
     "execution_count": 64,
     "metadata": {},
     "output_type": "execute_result"
    }
   ],
   "source": [
    "arr1 * arr2"
   ]
  },
  {
   "cell_type": "code",
   "execution_count": 65,
   "id": "ed55c3ae-b138-424f-8dd1-76e264aa9475",
   "metadata": {},
   "outputs": [
    {
     "data": {
      "text/plain": [
       "array([[False, False,  True],\n",
       "       [ True, False, False],\n",
       "       [ True, False, False]])"
      ]
     },
     "execution_count": 65,
     "metadata": {},
     "output_type": "execute_result"
    }
   ],
   "source": [
    "arr1> arr2"
   ]
  },
  {
   "cell_type": "code",
   "execution_count": 66,
   "id": "061e3e36-0da3-4647-974f-c393508bc8f9",
   "metadata": {},
   "outputs": [
    {
     "data": {
      "text/plain": [
       "array([[-3, -2, -3],\n",
       "       [-3, -2, -2],\n",
       "       [-3, -3, -2]])"
      ]
     },
     "execution_count": 66,
     "metadata": {},
     "output_type": "execute_result"
    }
   ],
   "source": [
    "#negative of all value\n",
    "~arr1"
   ]
  },
  {
   "cell_type": "code",
   "execution_count": null,
   "id": "80d71751-838f-4544-9a13-28126b0c7dbb",
   "metadata": {},
   "outputs": [],
   "source": []
  },
  {
   "cell_type": "code",
   "execution_count": 67,
   "id": "a4eab309-c1e6-4e67-8e7d-de0b9b34d2ee",
   "metadata": {},
   "outputs": [],
   "source": [
    "#operation on numpy string array"
   ]
  },
  {
   "cell_type": "code",
   "execution_count": 68,
   "id": "bc02ef2d-8b7f-485e-998a-5bbf08bf29f9",
   "metadata": {},
   "outputs": [],
   "source": [
    "d  = np.array(['pw', 'skills'])"
   ]
  },
  {
   "cell_type": "code",
   "execution_count": 69,
   "id": "4b9f1b2c-0122-4ef4-8bc5-d0e2e5ede112",
   "metadata": {},
   "outputs": [
    {
     "data": {
      "text/plain": [
       "array(['pw', 'skills'], dtype='<U6')"
      ]
     },
     "execution_count": 69,
     "metadata": {},
     "output_type": "execute_result"
    }
   ],
   "source": [
    "d"
   ]
  },
  {
   "cell_type": "code",
   "execution_count": 70,
   "id": "f30207bd-eb7a-4f89-a0a1-0ea0cbab7685",
   "metadata": {},
   "outputs": [
    {
     "data": {
      "text/plain": [
       "array(['PW', 'SKILLS'], dtype='<U6')"
      ]
     },
     "execution_count": 70,
     "metadata": {},
     "output_type": "execute_result"
    }
   ],
   "source": [
    "np.char.upper(d)"
   ]
  },
  {
   "cell_type": "code",
   "execution_count": 71,
   "id": "ff816ee4-74d7-41f5-b351-2df96b0fb8bc",
   "metadata": {},
   "outputs": [
    {
     "data": {
      "text/plain": [
       "array(['Pw', 'Skills'], dtype='<U6')"
      ]
     },
     "execution_count": 71,
     "metadata": {},
     "output_type": "execute_result"
    }
   ],
   "source": [
    "np.char.capitalize(d)"
   ]
  },
  {
   "cell_type": "code",
   "execution_count": null,
   "id": "a00607ce-86d3-4843-8d4f-76921a7cf84c",
   "metadata": {},
   "outputs": [],
   "source": []
  },
  {
   "cell_type": "code",
   "execution_count": null,
   "id": "fdf478d6-81dc-4435-946e-a4b5e21d7ac9",
   "metadata": {},
   "outputs": [],
   "source": []
  },
  {
   "cell_type": "code",
   "execution_count": 72,
   "id": "821d22bc-40a7-4007-b240-b29b88893232",
   "metadata": {},
   "outputs": [],
   "source": [
    "#mathmatical functions>>\n"
   ]
  },
  {
   "cell_type": "code",
   "execution_count": 73,
   "id": "e49b025c-da26-47e2-870f-1ceac0726999",
   "metadata": {},
   "outputs": [
    {
     "data": {
      "text/plain": [
       "array([[2, 1, 2],\n",
       "       [2, 1, 1],\n",
       "       [2, 2, 1]])"
      ]
     },
     "execution_count": 73,
     "metadata": {},
     "output_type": "execute_result"
    }
   ],
   "source": [
    "arr1"
   ]
  },
  {
   "cell_type": "code",
   "execution_count": 74,
   "id": "dcc1e880-c2db-4352-bf4c-79a83ee6e1fd",
   "metadata": {},
   "outputs": [
    {
     "data": {
      "text/plain": [
       "array([[0.90929743, 0.84147098, 0.90929743],\n",
       "       [0.90929743, 0.84147098, 0.84147098],\n",
       "       [0.90929743, 0.90929743, 0.84147098]])"
      ]
     },
     "execution_count": 74,
     "metadata": {},
     "output_type": "execute_result"
    }
   ],
   "source": [
    "np.sin(arr1)   #sin value of array"
   ]
  },
  {
   "cell_type": "code",
   "execution_count": 75,
   "id": "877f32f6-c6af-4daf-88e0-eee550307847",
   "metadata": {},
   "outputs": [
    {
     "data": {
      "text/plain": [
       "array([[-0.41614684,  0.54030231, -0.41614684],\n",
       "       [-0.41614684,  0.54030231,  0.54030231],\n",
       "       [-0.41614684, -0.41614684,  0.54030231]])"
      ]
     },
     "execution_count": 75,
     "metadata": {},
     "output_type": "execute_result"
    }
   ],
   "source": [
    "np.cos(arr1)"
   ]
  },
  {
   "cell_type": "code",
   "execution_count": 76,
   "id": "a6091769-68dd-49ea-af83-4a0be90ce22b",
   "metadata": {},
   "outputs": [
    {
     "data": {
      "text/plain": [
       "array([[-2.18503986,  1.55740772, -2.18503986],\n",
       "       [-2.18503986,  1.55740772,  1.55740772],\n",
       "       [-2.18503986, -2.18503986,  1.55740772]])"
      ]
     },
     "execution_count": 76,
     "metadata": {},
     "output_type": "execute_result"
    }
   ],
   "source": [
    "np.tan(arr1)"
   ]
  },
  {
   "cell_type": "code",
   "execution_count": 77,
   "id": "60b75c91-eef4-4b27-acf1-5d430a57de6d",
   "metadata": {},
   "outputs": [
    {
     "data": {
      "text/plain": [
       "array([[0.30103, 0.     , 0.30103],\n",
       "       [0.30103, 0.     , 0.     ],\n",
       "       [0.30103, 0.30103, 0.     ]])"
      ]
     },
     "execution_count": 77,
     "metadata": {},
     "output_type": "execute_result"
    }
   ],
   "source": [
    "np.log10(arr1)"
   ]
  },
  {
   "cell_type": "code",
   "execution_count": 78,
   "id": "d055a355-1b6d-4bd2-b7a6-4376a562e601",
   "metadata": {},
   "outputs": [
    {
     "data": {
      "text/plain": [
       "array([[7.3890561 , 2.71828183, 7.3890561 ],\n",
       "       [7.3890561 , 2.71828183, 2.71828183],\n",
       "       [7.3890561 , 7.3890561 , 2.71828183]])"
      ]
     },
     "execution_count": 78,
     "metadata": {},
     "output_type": "execute_result"
    }
   ],
   "source": [
    "np.exp(arr1)"
   ]
  },
  {
   "cell_type": "code",
   "execution_count": 79,
   "id": "efc9067b-ac0f-4794-88ce-2519e335d12c",
   "metadata": {},
   "outputs": [
    {
     "data": {
      "text/plain": [
       "array([[8, 1, 8],\n",
       "       [8, 1, 1],\n",
       "       [8, 8, 1]], dtype=int32)"
      ]
     },
     "execution_count": 79,
     "metadata": {},
     "output_type": "execute_result"
    }
   ],
   "source": [
    "np.power(arr1, 3)"
   ]
  },
  {
   "cell_type": "code",
   "execution_count": 80,
   "id": "b9155f81-4351-4950-870a-389e9f000c57",
   "metadata": {},
   "outputs": [
    {
     "data": {
      "text/plain": [
       "1.5555555555555556"
      ]
     },
     "execution_count": 80,
     "metadata": {},
     "output_type": "execute_result"
    }
   ],
   "source": [
    "np.mean(arr1)"
   ]
  },
  {
   "cell_type": "code",
   "execution_count": 81,
   "id": "cbf9b9b6-ef81-42bc-a664-33cd9227c476",
   "metadata": {},
   "outputs": [
    {
     "data": {
      "text/plain": [
       "2"
      ]
     },
     "execution_count": 81,
     "metadata": {},
     "output_type": "execute_result"
    }
   ],
   "source": [
    "np.max(arr1)"
   ]
  },
  {
   "cell_type": "code",
   "execution_count": 82,
   "id": "aa9501c0-a0de-44a8-91b8-68aef20a611f",
   "metadata": {},
   "outputs": [
    {
     "data": {
      "text/plain": [
       "1"
      ]
     },
     "execution_count": 82,
     "metadata": {},
     "output_type": "execute_result"
    }
   ],
   "source": [
    "np.min(arr1)"
   ]
  },
  {
   "cell_type": "code",
   "execution_count": 83,
   "id": "d2fb34db-4c59-4430-9543-7708ba926397",
   "metadata": {},
   "outputs": [
    {
     "data": {
      "text/plain": [
       "0.4969039949999533"
      ]
     },
     "execution_count": 83,
     "metadata": {},
     "output_type": "execute_result"
    }
   ],
   "source": [
    "np.std(arr1)  #standard deviation"
   ]
  },
  {
   "cell_type": "code",
   "execution_count": 84,
   "id": "a6173366-2ba1-4a77-8f12-98002388d185",
   "metadata": {},
   "outputs": [
    {
     "data": {
      "text/plain": [
       "0.2469135802469136"
      ]
     },
     "execution_count": 84,
     "metadata": {},
     "output_type": "execute_result"
    }
   ],
   "source": [
    "np.var(arr1)  #variance"
   ]
  },
  {
   "cell_type": "code",
   "execution_count": null,
   "id": "e47a137f-043b-4502-8494-85ab50f8a92e",
   "metadata": {},
   "outputs": [],
   "source": []
  },
  {
   "cell_type": "code",
   "execution_count": null,
   "id": "da8f4c9f-6fea-495c-acad-ecd35dad87c8",
   "metadata": {},
   "outputs": [],
   "source": []
  },
  {
   "cell_type": "code",
   "execution_count": 85,
   "id": "68b0e609-6d25-4399-8002-a3fb2343f911",
   "metadata": {},
   "outputs": [
    {
     "data": {
      "text/plain": [
       "array([[ 0,  0,  1],\n",
       "       [ 1, -1, -1],\n",
       "       [ 1,  0,  0]])"
      ]
     },
     "execution_count": 85,
     "metadata": {},
     "output_type": "execute_result"
    }
   ],
   "source": [
    "arr1 - arr2"
   ]
  },
  {
   "cell_type": "code",
   "execution_count": 87,
   "id": "e5b19ff6-6578-4655-9789-35d09255c938",
   "metadata": {},
   "outputs": [
    {
     "data": {
      "text/plain": [
       "array([[ 0,  0,  1],\n",
       "       [ 1, -1, -1],\n",
       "       [ 1,  0,  0]])"
      ]
     },
     "execution_count": 87,
     "metadata": {},
     "output_type": "execute_result"
    }
   ],
   "source": [
    "#same thing can be acheived by>>\n",
    "np.subtract(arr1, arr2)"
   ]
  },
  {
   "cell_type": "code",
   "execution_count": 88,
   "id": "16824348-567b-4579-8b15-08a122f03f6d",
   "metadata": {},
   "outputs": [
    {
     "data": {
      "text/plain": [
       "array([[4, 1, 2],\n",
       "       [2, 2, 2],\n",
       "       [2, 4, 1]])"
      ]
     },
     "execution_count": 88,
     "metadata": {},
     "output_type": "execute_result"
    }
   ],
   "source": [
    "arr1 * arr2"
   ]
  },
  {
   "cell_type": "code",
   "execution_count": 89,
   "id": "7f8785ac-7c63-457c-8de8-0d9f045a7d8e",
   "metadata": {},
   "outputs": [
    {
     "data": {
      "text/plain": [
       "array([[4, 1, 2],\n",
       "       [2, 2, 2],\n",
       "       [2, 4, 1]])"
      ]
     },
     "execution_count": 89,
     "metadata": {},
     "output_type": "execute_result"
    }
   ],
   "source": [
    "#same thing can be acheived by>>\n",
    "np.multiply(arr1, arr2)"
   ]
  },
  {
   "cell_type": "code",
   "execution_count": 90,
   "id": "a60740ac-a74e-4688-ac74-7e9109edfc23",
   "metadata": {},
   "outputs": [
    {
     "data": {
      "text/plain": [
       "array([[0, 0, 0],\n",
       "       [0, 1, 1],\n",
       "       [0, 0, 0]])"
      ]
     },
     "execution_count": 90,
     "metadata": {},
     "output_type": "execute_result"
    }
   ],
   "source": [
    "\n",
    "np.mod(arr1, arr2)  #retun element wise remainder"
   ]
  },
  {
   "cell_type": "code",
   "execution_count": 91,
   "id": "e449f8e9-1538-4294-9bee-4a24ac2cc0de",
   "metadata": {},
   "outputs": [
    {
     "data": {
      "text/plain": [
       "array([[1.41421356, 1.        , 1.41421356],\n",
       "       [1.41421356, 1.        , 1.        ],\n",
       "       [1.41421356, 1.41421356, 1.        ]])"
      ]
     },
     "execution_count": 91,
     "metadata": {},
     "output_type": "execute_result"
    }
   ],
   "source": [
    "np.sqrt(arr1)"
   ]
  },
  {
   "cell_type": "code",
   "execution_count": null,
   "id": "3377e0db-f98b-4884-be90-6aaee23c46c0",
   "metadata": {},
   "outputs": [],
   "source": []
  },
  {
   "cell_type": "code",
   "execution_count": null,
   "id": "8cd0e86d-1a25-4a67-a37d-d8c46281bba0",
   "metadata": {},
   "outputs": [],
   "source": []
  },
  {
   "cell_type": "code",
   "execution_count": null,
   "id": "c9600a0e-d571-47b7-8826-0a249ef9a51c",
   "metadata": {},
   "outputs": [],
   "source": []
  },
  {
   "cell_type": "code",
   "execution_count": 92,
   "id": "5c92aee0-1a9c-421d-9b18-d7fd4eb0107e",
   "metadata": {},
   "outputs": [],
   "source": [
    "#SORT SEARCH>>"
   ]
  },
  {
   "cell_type": "code",
   "execution_count": 93,
   "id": "f22e088c-71b0-4779-b5a8-7cd4b579d20d",
   "metadata": {},
   "outputs": [],
   "source": [
    "e = np.array([5,6,1,2])"
   ]
  },
  {
   "cell_type": "code",
   "execution_count": 94,
   "id": "0828ab60-2250-40a9-a41d-519c53dbf557",
   "metadata": {},
   "outputs": [
    {
     "data": {
      "text/plain": [
       "array([5, 6, 1, 2])"
      ]
     },
     "execution_count": 94,
     "metadata": {},
     "output_type": "execute_result"
    }
   ],
   "source": [
    "e"
   ]
  },
  {
   "cell_type": "code",
   "execution_count": 95,
   "id": "c655c778-d2ea-44cb-886b-ffd3df2d4aa3",
   "metadata": {},
   "outputs": [
    {
     "data": {
      "text/plain": [
       "array([1, 2, 5, 6])"
      ]
     },
     "execution_count": 95,
     "metadata": {},
     "output_type": "execute_result"
    }
   ],
   "source": [
    "np.sort(e)  #it will give sorted array"
   ]
  },
  {
   "cell_type": "code",
   "execution_count": null,
   "id": "1f3d1c1c-47fc-491b-a374-7c5d91f37b99",
   "metadata": {},
   "outputs": [],
   "source": []
  },
  {
   "cell_type": "code",
   "execution_count": null,
   "id": "73c2a6a9-bb91-4b2d-8a6d-c8e85b44f2e5",
   "metadata": {},
   "outputs": [],
   "source": []
  },
  {
   "cell_type": "code",
   "execution_count": 96,
   "id": "1bc8449a-c357-48a9-a7ef-216663799b11",
   "metadata": {},
   "outputs": [],
   "source": [
    "f=  np.array([5, 199, 200, 6, 7, 8])"
   ]
  },
  {
   "cell_type": "code",
   "execution_count": 97,
   "id": "82fe14f4-7830-4937-8e39-fd0a659de837",
   "metadata": {},
   "outputs": [
    {
     "data": {
      "text/plain": [
       "array([  5, 199, 200,   6,   7,   8])"
      ]
     },
     "execution_count": 97,
     "metadata": {},
     "output_type": "execute_result"
    }
   ],
   "source": [
    "f"
   ]
  },
  {
   "cell_type": "code",
   "execution_count": 98,
   "id": "3bf3a77d-2c00-4f26-a380-9d8ef41fed48",
   "metadata": {},
   "outputs": [
    {
     "data": {
      "text/plain": [
       "array([  5,   6,   7,   8, 199, 200])"
      ]
     },
     "execution_count": 98,
     "metadata": {},
     "output_type": "execute_result"
    }
   ],
   "source": [
    "np.sort(f)"
   ]
  },
  {
   "cell_type": "code",
   "execution_count": 99,
   "id": "7d68dcfb-f0e1-4c94-98ba-adc718f459fc",
   "metadata": {},
   "outputs": [],
   "source": [
    "#now suppose we want to know that where one element is added in the array such that element remains sorted"
   ]
  },
  {
   "cell_type": "code",
   "execution_count": 100,
   "id": "6276d720-ddc6-438d-95f3-4bc82ef35da8",
   "metadata": {},
   "outputs": [],
   "source": [
    "#hame ek element add karna  hai issmai such that agar ham add akrte hai or to fir bhi array ki incresing or decressing order pe koi fark nhi padega\n"
   ]
  },
  {
   "cell_type": "code",
   "execution_count": 101,
   "id": "eb8cb776-00e5-4971-a5be-afc555b511ee",
   "metadata": {},
   "outputs": [
    {
     "data": {
      "text/plain": [
       "6"
      ]
     },
     "execution_count": 101,
     "metadata": {},
     "output_type": "execute_result"
    }
   ],
   "source": [
    "np.searchsorted(f, 170)  #Find indices where elements should be inserted to maintain order."
   ]
  },
  {
   "cell_type": "code",
   "execution_count": null,
   "id": "682de3f0-2a07-4fce-9e40-2b02558a9a1e",
   "metadata": {},
   "outputs": [],
   "source": []
  },
  {
   "cell_type": "code",
   "execution_count": null,
   "id": "f698d878-b3de-4d70-b1b3-fc57036bfd67",
   "metadata": {},
   "outputs": [],
   "source": []
  },
  {
   "cell_type": "code",
   "execution_count": 102,
   "id": "6cb3e922-423a-4db4-935e-207c4f728bfa",
   "metadata": {},
   "outputs": [],
   "source": [
    "f=  np.array([5, 199, 200, 6, 7, 8, 0,  0, 0,0])"
   ]
  },
  {
   "cell_type": "code",
   "execution_count": 103,
   "id": "bc162372-4894-40a7-90e9-edd7791987ad",
   "metadata": {},
   "outputs": [
    {
     "data": {
      "text/plain": [
       "6"
      ]
     },
     "execution_count": 103,
     "metadata": {},
     "output_type": "execute_result"
    }
   ],
   "source": [
    "#to know what are non zeros elements\n",
    "np.count_nonzero(f)"
   ]
  },
  {
   "cell_type": "code",
   "execution_count": 106,
   "id": "0b977236-15b3-4497-96fc-e460ff2d3ec5",
   "metadata": {},
   "outputs": [
    {
     "data": {
      "text/plain": [
       "array([  5, 199, 200,   6,   7,   8])"
      ]
     },
     "execution_count": 106,
     "metadata": {},
     "output_type": "execute_result"
    }
   ],
   "source": [
    "#value greater than 0\n",
    "f[f>0]"
   ]
  },
  {
   "cell_type": "code",
   "execution_count": 107,
   "id": "5b31b7bc-cc54-40a6-a4b3-01ff9cbba00d",
   "metadata": {},
   "outputs": [
    {
     "data": {
      "text/plain": [
       "(array([0, 1, 2, 3, 4, 5], dtype=int64),)"
      ]
     },
     "execution_count": 107,
     "metadata": {},
     "output_type": "execute_result"
    }
   ],
   "source": [
    "#samething can be done using >>\n",
    "np.where(f>0)"
   ]
  },
  {
   "cell_type": "code",
   "execution_count": 108,
   "id": "9e771046-cee7-44e8-a9a6-e64dd26392f0",
   "metadata": {},
   "outputs": [
    {
     "data": {
      "text/plain": [
       "array([  5, 199, 200,   6,   7,   8])"
      ]
     },
     "execution_count": 108,
     "metadata": {},
     "output_type": "execute_result"
    }
   ],
   "source": [
    "np.extract(f>0, f)"
   ]
  },
  {
   "cell_type": "code",
   "execution_count": null,
   "id": "22ce2e7c-dbc2-4f02-a070-fca351502f06",
   "metadata": {},
   "outputs": [],
   "source": []
  },
  {
   "cell_type": "code",
   "execution_count": null,
   "id": "538d663a-24a4-4eba-a78c-605796663358",
   "metadata": {},
   "outputs": [],
   "source": []
  },
  {
   "cell_type": "code",
   "execution_count": 109,
   "id": "b4d6c034-b66b-402f-b6df-11d0c6e6a02a",
   "metadata": {},
   "outputs": [],
   "source": [
    "#BIT SWAP>>"
   ]
  },
  {
   "cell_type": "code",
   "execution_count": 110,
   "id": "d592ceab-63c2-488a-8f01-9831928d52cf",
   "metadata": {},
   "outputs": [],
   "source": [
    "#we know every thing inside machine is stored in the form of 0 and 1\n",
    "#so byte reprsenation of any value can be given by byte swap"
   ]
  },
  {
   "cell_type": "code",
   "execution_count": 111,
   "id": "93945704-7db4-4e08-ba4f-7c2ae95940d9",
   "metadata": {},
   "outputs": [
    {
     "data": {
      "text/plain": [
       "array([  5, 199, 200,   6,   7,   8,   0,   0,   0,   0])"
      ]
     },
     "execution_count": 111,
     "metadata": {},
     "output_type": "execute_result"
    }
   ],
   "source": [
    "f"
   ]
  },
  {
   "cell_type": "code",
   "execution_count": 112,
   "id": "39143653-bb04-44ba-a244-3e4461ec57d4",
   "metadata": {},
   "outputs": [
    {
     "data": {
      "text/plain": [
       "array([  83886080, -956301312, -939524096,  100663296,  117440512,\n",
       "        134217728,          0,          0,          0,          0])"
      ]
     },
     "execution_count": 112,
     "metadata": {},
     "output_type": "execute_result"
    }
   ],
   "source": [
    "f.byteswap()  #Swap the bytes of the array elements"
   ]
  },
  {
   "cell_type": "code",
   "execution_count": null,
   "id": "6cfb9107-cf25-4a78-8ec8-81852ce3e436",
   "metadata": {},
   "outputs": [],
   "source": []
  },
  {
   "cell_type": "code",
   "execution_count": null,
   "id": "f4eaaae6-53c0-4f19-8a05-6b523b1605ce",
   "metadata": {},
   "outputs": [],
   "source": []
  },
  {
   "cell_type": "code",
   "execution_count": null,
   "id": "2b18cc69-ae58-450a-b8e3-31e27d444baf",
   "metadata": {},
   "outputs": [],
   "source": []
  },
  {
   "cell_type": "code",
   "execution_count": 113,
   "id": "ee1a649c-7ff8-48f4-b09a-d3dff53e2834",
   "metadata": {},
   "outputs": [],
   "source": [
    "#MATRIX .>> 2d array>> numpy provide flexiblity to work with matrix"
   ]
  },
  {
   "cell_type": "code",
   "execution_count": 114,
   "id": "496916fd-2869-4ce8-b5fc-5f22cc38d945",
   "metadata": {},
   "outputs": [],
   "source": [
    "import numpy.matlib as nm"
   ]
  },
  {
   "cell_type": "code",
   "execution_count": 116,
   "id": "29ad4499-cb90-4439-b76f-5a9b6fa2b7af",
   "metadata": {},
   "outputs": [
    {
     "data": {
      "text/plain": [
       "matrix([[0., 0., 0., 0., 0.]])"
      ]
     },
     "execution_count": 116,
     "metadata": {},
     "output_type": "execute_result"
    }
   ],
   "source": [
    "nm.zeros(5)  #with this we are able to genrate 2d matrix"
   ]
  },
  {
   "cell_type": "code",
   "execution_count": null,
   "id": "80079788-6b97-4f9c-8410-bd5518e5c7ab",
   "metadata": {},
   "outputs": [],
   "source": []
  },
  {
   "cell_type": "code",
   "execution_count": 117,
   "id": "f19f42a3-7249-4594-be18-553a5b3619f2",
   "metadata": {},
   "outputs": [
    {
     "data": {
      "text/plain": [
       "matrix([[1., 1., 1., 1.],\n",
       "        [1., 1., 1., 1.],\n",
       "        [1., 1., 1., 1.]])"
      ]
     },
     "execution_count": 117,
     "metadata": {},
     "output_type": "execute_result"
    }
   ],
   "source": [
    "nm.ones((3,4))"
   ]
  },
  {
   "cell_type": "code",
   "execution_count": null,
   "id": "7535d3c0-1b86-4155-b41f-cccb144f506e",
   "metadata": {},
   "outputs": [],
   "source": []
  },
  {
   "cell_type": "code",
   "execution_count": null,
   "id": "8449053b-7f88-46c4-886b-0ce7e4844eaa",
   "metadata": {},
   "outputs": [],
   "source": []
  },
  {
   "cell_type": "code",
   "execution_count": 118,
   "id": "df5336f0-5955-456a-bebb-5a2d76575c00",
   "metadata": {},
   "outputs": [],
   "source": [
    "#NUMPY LINER ALGEBRA>>"
   ]
  },
  {
   "cell_type": "code",
   "execution_count": 119,
   "id": "01f1886d-dabb-49b0-b151-73deae2fb8a1",
   "metadata": {},
   "outputs": [],
   "source": [
    "#liner aglebra>> liner algebra a barnch of mathmatics where we solve algebric condtions"
   ]
  },
  {
   "cell_type": "code",
   "execution_count": 124,
   "id": "4053c4ba-dbb6-4cfd-8eca-485e3ea2b892",
   "metadata": {},
   "outputs": [],
   "source": [
    "arr1 = np.random.randint(1, 10, (3,3))\n",
    "arr2 = np.random.randint(1, 10, (3,3))"
   ]
  },
  {
   "cell_type": "code",
   "execution_count": 125,
   "id": "b84c7eb4-ed2f-4dd0-a456-bf26b53510ef",
   "metadata": {},
   "outputs": [
    {
     "data": {
      "text/plain": [
       "array([[5, 3, 1],\n",
       "       [9, 3, 9],\n",
       "       [2, 2, 1]])"
      ]
     },
     "execution_count": 125,
     "metadata": {},
     "output_type": "execute_result"
    }
   ],
   "source": [
    "arr1"
   ]
  },
  {
   "cell_type": "code",
   "execution_count": 126,
   "id": "6fef1360-6970-47c5-9fb9-0ef52c90843b",
   "metadata": {},
   "outputs": [
    {
     "data": {
      "text/plain": [
       "array([[1, 2, 4],\n",
       "       [8, 7, 3],\n",
       "       [5, 2, 2]])"
      ]
     },
     "execution_count": 126,
     "metadata": {},
     "output_type": "execute_result"
    }
   ],
   "source": [
    "arr2"
   ]
  },
  {
   "cell_type": "code",
   "execution_count": 127,
   "id": "47f02542-c572-43eb-8ad2-c7dc931b5dc2",
   "metadata": {},
   "outputs": [
    {
     "data": {
      "text/plain": [
       "array([[34, 33, 31],\n",
       "       [78, 57, 63],\n",
       "       [23, 20, 16]])"
      ]
     },
     "execution_count": 127,
     "metadata": {},
     "output_type": "execute_result"
    }
   ],
   "source": [
    "#matrix mult>>\n",
    "arr1 @ arr2"
   ]
  },
  {
   "cell_type": "code",
   "execution_count": null,
   "id": "61e8c50c-7f26-40b3-8395-5f836a8d9062",
   "metadata": {},
   "outputs": [],
   "source": []
  },
  {
   "cell_type": "code",
   "execution_count": 128,
   "id": "473eff6b-2c0c-4eae-bc23-563fd05bde15",
   "metadata": {},
   "outputs": [],
   "source": [
    "#DETERMINANT>>"
   ]
  },
  {
   "cell_type": "code",
   "execution_count": 129,
   "id": "8b0b8601-708f-4f27-8e9e-f178d9a9a043",
   "metadata": {},
   "outputs": [
    {
     "data": {
      "text/plain": [
       "array([[5, 3, 1],\n",
       "       [9, 3, 9],\n",
       "       [2, 2, 1]])"
      ]
     },
     "execution_count": 129,
     "metadata": {},
     "output_type": "execute_result"
    }
   ],
   "source": [
    "arr1"
   ]
  },
  {
   "cell_type": "code",
   "execution_count": 130,
   "id": "15ceaaf1-dc95-48aa-9729-24dab2aced77",
   "metadata": {},
   "outputs": [
    {
     "data": {
      "text/plain": [
       "-36.00000000000003"
      ]
     },
     "execution_count": 130,
     "metadata": {},
     "output_type": "execute_result"
    }
   ],
   "source": [
    "np.linalg.det(arr1)"
   ]
  },
  {
   "cell_type": "code",
   "execution_count": 131,
   "id": "93479167-08e4-41c9-a70d-6f8bf6fd185c",
   "metadata": {},
   "outputs": [
    {
     "data": {
      "text/plain": [
       "array([[ 0.41666667,  0.02777778, -0.66666667],\n",
       "       [-0.25      , -0.08333333,  1.        ],\n",
       "       [-0.33333333,  0.11111111,  0.33333333]])"
      ]
     },
     "execution_count": 131,
     "metadata": {},
     "output_type": "execute_result"
    }
   ],
   "source": [
    "np.linalg.inv(arr1)  #inverse of a matrix"
   ]
  },
  {
   "cell_type": "code",
   "execution_count": null,
   "id": "26aeb9d7-91bc-4500-b839-5539162cfdb2",
   "metadata": {},
   "outputs": [],
   "source": []
  },
  {
   "cell_type": "code",
   "execution_count": null,
   "id": "2eb3791e-5913-4092-b140-2dbe085ee12b",
   "metadata": {},
   "outputs": [],
   "source": []
  },
  {
   "cell_type": "code",
   "execution_count": 137,
   "id": "6e872df5-f76f-47bd-a55a-55a72574e1c3",
   "metadata": {},
   "outputs": [],
   "source": [
    "#sOLVING SYSTEM OF LINER EQUATION"
   ]
  },
  {
   "cell_type": "code",
   "execution_count": 138,
   "id": "253f5c93-1be3-4f57-ab5b-a86a76727741",
   "metadata": {},
   "outputs": [],
   "source": [
    "a = np.array([[7, 5.3, -3], [3, -5, 2], [5, 3, -7]])"
   ]
  },
  {
   "cell_type": "code",
   "execution_count": 139,
   "id": "83ba1dce-4193-4dfa-b4ff-0eb0db88d704",
   "metadata": {},
   "outputs": [
    {
     "data": {
      "text/plain": [
       "array([[ 7. ,  5.3, -3. ],\n",
       "       [ 3. , -5. ,  2. ],\n",
       "       [ 5. ,  3. , -7. ]])"
      ]
     },
     "execution_count": 139,
     "metadata": {},
     "output_type": "execute_result"
    }
   ],
   "source": [
    "a"
   ]
  },
  {
   "cell_type": "code",
   "execution_count": 140,
   "id": "87b6c10d-615b-4226-86de-5b47c3f76d64",
   "metadata": {},
   "outputs": [],
   "source": [
    "b   = np.array([16, 8, 0])"
   ]
  },
  {
   "cell_type": "code",
   "execution_count": 141,
   "id": "5cde5d30-8a35-4a4a-9208-a2a58f1c8b41",
   "metadata": {},
   "outputs": [
    {
     "data": {
      "text/plain": [
       "array([2.59630607, 0.84432718, 2.21635884])"
      ]
     },
     "execution_count": 141,
     "metadata": {},
     "output_type": "execute_result"
    }
   ],
   "source": [
    "np.linalg.solve(a, b)  #Solve a linear matrix equation, or system of linear scalar equations."
   ]
  },
  {
   "cell_type": "code",
   "execution_count": 142,
   "id": "4434872e-b2cd-4827-9a49-d38ed6998939",
   "metadata": {},
   "outputs": [],
   "source": [
    "#so, these are value of x, y and z"
   ]
  },
  {
   "cell_type": "code",
   "execution_count": null,
   "id": "b0083efc-16cb-462f-a037-e04c5c3a6ca9",
   "metadata": {},
   "outputs": [],
   "source": []
  }
 ],
 "metadata": {
  "kernelspec": {
   "display_name": "Python 3 (ipykernel)",
   "language": "python",
   "name": "python3"
  },
  "language_info": {
   "codemirror_mode": {
    "name": "ipython",
    "version": 3
   },
   "file_extension": ".py",
   "mimetype": "text/x-python",
   "name": "python",
   "nbconvert_exporter": "python",
   "pygments_lexer": "ipython3",
   "version": "3.12.7"
  }
 },
 "nbformat": 4,
 "nbformat_minor": 5
}
